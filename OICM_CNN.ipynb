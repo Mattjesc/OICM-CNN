{
 "cells": [
  {
   "cell_type": "code",
   "execution_count": 1,
   "metadata": {},
   "outputs": [
    {
     "name": "stderr",
     "output_type": "stream",
     "text": [
      "2024-09-02 17:17:54.668266: I tensorflow/core/util/port.cc:153] oneDNN custom operations are on. You may see slightly different numerical results due to floating-point round-off errors from different computation orders. To turn them off, set the environment variable `TF_ENABLE_ONEDNN_OPTS=0`.\n",
      "2024-09-02 17:17:54.875008: E external/local_xla/xla/stream_executor/cuda/cuda_fft.cc:485] Unable to register cuFFT factory: Attempting to register factory for plugin cuFFT when one has already been registered\n",
      "2024-09-02 17:17:54.957471: E external/local_xla/xla/stream_executor/cuda/cuda_dnn.cc:8454] Unable to register cuDNN factory: Attempting to register factory for plugin cuDNN when one has already been registered\n",
      "2024-09-02 17:17:54.979142: E external/local_xla/xla/stream_executor/cuda/cuda_blas.cc:1452] Unable to register cuBLAS factory: Attempting to register factory for plugin cuBLAS when one has already been registered\n",
      "2024-09-02 17:17:55.154846: I tensorflow/core/platform/cpu_feature_guard.cc:210] This TensorFlow binary is optimized to use available CPU instructions in performance-critical operations.\n",
      "To enable the following instructions: AVX2 AVX512F AVX512_VNNI AVX512_BF16 FMA, in other operations, rebuild TensorFlow with the appropriate compiler flags.\n",
      "2024-09-02 17:17:56.001938: W tensorflow/compiler/tf2tensorrt/utils/py_utils.cc:38] TF-TRT Warning: Could not find TensorRT\n",
      "/home/matt/CIFAR10_CNN_Project/venv/lib/python3.12/site-packages/keras/src/layers/convolutional/base_conv.py:107: UserWarning: Do not pass an `input_shape`/`input_dim` argument to a layer. When using Sequential models, prefer using an `Input(shape)` object as the first layer in the model instead.\n",
      "  super().__init__(activity_regularizer=activity_regularizer, **kwargs)\n",
      "WARNING: All log messages before absl::InitializeLog() is called are written to STDERR\n",
      "I0000 00:00:1725268677.660476 1015982 cuda_executor.cc:1001] could not open file to read NUMA node: /sys/bus/pci/devices/0000:01:00.0/numa_node\n",
      "Your kernel may have been built without NUMA support.\n",
      "I0000 00:00:1725268677.805952 1015982 cuda_executor.cc:1001] could not open file to read NUMA node: /sys/bus/pci/devices/0000:01:00.0/numa_node\n",
      "Your kernel may have been built without NUMA support.\n",
      "I0000 00:00:1725268677.806019 1015982 cuda_executor.cc:1001] could not open file to read NUMA node: /sys/bus/pci/devices/0000:01:00.0/numa_node\n",
      "Your kernel may have been built without NUMA support.\n",
      "I0000 00:00:1725268677.808150 1015982 cuda_executor.cc:1001] could not open file to read NUMA node: /sys/bus/pci/devices/0000:01:00.0/numa_node\n",
      "Your kernel may have been built without NUMA support.\n",
      "I0000 00:00:1725268677.808195 1015982 cuda_executor.cc:1001] could not open file to read NUMA node: /sys/bus/pci/devices/0000:01:00.0/numa_node\n",
      "Your kernel may have been built without NUMA support.\n",
      "I0000 00:00:1725268677.808216 1015982 cuda_executor.cc:1001] could not open file to read NUMA node: /sys/bus/pci/devices/0000:01:00.0/numa_node\n",
      "Your kernel may have been built without NUMA support.\n",
      "I0000 00:00:1725268677.931324 1015982 cuda_executor.cc:1001] could not open file to read NUMA node: /sys/bus/pci/devices/0000:01:00.0/numa_node\n",
      "Your kernel may have been built without NUMA support.\n",
      "I0000 00:00:1725268677.931374 1015982 cuda_executor.cc:1001] could not open file to read NUMA node: /sys/bus/pci/devices/0000:01:00.0/numa_node\n",
      "Your kernel may have been built without NUMA support.\n",
      "2024-09-02 17:17:57.931382: I tensorflow/core/common_runtime/gpu/gpu_device.cc:2112] Could not identify NUMA node of platform GPU id 0, defaulting to 0.  Your kernel may not have been built with NUMA support.\n",
      "I0000 00:00:1725268677.931415 1015982 cuda_executor.cc:1001] could not open file to read NUMA node: /sys/bus/pci/devices/0000:01:00.0/numa_node\n",
      "Your kernel may have been built without NUMA support.\n",
      "2024-09-02 17:17:57.931940: I tensorflow/core/common_runtime/gpu/gpu_device.cc:2021] Created device /job:localhost/replica:0/task:0/device:GPU:0 with 21770 MB memory:  -> device: 0, name: NVIDIA GeForce RTX 3090, pci bus id: 0000:01:00.0, compute capability: 8.6\n"
     ]
    },
    {
     "data": {
      "text/html": [
       "<pre style=\"white-space:pre;overflow-x:auto;line-height:normal;font-family:Menlo,'DejaVu Sans Mono',consolas,'Courier New',monospace\"><span style=\"font-weight: bold\">Model: \"sequential\"</span>\n",
       "</pre>\n"
      ],
      "text/plain": [
       "\u001b[1mModel: \"sequential\"\u001b[0m\n"
      ]
     },
     "metadata": {},
     "output_type": "display_data"
    },
    {
     "data": {
      "text/html": [
       "<pre style=\"white-space:pre;overflow-x:auto;line-height:normal;font-family:Menlo,'DejaVu Sans Mono',consolas,'Courier New',monospace\">┏━━━━━━━━━━━━━━━━━━━━━━━━━━━━━━━━━┳━━━━━━━━━━━━━━━━━━━━━━━━┳━━━━━━━━━━━━━━━┓\n",
       "┃<span style=\"font-weight: bold\"> Layer (type)                    </span>┃<span style=\"font-weight: bold\"> Output Shape           </span>┃<span style=\"font-weight: bold\">       Param # </span>┃\n",
       "┡━━━━━━━━━━━━━━━━━━━━━━━━━━━━━━━━━╇━━━━━━━━━━━━━━━━━━━━━━━━╇━━━━━━━━━━━━━━━┩\n",
       "│ conv2d_1 (<span style=\"color: #0087ff; text-decoration-color: #0087ff\">Conv2D</span>)               │ (<span style=\"color: #00d7ff; text-decoration-color: #00d7ff\">None</span>, <span style=\"color: #00af00; text-decoration-color: #00af00\">32</span>, <span style=\"color: #00af00; text-decoration-color: #00af00\">32</span>, <span style=\"color: #00af00; text-decoration-color: #00af00\">64</span>)     │         <span style=\"color: #00af00; text-decoration-color: #00af00\">1,792</span> │\n",
       "├─────────────────────────────────┼────────────────────────┼───────────────┤\n",
       "│ batch_norm_1                    │ (<span style=\"color: #00d7ff; text-decoration-color: #00d7ff\">None</span>, <span style=\"color: #00af00; text-decoration-color: #00af00\">32</span>, <span style=\"color: #00af00; text-decoration-color: #00af00\">32</span>, <span style=\"color: #00af00; text-decoration-color: #00af00\">64</span>)     │           <span style=\"color: #00af00; text-decoration-color: #00af00\">256</span> │\n",
       "│ (<span style=\"color: #0087ff; text-decoration-color: #0087ff\">BatchNormalization</span>)            │                        │               │\n",
       "├─────────────────────────────────┼────────────────────────┼───────────────┤\n",
       "│ conv2d_2 (<span style=\"color: #0087ff; text-decoration-color: #0087ff\">Conv2D</span>)               │ (<span style=\"color: #00d7ff; text-decoration-color: #00d7ff\">None</span>, <span style=\"color: #00af00; text-decoration-color: #00af00\">32</span>, <span style=\"color: #00af00; text-decoration-color: #00af00\">32</span>, <span style=\"color: #00af00; text-decoration-color: #00af00\">64</span>)     │        <span style=\"color: #00af00; text-decoration-color: #00af00\">36,928</span> │\n",
       "├─────────────────────────────────┼────────────────────────┼───────────────┤\n",
       "│ batch_norm_2                    │ (<span style=\"color: #00d7ff; text-decoration-color: #00d7ff\">None</span>, <span style=\"color: #00af00; text-decoration-color: #00af00\">32</span>, <span style=\"color: #00af00; text-decoration-color: #00af00\">32</span>, <span style=\"color: #00af00; text-decoration-color: #00af00\">64</span>)     │           <span style=\"color: #00af00; text-decoration-color: #00af00\">256</span> │\n",
       "│ (<span style=\"color: #0087ff; text-decoration-color: #0087ff\">BatchNormalization</span>)            │                        │               │\n",
       "├─────────────────────────────────┼────────────────────────┼───────────────┤\n",
       "│ max_pool_1 (<span style=\"color: #0087ff; text-decoration-color: #0087ff\">MaxPooling2D</span>)       │ (<span style=\"color: #00d7ff; text-decoration-color: #00d7ff\">None</span>, <span style=\"color: #00af00; text-decoration-color: #00af00\">16</span>, <span style=\"color: #00af00; text-decoration-color: #00af00\">16</span>, <span style=\"color: #00af00; text-decoration-color: #00af00\">64</span>)     │             <span style=\"color: #00af00; text-decoration-color: #00af00\">0</span> │\n",
       "├─────────────────────────────────┼────────────────────────┼───────────────┤\n",
       "│ conv2d_3 (<span style=\"color: #0087ff; text-decoration-color: #0087ff\">Conv2D</span>)               │ (<span style=\"color: #00d7ff; text-decoration-color: #00d7ff\">None</span>, <span style=\"color: #00af00; text-decoration-color: #00af00\">16</span>, <span style=\"color: #00af00; text-decoration-color: #00af00\">16</span>, <span style=\"color: #00af00; text-decoration-color: #00af00\">128</span>)    │        <span style=\"color: #00af00; text-decoration-color: #00af00\">73,856</span> │\n",
       "├─────────────────────────────────┼────────────────────────┼───────────────┤\n",
       "│ batch_norm_3                    │ (<span style=\"color: #00d7ff; text-decoration-color: #00d7ff\">None</span>, <span style=\"color: #00af00; text-decoration-color: #00af00\">16</span>, <span style=\"color: #00af00; text-decoration-color: #00af00\">16</span>, <span style=\"color: #00af00; text-decoration-color: #00af00\">128</span>)    │           <span style=\"color: #00af00; text-decoration-color: #00af00\">512</span> │\n",
       "│ (<span style=\"color: #0087ff; text-decoration-color: #0087ff\">BatchNormalization</span>)            │                        │               │\n",
       "├─────────────────────────────────┼────────────────────────┼───────────────┤\n",
       "│ conv2d_4 (<span style=\"color: #0087ff; text-decoration-color: #0087ff\">Conv2D</span>)               │ (<span style=\"color: #00d7ff; text-decoration-color: #00d7ff\">None</span>, <span style=\"color: #00af00; text-decoration-color: #00af00\">16</span>, <span style=\"color: #00af00; text-decoration-color: #00af00\">16</span>, <span style=\"color: #00af00; text-decoration-color: #00af00\">128</span>)    │       <span style=\"color: #00af00; text-decoration-color: #00af00\">147,584</span> │\n",
       "├─────────────────────────────────┼────────────────────────┼───────────────┤\n",
       "│ batch_norm_4                    │ (<span style=\"color: #00d7ff; text-decoration-color: #00d7ff\">None</span>, <span style=\"color: #00af00; text-decoration-color: #00af00\">16</span>, <span style=\"color: #00af00; text-decoration-color: #00af00\">16</span>, <span style=\"color: #00af00; text-decoration-color: #00af00\">128</span>)    │           <span style=\"color: #00af00; text-decoration-color: #00af00\">512</span> │\n",
       "│ (<span style=\"color: #0087ff; text-decoration-color: #0087ff\">BatchNormalization</span>)            │                        │               │\n",
       "├─────────────────────────────────┼────────────────────────┼───────────────┤\n",
       "│ max_pool_2 (<span style=\"color: #0087ff; text-decoration-color: #0087ff\">MaxPooling2D</span>)       │ (<span style=\"color: #00d7ff; text-decoration-color: #00d7ff\">None</span>, <span style=\"color: #00af00; text-decoration-color: #00af00\">8</span>, <span style=\"color: #00af00; text-decoration-color: #00af00\">8</span>, <span style=\"color: #00af00; text-decoration-color: #00af00\">128</span>)      │             <span style=\"color: #00af00; text-decoration-color: #00af00\">0</span> │\n",
       "├─────────────────────────────────┼────────────────────────┼───────────────┤\n",
       "│ conv2d_5 (<span style=\"color: #0087ff; text-decoration-color: #0087ff\">Conv2D</span>)               │ (<span style=\"color: #00d7ff; text-decoration-color: #00d7ff\">None</span>, <span style=\"color: #00af00; text-decoration-color: #00af00\">8</span>, <span style=\"color: #00af00; text-decoration-color: #00af00\">8</span>, <span style=\"color: #00af00; text-decoration-color: #00af00\">256</span>)      │       <span style=\"color: #00af00; text-decoration-color: #00af00\">295,168</span> │\n",
       "├─────────────────────────────────┼────────────────────────┼───────────────┤\n",
       "│ batch_norm_5                    │ (<span style=\"color: #00d7ff; text-decoration-color: #00d7ff\">None</span>, <span style=\"color: #00af00; text-decoration-color: #00af00\">8</span>, <span style=\"color: #00af00; text-decoration-color: #00af00\">8</span>, <span style=\"color: #00af00; text-decoration-color: #00af00\">256</span>)      │         <span style=\"color: #00af00; text-decoration-color: #00af00\">1,024</span> │\n",
       "│ (<span style=\"color: #0087ff; text-decoration-color: #0087ff\">BatchNormalization</span>)            │                        │               │\n",
       "├─────────────────────────────────┼────────────────────────┼───────────────┤\n",
       "│ conv2d_6 (<span style=\"color: #0087ff; text-decoration-color: #0087ff\">Conv2D</span>)               │ (<span style=\"color: #00d7ff; text-decoration-color: #00d7ff\">None</span>, <span style=\"color: #00af00; text-decoration-color: #00af00\">8</span>, <span style=\"color: #00af00; text-decoration-color: #00af00\">8</span>, <span style=\"color: #00af00; text-decoration-color: #00af00\">256</span>)      │       <span style=\"color: #00af00; text-decoration-color: #00af00\">590,080</span> │\n",
       "├─────────────────────────────────┼────────────────────────┼───────────────┤\n",
       "│ batch_norm_6                    │ (<span style=\"color: #00d7ff; text-decoration-color: #00d7ff\">None</span>, <span style=\"color: #00af00; text-decoration-color: #00af00\">8</span>, <span style=\"color: #00af00; text-decoration-color: #00af00\">8</span>, <span style=\"color: #00af00; text-decoration-color: #00af00\">256</span>)      │         <span style=\"color: #00af00; text-decoration-color: #00af00\">1,024</span> │\n",
       "│ (<span style=\"color: #0087ff; text-decoration-color: #0087ff\">BatchNormalization</span>)            │                        │               │\n",
       "├─────────────────────────────────┼────────────────────────┼───────────────┤\n",
       "│ max_pool_3 (<span style=\"color: #0087ff; text-decoration-color: #0087ff\">MaxPooling2D</span>)       │ (<span style=\"color: #00d7ff; text-decoration-color: #00d7ff\">None</span>, <span style=\"color: #00af00; text-decoration-color: #00af00\">4</span>, <span style=\"color: #00af00; text-decoration-color: #00af00\">4</span>, <span style=\"color: #00af00; text-decoration-color: #00af00\">256</span>)      │             <span style=\"color: #00af00; text-decoration-color: #00af00\">0</span> │\n",
       "├─────────────────────────────────┼────────────────────────┼───────────────┤\n",
       "│ flatten (<span style=\"color: #0087ff; text-decoration-color: #0087ff\">Flatten</span>)               │ (<span style=\"color: #00d7ff; text-decoration-color: #00d7ff\">None</span>, <span style=\"color: #00af00; text-decoration-color: #00af00\">4096</span>)           │             <span style=\"color: #00af00; text-decoration-color: #00af00\">0</span> │\n",
       "├─────────────────────────────────┼────────────────────────┼───────────────┤\n",
       "│ dense_1 (<span style=\"color: #0087ff; text-decoration-color: #0087ff\">Dense</span>)                 │ (<span style=\"color: #00d7ff; text-decoration-color: #00d7ff\">None</span>, <span style=\"color: #00af00; text-decoration-color: #00af00\">512</span>)            │     <span style=\"color: #00af00; text-decoration-color: #00af00\">2,097,664</span> │\n",
       "├─────────────────────────────────┼────────────────────────┼───────────────┤\n",
       "│ dropout_1 (<span style=\"color: #0087ff; text-decoration-color: #0087ff\">Dropout</span>)             │ (<span style=\"color: #00d7ff; text-decoration-color: #00d7ff\">None</span>, <span style=\"color: #00af00; text-decoration-color: #00af00\">512</span>)            │             <span style=\"color: #00af00; text-decoration-color: #00af00\">0</span> │\n",
       "├─────────────────────────────────┼────────────────────────┼───────────────┤\n",
       "│ dense_2 (<span style=\"color: #0087ff; text-decoration-color: #0087ff\">Dense</span>)                 │ (<span style=\"color: #00d7ff; text-decoration-color: #00d7ff\">None</span>, <span style=\"color: #00af00; text-decoration-color: #00af00\">10</span>)             │         <span style=\"color: #00af00; text-decoration-color: #00af00\">5,130</span> │\n",
       "└─────────────────────────────────┴────────────────────────┴───────────────┘\n",
       "</pre>\n"
      ],
      "text/plain": [
       "┏━━━━━━━━━━━━━━━━━━━━━━━━━━━━━━━━━┳━━━━━━━━━━━━━━━━━━━━━━━━┳━━━━━━━━━━━━━━━┓\n",
       "┃\u001b[1m \u001b[0m\u001b[1mLayer (type)                   \u001b[0m\u001b[1m \u001b[0m┃\u001b[1m \u001b[0m\u001b[1mOutput Shape          \u001b[0m\u001b[1m \u001b[0m┃\u001b[1m \u001b[0m\u001b[1m      Param #\u001b[0m\u001b[1m \u001b[0m┃\n",
       "┡━━━━━━━━━━━━━━━━━━━━━━━━━━━━━━━━━╇━━━━━━━━━━━━━━━━━━━━━━━━╇━━━━━━━━━━━━━━━┩\n",
       "│ conv2d_1 (\u001b[38;5;33mConv2D\u001b[0m)               │ (\u001b[38;5;45mNone\u001b[0m, \u001b[38;5;34m32\u001b[0m, \u001b[38;5;34m32\u001b[0m, \u001b[38;5;34m64\u001b[0m)     │         \u001b[38;5;34m1,792\u001b[0m │\n",
       "├─────────────────────────────────┼────────────────────────┼───────────────┤\n",
       "│ batch_norm_1                    │ (\u001b[38;5;45mNone\u001b[0m, \u001b[38;5;34m32\u001b[0m, \u001b[38;5;34m32\u001b[0m, \u001b[38;5;34m64\u001b[0m)     │           \u001b[38;5;34m256\u001b[0m │\n",
       "│ (\u001b[38;5;33mBatchNormalization\u001b[0m)            │                        │               │\n",
       "├─────────────────────────────────┼────────────────────────┼───────────────┤\n",
       "│ conv2d_2 (\u001b[38;5;33mConv2D\u001b[0m)               │ (\u001b[38;5;45mNone\u001b[0m, \u001b[38;5;34m32\u001b[0m, \u001b[38;5;34m32\u001b[0m, \u001b[38;5;34m64\u001b[0m)     │        \u001b[38;5;34m36,928\u001b[0m │\n",
       "├─────────────────────────────────┼────────────────────────┼───────────────┤\n",
       "│ batch_norm_2                    │ (\u001b[38;5;45mNone\u001b[0m, \u001b[38;5;34m32\u001b[0m, \u001b[38;5;34m32\u001b[0m, \u001b[38;5;34m64\u001b[0m)     │           \u001b[38;5;34m256\u001b[0m │\n",
       "│ (\u001b[38;5;33mBatchNormalization\u001b[0m)            │                        │               │\n",
       "├─────────────────────────────────┼────────────────────────┼───────────────┤\n",
       "│ max_pool_1 (\u001b[38;5;33mMaxPooling2D\u001b[0m)       │ (\u001b[38;5;45mNone\u001b[0m, \u001b[38;5;34m16\u001b[0m, \u001b[38;5;34m16\u001b[0m, \u001b[38;5;34m64\u001b[0m)     │             \u001b[38;5;34m0\u001b[0m │\n",
       "├─────────────────────────────────┼────────────────────────┼───────────────┤\n",
       "│ conv2d_3 (\u001b[38;5;33mConv2D\u001b[0m)               │ (\u001b[38;5;45mNone\u001b[0m, \u001b[38;5;34m16\u001b[0m, \u001b[38;5;34m16\u001b[0m, \u001b[38;5;34m128\u001b[0m)    │        \u001b[38;5;34m73,856\u001b[0m │\n",
       "├─────────────────────────────────┼────────────────────────┼───────────────┤\n",
       "│ batch_norm_3                    │ (\u001b[38;5;45mNone\u001b[0m, \u001b[38;5;34m16\u001b[0m, \u001b[38;5;34m16\u001b[0m, \u001b[38;5;34m128\u001b[0m)    │           \u001b[38;5;34m512\u001b[0m │\n",
       "│ (\u001b[38;5;33mBatchNormalization\u001b[0m)            │                        │               │\n",
       "├─────────────────────────────────┼────────────────────────┼───────────────┤\n",
       "│ conv2d_4 (\u001b[38;5;33mConv2D\u001b[0m)               │ (\u001b[38;5;45mNone\u001b[0m, \u001b[38;5;34m16\u001b[0m, \u001b[38;5;34m16\u001b[0m, \u001b[38;5;34m128\u001b[0m)    │       \u001b[38;5;34m147,584\u001b[0m │\n",
       "├─────────────────────────────────┼────────────────────────┼───────────────┤\n",
       "│ batch_norm_4                    │ (\u001b[38;5;45mNone\u001b[0m, \u001b[38;5;34m16\u001b[0m, \u001b[38;5;34m16\u001b[0m, \u001b[38;5;34m128\u001b[0m)    │           \u001b[38;5;34m512\u001b[0m │\n",
       "│ (\u001b[38;5;33mBatchNormalization\u001b[0m)            │                        │               │\n",
       "├─────────────────────────────────┼────────────────────────┼───────────────┤\n",
       "│ max_pool_2 (\u001b[38;5;33mMaxPooling2D\u001b[0m)       │ (\u001b[38;5;45mNone\u001b[0m, \u001b[38;5;34m8\u001b[0m, \u001b[38;5;34m8\u001b[0m, \u001b[38;5;34m128\u001b[0m)      │             \u001b[38;5;34m0\u001b[0m │\n",
       "├─────────────────────────────────┼────────────────────────┼───────────────┤\n",
       "│ conv2d_5 (\u001b[38;5;33mConv2D\u001b[0m)               │ (\u001b[38;5;45mNone\u001b[0m, \u001b[38;5;34m8\u001b[0m, \u001b[38;5;34m8\u001b[0m, \u001b[38;5;34m256\u001b[0m)      │       \u001b[38;5;34m295,168\u001b[0m │\n",
       "├─────────────────────────────────┼────────────────────────┼───────────────┤\n",
       "│ batch_norm_5                    │ (\u001b[38;5;45mNone\u001b[0m, \u001b[38;5;34m8\u001b[0m, \u001b[38;5;34m8\u001b[0m, \u001b[38;5;34m256\u001b[0m)      │         \u001b[38;5;34m1,024\u001b[0m │\n",
       "│ (\u001b[38;5;33mBatchNormalization\u001b[0m)            │                        │               │\n",
       "├─────────────────────────────────┼────────────────────────┼───────────────┤\n",
       "│ conv2d_6 (\u001b[38;5;33mConv2D\u001b[0m)               │ (\u001b[38;5;45mNone\u001b[0m, \u001b[38;5;34m8\u001b[0m, \u001b[38;5;34m8\u001b[0m, \u001b[38;5;34m256\u001b[0m)      │       \u001b[38;5;34m590,080\u001b[0m │\n",
       "├─────────────────────────────────┼────────────────────────┼───────────────┤\n",
       "│ batch_norm_6                    │ (\u001b[38;5;45mNone\u001b[0m, \u001b[38;5;34m8\u001b[0m, \u001b[38;5;34m8\u001b[0m, \u001b[38;5;34m256\u001b[0m)      │         \u001b[38;5;34m1,024\u001b[0m │\n",
       "│ (\u001b[38;5;33mBatchNormalization\u001b[0m)            │                        │               │\n",
       "├─────────────────────────────────┼────────────────────────┼───────────────┤\n",
       "│ max_pool_3 (\u001b[38;5;33mMaxPooling2D\u001b[0m)       │ (\u001b[38;5;45mNone\u001b[0m, \u001b[38;5;34m4\u001b[0m, \u001b[38;5;34m4\u001b[0m, \u001b[38;5;34m256\u001b[0m)      │             \u001b[38;5;34m0\u001b[0m │\n",
       "├─────────────────────────────────┼────────────────────────┼───────────────┤\n",
       "│ flatten (\u001b[38;5;33mFlatten\u001b[0m)               │ (\u001b[38;5;45mNone\u001b[0m, \u001b[38;5;34m4096\u001b[0m)           │             \u001b[38;5;34m0\u001b[0m │\n",
       "├─────────────────────────────────┼────────────────────────┼───────────────┤\n",
       "│ dense_1 (\u001b[38;5;33mDense\u001b[0m)                 │ (\u001b[38;5;45mNone\u001b[0m, \u001b[38;5;34m512\u001b[0m)            │     \u001b[38;5;34m2,097,664\u001b[0m │\n",
       "├─────────────────────────────────┼────────────────────────┼───────────────┤\n",
       "│ dropout_1 (\u001b[38;5;33mDropout\u001b[0m)             │ (\u001b[38;5;45mNone\u001b[0m, \u001b[38;5;34m512\u001b[0m)            │             \u001b[38;5;34m0\u001b[0m │\n",
       "├─────────────────────────────────┼────────────────────────┼───────────────┤\n",
       "│ dense_2 (\u001b[38;5;33mDense\u001b[0m)                 │ (\u001b[38;5;45mNone\u001b[0m, \u001b[38;5;34m10\u001b[0m)             │         \u001b[38;5;34m5,130\u001b[0m │\n",
       "└─────────────────────────────────┴────────────────────────┴───────────────┘\n"
      ]
     },
     "metadata": {},
     "output_type": "display_data"
    },
    {
     "data": {
      "text/html": [
       "<pre style=\"white-space:pre;overflow-x:auto;line-height:normal;font-family:Menlo,'DejaVu Sans Mono',consolas,'Courier New',monospace\"><span style=\"font-weight: bold\"> Total params: </span><span style=\"color: #00af00; text-decoration-color: #00af00\">3,251,786</span> (12.40 MB)\n",
       "</pre>\n"
      ],
      "text/plain": [
       "\u001b[1m Total params: \u001b[0m\u001b[38;5;34m3,251,786\u001b[0m (12.40 MB)\n"
      ]
     },
     "metadata": {},
     "output_type": "display_data"
    },
    {
     "data": {
      "text/html": [
       "<pre style=\"white-space:pre;overflow-x:auto;line-height:normal;font-family:Menlo,'DejaVu Sans Mono',consolas,'Courier New',monospace\"><span style=\"font-weight: bold\"> Trainable params: </span><span style=\"color: #00af00; text-decoration-color: #00af00\">3,249,994</span> (12.40 MB)\n",
       "</pre>\n"
      ],
      "text/plain": [
       "\u001b[1m Trainable params: \u001b[0m\u001b[38;5;34m3,249,994\u001b[0m (12.40 MB)\n"
      ]
     },
     "metadata": {},
     "output_type": "display_data"
    },
    {
     "data": {
      "text/html": [
       "<pre style=\"white-space:pre;overflow-x:auto;line-height:normal;font-family:Menlo,'DejaVu Sans Mono',consolas,'Courier New',monospace\"><span style=\"font-weight: bold\"> Non-trainable params: </span><span style=\"color: #00af00; text-decoration-color: #00af00\">1,792</span> (7.00 KB)\n",
       "</pre>\n"
      ],
      "text/plain": [
       "\u001b[1m Non-trainable params: \u001b[0m\u001b[38;5;34m1,792\u001b[0m (7.00 KB)\n"
      ]
     },
     "metadata": {},
     "output_type": "display_data"
    },
    {
     "name": "stdout",
     "output_type": "stream",
     "text": [
      "Learning rate for epoch 1 is 0.0001\n",
      "Epoch 1/80\n"
     ]
    },
    {
     "name": "stderr",
     "output_type": "stream",
     "text": [
      "/home/matt/CIFAR10_CNN_Project/venv/lib/python3.12/site-packages/keras/src/trainers/data_adapters/py_dataset_adapter.py:122: UserWarning: Your `PyDataset` class should call `super().__init__(**kwargs)` in its constructor. `**kwargs` can include `workers`, `use_multiprocessing`, `max_queue_size`. Do not pass these arguments to `fit()`, as they will be ignored.\n",
      "  self._warn_if_super_not_called()\n",
      "WARNING: All log messages before absl::InitializeLog() is called are written to STDERR\n",
      "I0000 00:00:1725268680.777243 1016928 service.cc:146] XLA service 0x7f17fc02cd40 initialized for platform CUDA (this does not guarantee that XLA will be used). Devices:\n",
      "I0000 00:00:1725268680.777271 1016928 service.cc:154]   StreamExecutor device (0): NVIDIA GeForce RTX 3090, Compute Capability 8.6\n",
      "2024-09-02 17:18:00.852315: I tensorflow/compiler/mlir/tensorflow/utils/dump_mlir_util.cc:268] disabling MLIR crash reproducer, set env var `MLIR_CRASH_REPRODUCER_DIRECTORY` to enable.\n",
      "2024-09-02 17:18:01.087736: I external/local_xla/xla/stream_executor/cuda/cuda_dnn.cc:531] Loaded cuDNN version 8907\n"
     ]
    },
    {
     "name": "stdout",
     "output_type": "stream",
     "text": [
      "\u001b[1m 16/781\u001b[0m \u001b[37m━━━━━━━━━━━━━━━━━━━━\u001b[0m \u001b[1m8s\u001b[0m 11ms/step - accuracy: 0.1341 - loss: 5.1167 "
     ]
    },
    {
     "name": "stderr",
     "output_type": "stream",
     "text": [
      "I0000 00:00:1725268684.028095 1016928 device_compiler.h:188] Compiled cluster using XLA!  This line is logged at most once for the lifetime of the process.\n"
     ]
    },
    {
     "name": "stdout",
     "output_type": "stream",
     "text": [
      "\u001b[1m781/781\u001b[0m \u001b[32m━━━━━━━━━━━━━━━━━━━━\u001b[0m\u001b[37m\u001b[0m \u001b[1m18s\u001b[0m 17ms/step - accuracy: 0.2997 - loss: 3.0464 - val_accuracy: 0.4903 - val_loss: 2.2624 - learning_rate: 1.0000e-04\n",
      "Learning rate for epoch 2 is 0.0001\n",
      "Epoch 2/80\n",
      "\u001b[1m  1/781\u001b[0m \u001b[37m━━━━━━━━━━━━━━━━━━━━\u001b[0m \u001b[1m4s\u001b[0m 6ms/step - accuracy: 0.3750 - loss: 2.6280"
     ]
    },
    {
     "name": "stderr",
     "output_type": "stream",
     "text": [
      "2024-09-02 17:18:17.289941: I tensorflow/core/framework/local_rendezvous.cc:404] Local rendezvous is aborting with status: OUT_OF_RANGE: End of sequence\n",
      "\t [[{{node IteratorGetNext}}]]\n",
      "2024-09-02 17:18:17.289979: I tensorflow/core/framework/local_rendezvous.cc:404] Local rendezvous is aborting with status: OUT_OF_RANGE: End of sequence\n",
      "\t [[{{node IteratorGetNext}}]]\n",
      "\t [[IteratorGetNext/_4]]\n",
      "2024-09-02 17:18:17.289990: I tensorflow/core/framework/local_rendezvous.cc:423] Local rendezvous recv item cancelled. Key hash: 11929540167347183446\n",
      "/home/matt/miniconda3/lib/python3.12/contextlib.py:158: UserWarning: Your input ran out of data; interrupting training. Make sure that your dataset or generator can generate at least `steps_per_epoch * epochs` batches. You may need to use the `.repeat()` function when building your dataset.\n",
      "  self.gen.throw(value)\n"
     ]
    },
    {
     "name": "stdout",
     "output_type": "stream",
     "text": [
      "\u001b[1m781/781\u001b[0m \u001b[32m━━━━━━━━━━━━━━━━━━━━\u001b[0m\u001b[37m\u001b[0m \u001b[1m0s\u001b[0m 549us/step - accuracy: 0.3750 - loss: 2.6280 - val_accuracy: 0.4933 - val_loss: 2.2507 - learning_rate: 1.0000e-04\n",
      "Learning rate for epoch 3 is 0.0001\n",
      "Epoch 3/80\n",
      "\u001b[1m781/781\u001b[0m \u001b[32m━━━━━━━━━━━━━━━━━━━━\u001b[0m\u001b[37m\u001b[0m \u001b[1m9s\u001b[0m 11ms/step - accuracy: 0.4444 - loss: 2.3573 - val_accuracy: 0.5387 - val_loss: 2.0356 - learning_rate: 1.0000e-04\n",
      "Learning rate for epoch 4 is 0.0001\n",
      "Epoch 4/80\n",
      "\u001b[1m  1/781\u001b[0m \u001b[37m━━━━━━━━━━━━━━━━━━━━\u001b[0m \u001b[1m4s\u001b[0m 5ms/step - accuracy: 0.4219 - loss: 2.2464"
     ]
    },
    {
     "name": "stderr",
     "output_type": "stream",
     "text": [
      "2024-09-02 17:18:26.772228: I tensorflow/core/framework/local_rendezvous.cc:404] Local rendezvous is aborting with status: OUT_OF_RANGE: End of sequence\n",
      "\t [[{{node IteratorGetNext}}]]\n",
      "\t [[IteratorGetNext/_4]]\n",
      "2024-09-02 17:18:26.772271: I tensorflow/core/framework/local_rendezvous.cc:423] Local rendezvous recv item cancelled. Key hash: 11929540167347183446\n"
     ]
    },
    {
     "name": "stdout",
     "output_type": "stream",
     "text": [
      "\u001b[1m781/781\u001b[0m \u001b[32m━━━━━━━━━━━━━━━━━━━━\u001b[0m\u001b[37m\u001b[0m \u001b[1m0s\u001b[0m 554us/step - accuracy: 0.4219 - loss: 2.2464 - val_accuracy: 0.5348 - val_loss: 2.0449 - learning_rate: 1.0000e-04\n",
      "Learning rate for epoch 5 is 0.0001\n",
      "Epoch 5/80\n",
      "\u001b[1m781/781\u001b[0m \u001b[32m━━━━━━━━━━━━━━━━━━━━\u001b[0m\u001b[37m\u001b[0m \u001b[1m9s\u001b[0m 11ms/step - accuracy: 0.5104 - loss: 2.0763 - val_accuracy: 0.5917 - val_loss: 1.7881 - learning_rate: 1.0000e-04\n",
      "Learning rate for epoch 6 is 0.0001\n",
      "Epoch 6/80\n",
      "\u001b[1m  1/781\u001b[0m \u001b[37m━━━━━━━━━━━━━━━━━━━━\u001b[0m \u001b[1m4s\u001b[0m 5ms/step - accuracy: 0.5312 - loss: 1.7886"
     ]
    },
    {
     "name": "stderr",
     "output_type": "stream",
     "text": [
      "2024-09-02 17:18:36.121873: I tensorflow/core/framework/local_rendezvous.cc:423] Local rendezvous recv item cancelled. Key hash: 11929540167347183446\n"
     ]
    },
    {
     "name": "stdout",
     "output_type": "stream",
     "text": [
      "\u001b[1m781/781\u001b[0m \u001b[32m━━━━━━━━━━━━━━━━━━━━\u001b[0m\u001b[37m\u001b[0m \u001b[1m0s\u001b[0m 525us/step - accuracy: 0.5312 - loss: 1.7886 - val_accuracy: 0.5869 - val_loss: 1.7970 - learning_rate: 1.0000e-04\n",
      "Learning rate for epoch 7 is 0.0001\n",
      "Epoch 7/80\n",
      "\u001b[1m781/781\u001b[0m \u001b[32m━━━━━━━━━━━━━━━━━━━━\u001b[0m\u001b[37m\u001b[0m \u001b[1m9s\u001b[0m 11ms/step - accuracy: 0.5447 - loss: 1.8785 - val_accuracy: 0.6149 - val_loss: 1.6005 - learning_rate: 1.0000e-04\n",
      "Learning rate for epoch 8 is 0.0001\n",
      "Epoch 8/80\n",
      "\u001b[1m  1/781\u001b[0m \u001b[37m━━━━━━━━━━━━━━━━━━━━\u001b[0m \u001b[1m3s\u001b[0m 5ms/step - accuracy: 0.5781 - loss: 1.5664"
     ]
    },
    {
     "name": "stderr",
     "output_type": "stream",
     "text": [
      "2024-09-02 17:18:45.290029: I tensorflow/core/framework/local_rendezvous.cc:404] Local rendezvous is aborting with status: OUT_OF_RANGE: End of sequence\n",
      "\t [[{{node IteratorGetNext}}]]\n",
      "\t [[IteratorGetNext/_4]]\n",
      "2024-09-02 17:18:45.290057: I tensorflow/core/framework/local_rendezvous.cc:423] Local rendezvous recv item cancelled. Key hash: 11929540167347183446\n"
     ]
    },
    {
     "name": "stdout",
     "output_type": "stream",
     "text": [
      "\u001b[1m781/781\u001b[0m \u001b[32m━━━━━━━━━━━━━━━━━━━━\u001b[0m\u001b[37m\u001b[0m \u001b[1m0s\u001b[0m 524us/step - accuracy: 0.5781 - loss: 1.5664 - val_accuracy: 0.6172 - val_loss: 1.5991 - learning_rate: 1.0000e-04\n",
      "Learning rate for epoch 9 is 0.0001\n",
      "Epoch 9/80\n",
      "\u001b[1m781/781\u001b[0m \u001b[32m━━━━━━━━━━━━━━━━━━━━\u001b[0m\u001b[37m\u001b[0m \u001b[1m9s\u001b[0m 11ms/step - accuracy: 0.5843 - loss: 1.6813 - val_accuracy: 0.6527 - val_loss: 1.4174 - learning_rate: 1.0000e-04\n",
      "Learning rate for epoch 10 is 0.0001\n",
      "Epoch 10/80\n",
      "\u001b[1m  1/781\u001b[0m \u001b[37m━━━━━━━━━━━━━━━━━━━━\u001b[0m \u001b[1m4s\u001b[0m 5ms/step - accuracy: 0.5938 - loss: 1.4148"
     ]
    },
    {
     "name": "stderr",
     "output_type": "stream",
     "text": [
      "2024-09-02 17:18:54.318548: I tensorflow/core/framework/local_rendezvous.cc:423] Local rendezvous recv item cancelled. Key hash: 11929540167347183446\n"
     ]
    },
    {
     "name": "stdout",
     "output_type": "stream",
     "text": [
      "\u001b[1m781/781\u001b[0m \u001b[32m━━━━━━━━━━━━━━━━━━━━\u001b[0m\u001b[37m\u001b[0m \u001b[1m0s\u001b[0m 525us/step - accuracy: 0.5938 - loss: 1.4148 - val_accuracy: 0.6552 - val_loss: 1.4166 - learning_rate: 1.0000e-04\n",
      "Learning rate for epoch 11 is 0.0001\n",
      "Epoch 11/80\n",
      "\u001b[1m781/781\u001b[0m \u001b[32m━━━━━━━━━━━━━━━━━━━━\u001b[0m\u001b[37m\u001b[0m \u001b[1m9s\u001b[0m 11ms/step - accuracy: 0.6091 - loss: 1.5276 - val_accuracy: 0.6975 - val_loss: 1.2385 - learning_rate: 1.0000e-04\n",
      "Learning rate for epoch 12 is 0.0001\n",
      "Epoch 12/80\n",
      "\u001b[1m  1/781\u001b[0m \u001b[37m━━━━━━━━━━━━━━━━━━━━\u001b[0m \u001b[1m3s\u001b[0m 5ms/step - accuracy: 0.5781 - loss: 1.4611"
     ]
    },
    {
     "name": "stderr",
     "output_type": "stream",
     "text": [
      "2024-09-02 17:19:03.357272: I tensorflow/core/framework/local_rendezvous.cc:423] Local rendezvous recv item cancelled. Key hash: 11929540167347183446\n"
     ]
    },
    {
     "name": "stdout",
     "output_type": "stream",
     "text": [
      "\u001b[1m781/781\u001b[0m \u001b[32m━━━━━━━━━━━━━━━━━━━━\u001b[0m\u001b[37m\u001b[0m \u001b[1m0s\u001b[0m 513us/step - accuracy: 0.5781 - loss: 1.4611 - val_accuracy: 0.6940 - val_loss: 1.2429 - learning_rate: 1.0000e-04\n",
      "Learning rate for epoch 13 is 0.0001\n",
      "Epoch 13/80\n",
      "\u001b[1m781/781\u001b[0m \u001b[32m━━━━━━━━━━━━━━━━━━━━\u001b[0m\u001b[37m\u001b[0m \u001b[1m9s\u001b[0m 11ms/step - accuracy: 0.6366 - loss: 1.3936 - val_accuracy: 0.6934 - val_loss: 1.2053 - learning_rate: 1.0000e-04\n",
      "Learning rate for epoch 14 is 0.0001\n",
      "Epoch 14/80\n",
      "\u001b[1m  1/781\u001b[0m \u001b[37m━━━━━━━━━━━━━━━━━━━━\u001b[0m \u001b[1m3s\u001b[0m 5ms/step - accuracy: 0.7031 - loss: 1.3279"
     ]
    },
    {
     "name": "stderr",
     "output_type": "stream",
     "text": [
      "2024-09-02 17:19:12.347784: I tensorflow/core/framework/local_rendezvous.cc:423] Local rendezvous recv item cancelled. Key hash: 11929540167347183446\n"
     ]
    },
    {
     "name": "stdout",
     "output_type": "stream",
     "text": [
      "\u001b[1m781/781\u001b[0m \u001b[32m━━━━━━━━━━━━━━━━━━━━\u001b[0m\u001b[37m\u001b[0m \u001b[1m0s\u001b[0m 515us/step - accuracy: 0.7031 - loss: 1.3279 - val_accuracy: 0.6923 - val_loss: 1.1988 - learning_rate: 1.0000e-04\n",
      "Learning rate for epoch 15 is 0.0001\n",
      "Epoch 15/80\n",
      "\u001b[1m781/781\u001b[0m \u001b[32m━━━━━━━━━━━━━━━━━━━━\u001b[0m\u001b[37m\u001b[0m \u001b[1m9s\u001b[0m 11ms/step - accuracy: 0.6570 - loss: 1.2912 - val_accuracy: 0.7038 - val_loss: 1.1154 - learning_rate: 1.0000e-04\n",
      "Learning rate for epoch 16 is 0.0001\n",
      "Epoch 16/80\n",
      "\u001b[1m  1/781\u001b[0m \u001b[37m━━━━━━━━━━━━━━━━━━━━\u001b[0m \u001b[1m4s\u001b[0m 5ms/step - accuracy: 0.6406 - loss: 1.2862"
     ]
    },
    {
     "name": "stderr",
     "output_type": "stream",
     "text": [
      "2024-09-02 17:19:21.317417: I tensorflow/core/framework/local_rendezvous.cc:404] Local rendezvous is aborting with status: OUT_OF_RANGE: End of sequence\n",
      "\t [[{{node IteratorGetNext}}]]\n",
      "\t [[IteratorGetNext/_4]]\n",
      "2024-09-02 17:19:21.317445: I tensorflow/core/framework/local_rendezvous.cc:423] Local rendezvous recv item cancelled. Key hash: 11929540167347183446\n"
     ]
    },
    {
     "name": "stdout",
     "output_type": "stream",
     "text": [
      "\u001b[1m781/781\u001b[0m \u001b[32m━━━━━━━━━━━━━━━━━━━━\u001b[0m\u001b[37m\u001b[0m \u001b[1m0s\u001b[0m 508us/step - accuracy: 0.6406 - loss: 1.2862 - val_accuracy: 0.7024 - val_loss: 1.1177 - learning_rate: 1.0000e-04\n",
      "Learning rate for epoch 17 is 0.0001\n",
      "Epoch 17/80\n",
      "\u001b[1m781/781\u001b[0m \u001b[32m━━━━━━━━━━━━━━━━━━━━\u001b[0m\u001b[37m\u001b[0m \u001b[1m9s\u001b[0m 11ms/step - accuracy: 0.6787 - loss: 1.1971 - val_accuracy: 0.7224 - val_loss: 1.0388 - learning_rate: 1.0000e-04\n",
      "Learning rate for epoch 18 is 0.0001\n",
      "Epoch 18/80\n",
      "\u001b[1m  1/781\u001b[0m \u001b[37m━━━━━━━━━━━━━━━━━━━━\u001b[0m \u001b[1m4s\u001b[0m 5ms/step - accuracy: 0.7031 - loss: 1.0506"
     ]
    },
    {
     "name": "stderr",
     "output_type": "stream",
     "text": [
      "2024-09-02 17:19:30.306268: I tensorflow/core/framework/local_rendezvous.cc:423] Local rendezvous recv item cancelled. Key hash: 11929540167347183446\n"
     ]
    },
    {
     "name": "stdout",
     "output_type": "stream",
     "text": [
      "\u001b[1m781/781\u001b[0m \u001b[32m━━━━━━━━━━━━━━━━━━━━\u001b[0m\u001b[37m\u001b[0m \u001b[1m0s\u001b[0m 509us/step - accuracy: 0.7031 - loss: 1.0506 - val_accuracy: 0.7188 - val_loss: 1.0498 - learning_rate: 1.0000e-04\n",
      "Learning rate for epoch 19 is 0.0001\n",
      "Epoch 19/80\n",
      "\u001b[1m781/781\u001b[0m \u001b[32m━━━━━━━━━━━━━━━━━━━━\u001b[0m\u001b[37m\u001b[0m \u001b[1m9s\u001b[0m 11ms/step - accuracy: 0.6972 - loss: 1.1184 - val_accuracy: 0.7232 - val_loss: 1.0338 - learning_rate: 1.0000e-04\n",
      "Learning rate for epoch 20 is 0.0001\n",
      "Epoch 20/80\n",
      "\u001b[1m  1/781\u001b[0m \u001b[37m━━━━━━━━━━━━━━━━━━━━\u001b[0m \u001b[1m4s\u001b[0m 5ms/step - accuracy: 0.7188 - loss: 0.9331"
     ]
    },
    {
     "name": "stderr",
     "output_type": "stream",
     "text": [
      "2024-09-02 17:19:39.262969: I tensorflow/core/framework/local_rendezvous.cc:423] Local rendezvous recv item cancelled. Key hash: 11929540167347183446\n"
     ]
    },
    {
     "name": "stdout",
     "output_type": "stream",
     "text": [
      "\u001b[1m781/781\u001b[0m \u001b[32m━━━━━━━━━━━━━━━━━━━━\u001b[0m\u001b[37m\u001b[0m \u001b[1m0s\u001b[0m 514us/step - accuracy: 0.7188 - loss: 0.9331 - val_accuracy: 0.7235 - val_loss: 1.0411 - learning_rate: 1.0000e-04\n",
      "Learning rate for epoch 21 is 0.0001\n",
      "Epoch 21/80\n",
      "\u001b[1m781/781\u001b[0m \u001b[32m━━━━━━━━━━━━━━━━━━━━\u001b[0m\u001b[37m\u001b[0m \u001b[1m9s\u001b[0m 11ms/step - accuracy: 0.7097 - loss: 1.0546 - val_accuracy: 0.7426 - val_loss: 0.9550 - learning_rate: 1.0000e-04\n",
      "Learning rate for epoch 22 is 0.0001\n",
      "Epoch 22/80\n",
      "\u001b[1m781/781\u001b[0m \u001b[32m━━━━━━━━━━━━━━━━━━━━\u001b[0m\u001b[37m\u001b[0m \u001b[1m0s\u001b[0m 524us/step - accuracy: 0.7031 - loss: 0.9891 - val_accuracy: 0.7445 - val_loss: 0.9526 - learning_rate: 1.0000e-04\n",
      "Learning rate for epoch 23 is 0.0001\n",
      "Epoch 23/80\n",
      "\u001b[1m781/781\u001b[0m \u001b[32m━━━━━━━━━━━━━━━━━━━━\u001b[0m\u001b[37m\u001b[0m \u001b[1m8s\u001b[0m 11ms/step - accuracy: 0.7247 - loss: 1.0018 - val_accuracy: 0.7534 - val_loss: 0.8928 - learning_rate: 1.0000e-04\n",
      "Learning rate for epoch 24 is 0.0001\n",
      "Epoch 24/80\n",
      "\u001b[1m  1/781\u001b[0m \u001b[37m━━━━━━━━━━━━━━━━━━━━\u001b[0m \u001b[1m4s\u001b[0m 5ms/step - accuracy: 0.8594 - loss: 0.7437"
     ]
    },
    {
     "name": "stderr",
     "output_type": "stream",
     "text": [
      "2024-09-02 17:19:57.210062: I tensorflow/core/framework/local_rendezvous.cc:423] Local rendezvous recv item cancelled. Key hash: 11929540167347183446\n"
     ]
    },
    {
     "name": "stdout",
     "output_type": "stream",
     "text": [
      "\u001b[1m781/781\u001b[0m \u001b[32m━━━━━━━━━━━━━━━━━━━━\u001b[0m\u001b[37m\u001b[0m \u001b[1m0s\u001b[0m 530us/step - accuracy: 0.8594 - loss: 0.7437 - val_accuracy: 0.7544 - val_loss: 0.8911 - learning_rate: 1.0000e-04\n",
      "Learning rate for epoch 25 is 0.0001\n",
      "Epoch 25/80\n",
      "\u001b[1m781/781\u001b[0m \u001b[32m━━━━━━━━━━━━━━━━━━━━\u001b[0m\u001b[37m\u001b[0m \u001b[1m9s\u001b[0m 11ms/step - accuracy: 0.7312 - loss: 0.9583 - val_accuracy: 0.7718 - val_loss: 0.8651 - learning_rate: 1.0000e-04\n",
      "Learning rate for epoch 26 is 0.0001\n",
      "Epoch 26/80\n",
      "\u001b[1m  1/781\u001b[0m \u001b[37m━━━━━━━━━━━━━━━━━━━━\u001b[0m \u001b[1m4s\u001b[0m 5ms/step - accuracy: 0.7969 - loss: 0.7664"
     ]
    },
    {
     "name": "stderr",
     "output_type": "stream",
     "text": [
      "2024-09-02 17:20:06.220166: I tensorflow/core/framework/local_rendezvous.cc:423] Local rendezvous recv item cancelled. Key hash: 11929540167347183446\n"
     ]
    },
    {
     "name": "stdout",
     "output_type": "stream",
     "text": [
      "\u001b[1m781/781\u001b[0m \u001b[32m━━━━━━━━━━━━━━━━━━━━\u001b[0m\u001b[37m\u001b[0m \u001b[1m0s\u001b[0m 521us/step - accuracy: 0.7969 - loss: 0.7664 - val_accuracy: 0.7711 - val_loss: 0.8626 - learning_rate: 1.0000e-04\n",
      "Learning rate for epoch 27 is 0.0001\n",
      "Epoch 27/80\n",
      "\u001b[1m781/781\u001b[0m \u001b[32m━━━━━━━━━━━━━━━━━━━━\u001b[0m\u001b[37m\u001b[0m \u001b[1m9s\u001b[0m 11ms/step - accuracy: 0.7504 - loss: 0.9072 - val_accuracy: 0.7794 - val_loss: 0.8200 - learning_rate: 1.0000e-04\n",
      "Learning rate for epoch 28 is 0.0001\n",
      "Epoch 28/80\n",
      "\u001b[1m781/781\u001b[0m \u001b[32m━━━━━━━━━━━━━━━━━━━━\u001b[0m\u001b[37m\u001b[0m \u001b[1m0s\u001b[0m 514us/step - accuracy: 0.6875 - loss: 1.0095 - val_accuracy: 0.7766 - val_loss: 0.8249 - learning_rate: 1.0000e-04\n",
      "Learning rate for epoch 29 is 0.0001\n",
      "Epoch 29/80\n",
      "\u001b[1m781/781\u001b[0m \u001b[32m━━━━━━━━━━━━━━━━━━━━\u001b[0m\u001b[37m\u001b[0m \u001b[1m9s\u001b[0m 11ms/step - accuracy: 0.7616 - loss: 0.8657 - val_accuracy: 0.7894 - val_loss: 0.7747 - learning_rate: 1.0000e-04\n",
      "Learning rate for epoch 30 is 0.0001\n",
      "Epoch 30/80\n",
      "\u001b[1m  1/781\u001b[0m \u001b[37m━━━━━━━━━━━━━━━━━━━━\u001b[0m \u001b[1m4s\u001b[0m 5ms/step - accuracy: 0.7656 - loss: 0.7273"
     ]
    },
    {
     "name": "stderr",
     "output_type": "stream",
     "text": [
      "2024-09-02 17:20:24.184946: I tensorflow/core/framework/local_rendezvous.cc:423] Local rendezvous recv item cancelled. Key hash: 11929540167347183446\n"
     ]
    },
    {
     "name": "stdout",
     "output_type": "stream",
     "text": [
      "\u001b[1m781/781\u001b[0m \u001b[32m━━━━━━━━━━━━━━━━━━━━\u001b[0m\u001b[37m\u001b[0m \u001b[1m0s\u001b[0m 525us/step - accuracy: 0.7656 - loss: 0.7273 - val_accuracy: 0.7895 - val_loss: 0.7703 - learning_rate: 1.0000e-04\n",
      "Learning rate for epoch 31 is 0.0001\n",
      "Epoch 31/80\n",
      "\u001b[1m781/781\u001b[0m \u001b[32m━━━━━━━━━━━━━━━━━━━━\u001b[0m\u001b[37m\u001b[0m \u001b[1m9s\u001b[0m 11ms/step - accuracy: 0.7727 - loss: 0.8166 - val_accuracy: 0.8083 - val_loss: 0.7209 - learning_rate: 1.0000e-04\n",
      "Learning rate for epoch 32 is 5e-05\n",
      "Epoch 32/80\n",
      "\u001b[1m  1/781\u001b[0m \u001b[37m━━━━━━━━━━━━━━━━━━━━\u001b[0m \u001b[1m4s\u001b[0m 5ms/step - accuracy: 0.7812 - loss: 0.8811"
     ]
    },
    {
     "name": "stderr",
     "output_type": "stream",
     "text": [
      "2024-09-02 17:20:33.142579: I tensorflow/core/framework/local_rendezvous.cc:404] Local rendezvous is aborting with status: OUT_OF_RANGE: End of sequence\n",
      "\t [[{{node IteratorGetNext}}]]\n",
      "\t [[IteratorGetNext/_4]]\n",
      "2024-09-02 17:20:33.142620: I tensorflow/core/framework/local_rendezvous.cc:423] Local rendezvous recv item cancelled. Key hash: 11929540167347183446\n"
     ]
    },
    {
     "name": "stdout",
     "output_type": "stream",
     "text": [
      "\u001b[1m781/781\u001b[0m \u001b[32m━━━━━━━━━━━━━━━━━━━━\u001b[0m\u001b[37m\u001b[0m \u001b[1m0s\u001b[0m 519us/step - accuracy: 0.7812 - loss: 0.8811 - val_accuracy: 0.8074 - val_loss: 0.7226 - learning_rate: 5.0000e-05\n",
      "Learning rate for epoch 33 is 5e-05\n",
      "Epoch 33/80\n",
      "\u001b[1m781/781\u001b[0m \u001b[32m━━━━━━━━━━━━━━━━━━━━\u001b[0m\u001b[37m\u001b[0m \u001b[1m9s\u001b[0m 11ms/step - accuracy: 0.7906 - loss: 0.7561 - val_accuracy: 0.8146 - val_loss: 0.6844 - learning_rate: 5.0000e-05\n",
      "Learning rate for epoch 34 is 5e-05\n",
      "Epoch 34/80\n",
      "\u001b[1m  1/781\u001b[0m \u001b[37m━━━━━━━━━━━━━━━━━━━━\u001b[0m \u001b[1m4s\u001b[0m 5ms/step - accuracy: 0.7656 - loss: 0.8559"
     ]
    },
    {
     "name": "stderr",
     "output_type": "stream",
     "text": [
      "2024-09-02 17:20:42.089733: I tensorflow/core/framework/local_rendezvous.cc:423] Local rendezvous recv item cancelled. Key hash: 11929540167347183446\n"
     ]
    },
    {
     "name": "stdout",
     "output_type": "stream",
     "text": [
      "\u001b[1m781/781\u001b[0m \u001b[32m━━━━━━━━━━━━━━━━━━━━\u001b[0m\u001b[37m\u001b[0m \u001b[1m0s\u001b[0m 519us/step - accuracy: 0.7656 - loss: 0.8559 - val_accuracy: 0.8155 - val_loss: 0.6863 - learning_rate: 5.0000e-05\n",
      "Learning rate for epoch 35 is 5e-05\n",
      "Epoch 35/80\n",
      "\u001b[1m781/781\u001b[0m \u001b[32m━━━━━━━━━━━━━━━━━━━━\u001b[0m\u001b[37m\u001b[0m \u001b[1m9s\u001b[0m 11ms/step - accuracy: 0.7979 - loss: 0.7284 - val_accuracy: 0.8123 - val_loss: 0.6969 - learning_rate: 5.0000e-05\n",
      "Learning rate for epoch 36 is 5e-05\n",
      "Epoch 36/80\n",
      "\u001b[1m  1/781\u001b[0m \u001b[37m━━━━━━━━━━━━━━━━━━━━\u001b[0m \u001b[1m3s\u001b[0m 5ms/step - accuracy: 0.7969 - loss: 0.7265"
     ]
    },
    {
     "name": "stderr",
     "output_type": "stream",
     "text": [
      "2024-09-02 17:20:51.166622: I tensorflow/core/framework/local_rendezvous.cc:423] Local rendezvous recv item cancelled. Key hash: 11929540167347183446\n"
     ]
    },
    {
     "name": "stdout",
     "output_type": "stream",
     "text": [
      "\u001b[1m781/781\u001b[0m \u001b[32m━━━━━━━━━━━━━━━━━━━━\u001b[0m\u001b[37m\u001b[0m \u001b[1m0s\u001b[0m 513us/step - accuracy: 0.7969 - loss: 0.7265 - val_accuracy: 0.8139 - val_loss: 0.6949 - learning_rate: 5.0000e-05\n",
      "Learning rate for epoch 37 is 5e-05\n",
      "Epoch 37/80\n",
      "\u001b[1m781/781\u001b[0m \u001b[32m━━━━━━━━━━━━━━━━━━━━\u001b[0m\u001b[37m\u001b[0m \u001b[1m9s\u001b[0m 11ms/step - accuracy: 0.8054 - loss: 0.7028 - val_accuracy: 0.8228 - val_loss: 0.6517 - learning_rate: 5.0000e-05\n",
      "Learning rate for epoch 38 is 5e-05\n",
      "Epoch 38/80\n",
      "\u001b[1m781/781\u001b[0m \u001b[32m━━━━━━━━━━━━━━━━━━━━\u001b[0m\u001b[37m\u001b[0m \u001b[1m0s\u001b[0m 520us/step - accuracy: 0.8281 - loss: 0.5602 - val_accuracy: 0.8216 - val_loss: 0.6544 - learning_rate: 5.0000e-05\n",
      "Learning rate for epoch 39 is 5e-05\n",
      "Epoch 39/80\n",
      "\u001b[1m781/781\u001b[0m \u001b[32m━━━━━━━━━━━━━━━━━━━━\u001b[0m\u001b[37m\u001b[0m \u001b[1m9s\u001b[0m 11ms/step - accuracy: 0.8072 - loss: 0.6902 - val_accuracy: 0.8240 - val_loss: 0.6411 - learning_rate: 5.0000e-05\n",
      "Learning rate for epoch 40 is 5e-05\n",
      "Epoch 40/80\n",
      "\u001b[1m  1/781\u001b[0m \u001b[37m━━━━━━━━━━━━━━━━━━━━\u001b[0m \u001b[1m3s\u001b[0m 5ms/step - accuracy: 0.7500 - loss: 0.8191"
     ]
    },
    {
     "name": "stderr",
     "output_type": "stream",
     "text": [
      "2024-09-02 17:21:09.101715: I tensorflow/core/framework/local_rendezvous.cc:423] Local rendezvous recv item cancelled. Key hash: 11929540167347183446\n"
     ]
    },
    {
     "name": "stdout",
     "output_type": "stream",
     "text": [
      "\u001b[1m781/781\u001b[0m \u001b[32m━━━━━━━━━━━━━━━━━━━━\u001b[0m\u001b[37m\u001b[0m \u001b[1m0s\u001b[0m 519us/step - accuracy: 0.7500 - loss: 0.8191 - val_accuracy: 0.8246 - val_loss: 0.6395 - learning_rate: 5.0000e-05\n",
      "Learning rate for epoch 41 is 5e-05\n",
      "Epoch 41/80\n",
      "\u001b[1m781/781\u001b[0m \u001b[32m━━━━━━━━━━━━━━━━━━━━\u001b[0m\u001b[37m\u001b[0m \u001b[1m9s\u001b[0m 11ms/step - accuracy: 0.8128 - loss: 0.6717 - val_accuracy: 0.8271 - val_loss: 0.6287 - learning_rate: 5.0000e-05\n",
      "Learning rate for epoch 42 is 5e-05\n",
      "Epoch 42/80\n",
      "\u001b[1m  1/781\u001b[0m \u001b[37m━━━━━━━━━━━━━━━━━━━━\u001b[0m \u001b[1m4s\u001b[0m 5ms/step - accuracy: 0.7969 - loss: 0.7193"
     ]
    },
    {
     "name": "stderr",
     "output_type": "stream",
     "text": [
      "2024-09-02 17:21:18.029158: I tensorflow/core/framework/local_rendezvous.cc:423] Local rendezvous recv item cancelled. Key hash: 11929540167347183446\n"
     ]
    },
    {
     "name": "stdout",
     "output_type": "stream",
     "text": [
      "\u001b[1m781/781\u001b[0m \u001b[32m━━━━━━━━━━━━━━━━━━━━\u001b[0m\u001b[37m\u001b[0m \u001b[1m0s\u001b[0m 511us/step - accuracy: 0.7969 - loss: 0.7193 - val_accuracy: 0.8264 - val_loss: 0.6300 - learning_rate: 5.0000e-05\n",
      "Learning rate for epoch 43 is 5e-05\n",
      "Epoch 43/80\n",
      "\u001b[1m781/781\u001b[0m \u001b[32m━━━━━━━━━━━━━━━━━━━━\u001b[0m\u001b[37m\u001b[0m \u001b[1m9s\u001b[0m 11ms/step - accuracy: 0.8180 - loss: 0.6452 - val_accuracy: 0.8424 - val_loss: 0.5773 - learning_rate: 5.0000e-05\n",
      "Learning rate for epoch 44 is 5e-05\n",
      "Epoch 44/80\n",
      "\u001b[1m  1/781\u001b[0m \u001b[37m━━━━━━━━━━━━━━━━━━━━\u001b[0m \u001b[1m3s\u001b[0m 5ms/step - accuracy: 0.8438 - loss: 0.5875"
     ]
    },
    {
     "name": "stderr",
     "output_type": "stream",
     "text": [
      "2024-09-02 17:21:27.047816: I tensorflow/core/framework/local_rendezvous.cc:423] Local rendezvous recv item cancelled. Key hash: 11929540167347183446\n"
     ]
    },
    {
     "name": "stdout",
     "output_type": "stream",
     "text": [
      "\u001b[1m781/781\u001b[0m \u001b[32m━━━━━━━━━━━━━━━━━━━━\u001b[0m\u001b[37m\u001b[0m \u001b[1m0s\u001b[0m 521us/step - accuracy: 0.8438 - loss: 0.5875 - val_accuracy: 0.8425 - val_loss: 0.5777 - learning_rate: 5.0000e-05\n",
      "Learning rate for epoch 45 is 5e-05\n",
      "Epoch 45/80\n",
      "\u001b[1m781/781\u001b[0m \u001b[32m━━━━━━━━━━━━━━━━━━━━\u001b[0m\u001b[37m\u001b[0m \u001b[1m9s\u001b[0m 11ms/step - accuracy: 0.8197 - loss: 0.6336 - val_accuracy: 0.8304 - val_loss: 0.6115 - learning_rate: 5.0000e-05\n",
      "Learning rate for epoch 46 is 5e-05\n",
      "Epoch 46/80\n",
      "\u001b[1m  1/781\u001b[0m \u001b[37m━━━━━━━━━━━━━━━━━━━━\u001b[0m \u001b[1m3s\u001b[0m 5ms/step - accuracy: 0.7969 - loss: 0.6344"
     ]
    },
    {
     "name": "stderr",
     "output_type": "stream",
     "text": [
      "2024-09-02 17:21:36.036217: I tensorflow/core/framework/local_rendezvous.cc:423] Local rendezvous recv item cancelled. Key hash: 11929540167347183446\n"
     ]
    },
    {
     "name": "stdout",
     "output_type": "stream",
     "text": [
      "\u001b[1m781/781\u001b[0m \u001b[32m━━━━━━━━━━━━━━━━━━━━\u001b[0m\u001b[37m\u001b[0m \u001b[1m0s\u001b[0m 514us/step - accuracy: 0.7969 - loss: 0.6344 - val_accuracy: 0.8292 - val_loss: 0.6190 - learning_rate: 5.0000e-05\n",
      "Learning rate for epoch 47 is 5e-05\n",
      "Epoch 47/80\n",
      "\u001b[1m781/781\u001b[0m \u001b[32m━━━━━━━━━━━━━━━━━━━━\u001b[0m\u001b[37m\u001b[0m \u001b[1m8s\u001b[0m 11ms/step - accuracy: 0.8253 - loss: 0.6150 - val_accuracy: 0.8319 - val_loss: 0.6113 - learning_rate: 5.0000e-05\n",
      "Learning rate for epoch 48 is 5e-05\n",
      "Epoch 48/80\n",
      "\u001b[1m  1/781\u001b[0m \u001b[37m━━━━━━━━━━━━━━━━━━━━\u001b[0m \u001b[1m3s\u001b[0m 5ms/step - accuracy: 0.8281 - loss: 0.5564\n",
      "Epoch 48: ReduceLROnPlateau reducing learning rate to 2.499999936844688e-05.\n",
      "\u001b[1m781/781\u001b[0m \u001b[32m━━━━━━━━━━━━━━━━━━━━\u001b[0m\u001b[37m\u001b[0m \u001b[1m0s\u001b[0m 517us/step - accuracy: 0.8281 - loss: 0.5564 - val_accuracy: 0.8318 - val_loss: 0.6097 - learning_rate: 5.0000e-05\n",
      "Learning rate for epoch 49 is 5e-05\n",
      "Epoch 49/80\n",
      "\u001b[1m781/781\u001b[0m \u001b[32m━━━━━━━━━━━━━━━━━━━━\u001b[0m\u001b[37m\u001b[0m \u001b[1m9s\u001b[0m 11ms/step - accuracy: 0.8269 - loss: 0.6061 - val_accuracy: 0.8430 - val_loss: 0.5768 - learning_rate: 5.0000e-05\n",
      "Learning rate for epoch 50 is 5e-05\n",
      "Epoch 50/80\n",
      "\u001b[1m781/781\u001b[0m \u001b[32m━━━━━━━━━━━━━━━━━━━━\u001b[0m\u001b[37m\u001b[0m \u001b[1m0s\u001b[0m 510us/step - accuracy: 0.7812 - loss: 0.7201 - val_accuracy: 0.8419 - val_loss: 0.5778 - learning_rate: 5.0000e-05\n",
      "Learning rate for epoch 51 is 5e-05\n",
      "Epoch 51/80\n",
      "\u001b[1m781/781\u001b[0m \u001b[32m━━━━━━━━━━━━━━━━━━━━\u001b[0m\u001b[37m\u001b[0m \u001b[1m9s\u001b[0m 11ms/step - accuracy: 0.8335 - loss: 0.5887 - val_accuracy: 0.8495 - val_loss: 0.5543 - learning_rate: 5.0000e-05\n",
      "Learning rate for epoch 52 is 1e-05\n",
      "Epoch 52/80\n",
      "\u001b[1m  1/781\u001b[0m \u001b[37m━━━━━━━━━━━━━━━━━━━━\u001b[0m \u001b[1m4s\u001b[0m 5ms/step - accuracy: 0.8281 - loss: 0.5203"
     ]
    },
    {
     "name": "stderr",
     "output_type": "stream",
     "text": [
      "2024-09-02 17:22:02.961059: I tensorflow/core/framework/local_rendezvous.cc:423] Local rendezvous recv item cancelled. Key hash: 11929540167347183446\n"
     ]
    },
    {
     "name": "stdout",
     "output_type": "stream",
     "text": [
      "\u001b[1m781/781\u001b[0m \u001b[32m━━━━━━━━━━━━━━━━━━━━\u001b[0m\u001b[37m\u001b[0m \u001b[1m0s\u001b[0m 518us/step - accuracy: 0.8281 - loss: 0.5203 - val_accuracy: 0.8492 - val_loss: 0.5540 - learning_rate: 1.0000e-05\n",
      "Learning rate for epoch 53 is 1e-05\n",
      "Epoch 53/80\n",
      "\u001b[1m781/781\u001b[0m \u001b[32m━━━━━━━━━━━━━━━━━━━━\u001b[0m\u001b[37m\u001b[0m \u001b[1m9s\u001b[0m 11ms/step - accuracy: 0.8411 - loss: 0.5657 - val_accuracy: 0.8526 - val_loss: 0.5293 - learning_rate: 1.0000e-05\n",
      "Learning rate for epoch 54 is 1e-05\n",
      "Epoch 54/80\n",
      "\u001b[1m  1/781\u001b[0m \u001b[37m━━━━━━━━━━━━━━━━━━━━\u001b[0m \u001b[1m4s\u001b[0m 5ms/step - accuracy: 0.7656 - loss: 0.6163"
     ]
    },
    {
     "name": "stderr",
     "output_type": "stream",
     "text": [
      "2024-09-02 17:22:12.076191: I tensorflow/core/framework/local_rendezvous.cc:423] Local rendezvous recv item cancelled. Key hash: 11929540167347183446\n"
     ]
    },
    {
     "name": "stdout",
     "output_type": "stream",
     "text": [
      "\u001b[1m781/781\u001b[0m \u001b[32m━━━━━━━━━━━━━━━━━━━━\u001b[0m\u001b[37m\u001b[0m \u001b[1m0s\u001b[0m 521us/step - accuracy: 0.7656 - loss: 0.6163 - val_accuracy: 0.8525 - val_loss: 0.5291 - learning_rate: 1.0000e-05\n",
      "Learning rate for epoch 55 is 1e-05\n",
      "Epoch 55/80\n",
      "\u001b[1m781/781\u001b[0m \u001b[32m━━━━━━━━━━━━━━━━━━━━\u001b[0m\u001b[37m\u001b[0m \u001b[1m9s\u001b[0m 11ms/step - accuracy: 0.8453 - loss: 0.5435 - val_accuracy: 0.8543 - val_loss: 0.5319 - learning_rate: 1.0000e-05\n",
      "Learning rate for epoch 56 is 1e-05\n",
      "Epoch 56/80\n",
      "\u001b[1m781/781\u001b[0m \u001b[32m━━━━━━━━━━━━━━━━━━━━\u001b[0m\u001b[37m\u001b[0m \u001b[1m0s\u001b[0m 512us/step - accuracy: 0.9531 - loss: 0.3247 - val_accuracy: 0.8543 - val_loss: 0.5318 - learning_rate: 1.0000e-05\n",
      "Learning rate for epoch 57 is 1e-05\n",
      "Epoch 57/80\n",
      "\u001b[1m781/781\u001b[0m \u001b[32m━━━━━━━━━━━━━━━━━━━━\u001b[0m\u001b[37m\u001b[0m \u001b[1m9s\u001b[0m 11ms/step - accuracy: 0.8488 - loss: 0.5388 - val_accuracy: 0.8520 - val_loss: 0.5394 - learning_rate: 1.0000e-05\n",
      "Learning rate for epoch 58 is 1e-05\n",
      "Epoch 58/80\n",
      "\u001b[1m  1/781\u001b[0m \u001b[37m━━━━━━━━━━━━━━━━━━━━\u001b[0m \u001b[1m3s\u001b[0m 5ms/step - accuracy: 0.9219 - loss: 0.3423"
     ]
    },
    {
     "name": "stderr",
     "output_type": "stream",
     "text": [
      "2024-09-02 17:22:30.168273: I tensorflow/core/framework/local_rendezvous.cc:423] Local rendezvous recv item cancelled. Key hash: 7338431921674375828\n",
      "2024-09-02 17:22:30.168312: I tensorflow/core/framework/local_rendezvous.cc:423] Local rendezvous recv item cancelled. Key hash: 11929540167347183446\n"
     ]
    },
    {
     "name": "stdout",
     "output_type": "stream",
     "text": [
      "\u001b[1m781/781\u001b[0m \u001b[32m━━━━━━━━━━━━━━━━━━━━\u001b[0m\u001b[37m\u001b[0m \u001b[1m0s\u001b[0m 507us/step - accuracy: 0.9219 - loss: 0.3423 - val_accuracy: 0.8523 - val_loss: 0.5395 - learning_rate: 1.0000e-05\n",
      "Learning rate for epoch 59 is 1e-05\n",
      "Epoch 59/80\n",
      "\u001b[1m781/781\u001b[0m \u001b[32m━━━━━━━━━━━━━━━━━━━━\u001b[0m\u001b[37m\u001b[0m \u001b[1m9s\u001b[0m 11ms/step - accuracy: 0.8497 - loss: 0.5332 - val_accuracy: 0.8568 - val_loss: 0.5207 - learning_rate: 1.0000e-05\n",
      "Learning rate for epoch 60 is 1e-05\n",
      "Epoch 60/80\n",
      "\u001b[1m  1/781\u001b[0m \u001b[37m━━━━━━━━━━━━━━━━━━━━\u001b[0m \u001b[1m4s\u001b[0m 5ms/step - accuracy: 0.8750 - loss: 0.4386"
     ]
    },
    {
     "name": "stderr",
     "output_type": "stream",
     "text": [
      "2024-09-02 17:22:39.221483: I tensorflow/core/framework/local_rendezvous.cc:423] Local rendezvous recv item cancelled. Key hash: 11929540167347183446\n"
     ]
    },
    {
     "name": "stdout",
     "output_type": "stream",
     "text": [
      "\u001b[1m781/781\u001b[0m \u001b[32m━━━━━━━━━━━━━━━━━━━━\u001b[0m\u001b[37m\u001b[0m \u001b[1m0s\u001b[0m 526us/step - accuracy: 0.8750 - loss: 0.4386 - val_accuracy: 0.8576 - val_loss: 0.5201 - learning_rate: 1.0000e-05\n",
      "Learning rate for epoch 61 is 1e-05\n",
      "Epoch 61/80\n",
      "\u001b[1m781/781\u001b[0m \u001b[32m━━━━━━━━━━━━━━━━━━━━\u001b[0m\u001b[37m\u001b[0m \u001b[1m9s\u001b[0m 11ms/step - accuracy: 0.8524 - loss: 0.5270 - val_accuracy: 0.8524 - val_loss: 0.5309 - learning_rate: 1.0000e-05\n",
      "Learning rate for epoch 62 is 1e-05\n",
      "Epoch 62/80\n",
      "\u001b[1m  1/781\u001b[0m \u001b[37m━━━━━━━━━━━━━━━━━━━━\u001b[0m \u001b[1m3s\u001b[0m 5ms/step - accuracy: 0.8438 - loss: 0.4579"
     ]
    },
    {
     "name": "stderr",
     "output_type": "stream",
     "text": [
      "2024-09-02 17:22:48.314365: I tensorflow/core/framework/local_rendezvous.cc:423] Local rendezvous recv item cancelled. Key hash: 11929540167347183446\n"
     ]
    },
    {
     "name": "stdout",
     "output_type": "stream",
     "text": [
      "\u001b[1m781/781\u001b[0m \u001b[32m━━━━━━━━━━━━━━━━━━━━\u001b[0m\u001b[37m\u001b[0m \u001b[1m0s\u001b[0m 518us/step - accuracy: 0.8438 - loss: 0.4579 - val_accuracy: 0.8524 - val_loss: 0.5305 - learning_rate: 1.0000e-05\n",
      "Learning rate for epoch 63 is 1e-05\n",
      "Epoch 63/80\n",
      "\u001b[1m781/781\u001b[0m \u001b[32m━━━━━━━━━━━━━━━━━━━━\u001b[0m\u001b[37m\u001b[0m \u001b[1m9s\u001b[0m 11ms/step - accuracy: 0.8523 - loss: 0.5226 - val_accuracy: 0.8552 - val_loss: 0.5220 - learning_rate: 1.0000e-05\n",
      "Learning rate for epoch 64 is 1e-05\n",
      "Epoch 64/80\n",
      "\u001b[1m  1/781\u001b[0m \u001b[37m━━━━━━━━━━━━━━━━━━━━\u001b[0m \u001b[1m3s\u001b[0m 5ms/step - accuracy: 0.8750 - loss: 0.4568"
     ]
    },
    {
     "name": "stderr",
     "output_type": "stream",
     "text": [
      "2024-09-02 17:22:57.335231: I tensorflow/core/framework/local_rendezvous.cc:404] Local rendezvous is aborting with status: OUT_OF_RANGE: End of sequence\n",
      "\t [[{{node IteratorGetNext}}]]\n",
      "\t [[IteratorGetNext/_4]]\n",
      "2024-09-02 17:22:57.335281: I tensorflow/core/framework/local_rendezvous.cc:423] Local rendezvous recv item cancelled. Key hash: 11929540167347183446\n"
     ]
    },
    {
     "name": "stdout",
     "output_type": "stream",
     "text": [
      "\u001b[1m781/781\u001b[0m \u001b[32m━━━━━━━━━━━━━━━━━━━━\u001b[0m\u001b[37m\u001b[0m \u001b[1m0s\u001b[0m 523us/step - accuracy: 0.8750 - loss: 0.4568 - val_accuracy: 0.8555 - val_loss: 0.5219 - learning_rate: 1.0000e-05\n",
      "Learning rate for epoch 65 is 1e-05\n",
      "Epoch 65/80\n",
      "\u001b[1m781/781\u001b[0m \u001b[32m━━━━━━━━━━━━━━━━━━━━\u001b[0m\u001b[37m\u001b[0m \u001b[1m9s\u001b[0m 11ms/step - accuracy: 0.8543 - loss: 0.5207 - val_accuracy: 0.8605 - val_loss: 0.5082 - learning_rate: 1.0000e-05\n",
      "Learning rate for epoch 66 is 1e-05\n",
      "Epoch 66/80\n",
      "\u001b[1m  1/781\u001b[0m \u001b[37m━━━━━━━━━━━━━━━━━━━━\u001b[0m \u001b[1m4s\u001b[0m 5ms/step - accuracy: 0.8438 - loss: 0.6187"
     ]
    },
    {
     "name": "stderr",
     "output_type": "stream",
     "text": [
      "2024-09-02 17:23:06.393971: I tensorflow/core/framework/local_rendezvous.cc:423] Local rendezvous recv item cancelled. Key hash: 11929540167347183446\n"
     ]
    },
    {
     "name": "stdout",
     "output_type": "stream",
     "text": [
      "\u001b[1m781/781\u001b[0m \u001b[32m━━━━━━━━━━━━━━━━━━━━\u001b[0m\u001b[37m\u001b[0m \u001b[1m0s\u001b[0m 513us/step - accuracy: 0.8438 - loss: 0.6187 - val_accuracy: 0.8605 - val_loss: 0.5086 - learning_rate: 1.0000e-05\n",
      "Learning rate for epoch 67 is 1e-05\n",
      "Epoch 67/80\n",
      "\u001b[1m781/781\u001b[0m \u001b[32m━━━━━━━━━━━━━━━━━━━━\u001b[0m\u001b[37m\u001b[0m \u001b[1m9s\u001b[0m 11ms/step - accuracy: 0.8543 - loss: 0.5162 - val_accuracy: 0.8593 - val_loss: 0.5150 - learning_rate: 1.0000e-05\n",
      "Learning rate for epoch 68 is 1e-05\n",
      "Epoch 68/80\n",
      "\u001b[1m  1/781\u001b[0m \u001b[37m━━━━━━━━━━━━━━━━━━━━\u001b[0m \u001b[1m3s\u001b[0m 5ms/step - accuracy: 0.8594 - loss: 0.4554"
     ]
    },
    {
     "name": "stderr",
     "output_type": "stream",
     "text": [
      "2024-09-02 17:23:15.479595: I tensorflow/core/framework/local_rendezvous.cc:423] Local rendezvous recv item cancelled. Key hash: 11929540167347183446\n"
     ]
    },
    {
     "name": "stdout",
     "output_type": "stream",
     "text": [
      "\u001b[1m781/781\u001b[0m \u001b[32m━━━━━━━━━━━━━━━━━━━━\u001b[0m\u001b[37m\u001b[0m \u001b[1m0s\u001b[0m 515us/step - accuracy: 0.8594 - loss: 0.4554 - val_accuracy: 0.8594 - val_loss: 0.5153 - learning_rate: 1.0000e-05\n",
      "Learning rate for epoch 69 is 1e-05\n",
      "Epoch 69/80\n",
      "\u001b[1m781/781\u001b[0m \u001b[32m━━━━━━━━━━━━━━━━━━━━\u001b[0m\u001b[37m\u001b[0m \u001b[1m9s\u001b[0m 11ms/step - accuracy: 0.8577 - loss: 0.5100 - val_accuracy: 0.8587 - val_loss: 0.5114 - learning_rate: 1.0000e-05\n",
      "Learning rate for epoch 70 is 1e-05\n",
      "Epoch 70/80\n",
      "\u001b[1m  1/781\u001b[0m \u001b[37m━━━━━━━━━━━━━━━━━━━━\u001b[0m \u001b[1m3s\u001b[0m 5ms/step - accuracy: 0.8906 - loss: 0.4385"
     ]
    },
    {
     "name": "stderr",
     "output_type": "stream",
     "text": [
      "2024-09-02 17:23:24.399811: I tensorflow/core/framework/local_rendezvous.cc:423] Local rendezvous recv item cancelled. Key hash: 11929540167347183446\n"
     ]
    },
    {
     "name": "stdout",
     "output_type": "stream",
     "text": [
      "\n",
      "Epoch 70: ReduceLROnPlateau reducing learning rate to 4.999999873689376e-06.\n",
      "\u001b[1m781/781\u001b[0m \u001b[32m━━━━━━━━━━━━━━━━━━━━\u001b[0m\u001b[37m\u001b[0m \u001b[1m0s\u001b[0m 519us/step - accuracy: 0.8906 - loss: 0.4385 - val_accuracy: 0.8588 - val_loss: 0.5114 - learning_rate: 1.0000e-05\n",
      "Learning rate for epoch 71 is 1e-05\n",
      "Epoch 71/80\n",
      "\u001b[1m781/781\u001b[0m \u001b[32m━━━━━━━━━━━━━━━━━━━━\u001b[0m\u001b[37m\u001b[0m \u001b[1m9s\u001b[0m 11ms/step - accuracy: 0.8611 - loss: 0.4964 - val_accuracy: 0.8613 - val_loss: 0.5042 - learning_rate: 1.0000e-05\n",
      "Learning rate for epoch 72 is 1e-05\n",
      "Epoch 72/80\n",
      "\u001b[1m  1/781\u001b[0m \u001b[37m━━━━━━━━━━━━━━━━━━━━\u001b[0m \u001b[1m4s\u001b[0m 6ms/step - accuracy: 0.8906 - loss: 0.3925"
     ]
    },
    {
     "name": "stderr",
     "output_type": "stream",
     "text": [
      "2024-09-02 17:23:33.426858: I tensorflow/core/framework/local_rendezvous.cc:423] Local rendezvous recv item cancelled. Key hash: 11929540167347183446\n"
     ]
    },
    {
     "name": "stdout",
     "output_type": "stream",
     "text": [
      "\u001b[1m781/781\u001b[0m \u001b[32m━━━━━━━━━━━━━━━━━━━━\u001b[0m\u001b[37m\u001b[0m \u001b[1m0s\u001b[0m 532us/step - accuracy: 0.8906 - loss: 0.3925 - val_accuracy: 0.8609 - val_loss: 0.5040 - learning_rate: 1.0000e-05\n",
      "Learning rate for epoch 73 is 1e-05\n",
      "Epoch 73/80\n",
      "\u001b[1m781/781\u001b[0m \u001b[32m━━━━━━━━━━━━━━━━━━━━\u001b[0m\u001b[37m\u001b[0m \u001b[1m9s\u001b[0m 11ms/step - accuracy: 0.8585 - loss: 0.4987 - val_accuracy: 0.8648 - val_loss: 0.4972 - learning_rate: 1.0000e-05\n",
      "Learning rate for epoch 74 is 1e-05\n",
      "Epoch 74/80\n",
      "\u001b[1m781/781\u001b[0m \u001b[32m━━━━━━━━━━━━━━━━━━━━\u001b[0m\u001b[37m\u001b[0m \u001b[1m0s\u001b[0m 527us/step - accuracy: 0.9062 - loss: 0.3515 - val_accuracy: 0.8654 - val_loss: 0.4969 - learning_rate: 1.0000e-05\n",
      "Learning rate for epoch 75 is 1e-05\n",
      "Epoch 75/80\n",
      "\u001b[1m781/781\u001b[0m \u001b[32m━━━━━━━━━━━━━━━━━━━━\u001b[0m\u001b[37m\u001b[0m \u001b[1m9s\u001b[0m 11ms/step - accuracy: 0.8607 - loss: 0.4953 - val_accuracy: 0.8679 - val_loss: 0.4849 - learning_rate: 1.0000e-05\n",
      "Learning rate for epoch 76 is 1e-05\n",
      "Epoch 76/80\n",
      "\u001b[1m  1/781\u001b[0m \u001b[37m━━━━━━━━━━━━━━━━━━━━\u001b[0m \u001b[1m4s\u001b[0m 5ms/step - accuracy: 0.8594 - loss: 0.4814"
     ]
    },
    {
     "name": "stderr",
     "output_type": "stream",
     "text": [
      "2024-09-02 17:23:51.399762: I tensorflow/core/framework/local_rendezvous.cc:423] Local rendezvous recv item cancelled. Key hash: 11929540167347183446\n"
     ]
    },
    {
     "name": "stdout",
     "output_type": "stream",
     "text": [
      "\u001b[1m781/781\u001b[0m \u001b[32m━━━━━━━━━━━━━━━━━━━━\u001b[0m\u001b[37m\u001b[0m \u001b[1m0s\u001b[0m 523us/step - accuracy: 0.8594 - loss: 0.4814 - val_accuracy: 0.8676 - val_loss: 0.4849 - learning_rate: 1.0000e-05\n",
      "Learning rate for epoch 77 is 1e-05\n",
      "Epoch 77/80\n",
      "\u001b[1m781/781\u001b[0m \u001b[32m━━━━━━━━━━━━━━━━━━━━\u001b[0m\u001b[37m\u001b[0m \u001b[1m9s\u001b[0m 11ms/step - accuracy: 0.8619 - loss: 0.4858 - val_accuracy: 0.8612 - val_loss: 0.5146 - learning_rate: 1.0000e-05\n",
      "Learning rate for epoch 78 is 1e-05\n",
      "Epoch 78/80\n",
      "\u001b[1m  1/781\u001b[0m \u001b[37m━━━━━━━━━━━━━━━━━━━━\u001b[0m \u001b[1m3s\u001b[0m 5ms/step - accuracy: 0.8125 - loss: 0.5066"
     ]
    },
    {
     "name": "stderr",
     "output_type": "stream",
     "text": [
      "2024-09-02 17:24:00.450300: I tensorflow/core/framework/local_rendezvous.cc:423] Local rendezvous recv item cancelled. Key hash: 11929540167347183446\n"
     ]
    },
    {
     "name": "stdout",
     "output_type": "stream",
     "text": [
      "\u001b[1m781/781\u001b[0m \u001b[32m━━━━━━━━━━━━━━━━━━━━\u001b[0m\u001b[37m\u001b[0m \u001b[1m0s\u001b[0m 515us/step - accuracy: 0.8125 - loss: 0.5066 - val_accuracy: 0.8609 - val_loss: 0.5146 - learning_rate: 1.0000e-05\n",
      "Learning rate for epoch 79 is 1e-05\n",
      "Epoch 79/80\n",
      "\u001b[1m781/781\u001b[0m \u001b[32m━━━━━━━━━━━━━━━━━━━━\u001b[0m\u001b[37m\u001b[0m \u001b[1m9s\u001b[0m 11ms/step - accuracy: 0.8629 - loss: 0.4860 - val_accuracy: 0.8665 - val_loss: 0.4916 - learning_rate: 1.0000e-05\n",
      "Learning rate for epoch 80 is 1e-05\n",
      "Epoch 80/80\n",
      "\u001b[1m  1/781\u001b[0m \u001b[37m━━━━━━━━━━━━━━━━━━━━\u001b[0m \u001b[1m3s\u001b[0m 5ms/step - accuracy: 0.8438 - loss: 0.5229"
     ]
    },
    {
     "name": "stderr",
     "output_type": "stream",
     "text": [
      "2024-09-02 17:24:09.451889: I tensorflow/core/framework/local_rendezvous.cc:423] Local rendezvous recv item cancelled. Key hash: 11929540167347183446\n"
     ]
    },
    {
     "name": "stdout",
     "output_type": "stream",
     "text": [
      "\n",
      "Epoch 80: ReduceLROnPlateau reducing learning rate to 4.999999873689376e-06.\n",
      "\u001b[1m781/781\u001b[0m \u001b[32m━━━━━━━━━━━━━━━━━━━━\u001b[0m\u001b[37m\u001b[0m \u001b[1m0s\u001b[0m 522us/step - accuracy: 0.8438 - loss: 0.5229 - val_accuracy: 0.8663 - val_loss: 0.4919 - learning_rate: 1.0000e-05\n",
      "\u001b[1m1/1\u001b[0m \u001b[32m━━━━━━━━━━━━━━━━━━━━\u001b[0m\u001b[37m\u001b[0m \u001b[1m0s\u001b[0m 345ms/step\n"
     ]
    },
    {
     "data": {
      "image/png": "[encoded data removed]",
      "text/plain": [
       "<Figure size 1200x400 with 2 Axes>"
      ]
     },
     "metadata": {},
     "output_type": "display_data"
    }
   ],
   "source": [
    "# cell1: Importing necessary libraries, loading and preprocessing the CIFAR-10 dataset, defining and training a CNN model with data augmentation and learning rate scheduling\n",
    "\n",
    "import numpy as np  # Importing numpy for numerical operations\n",
    "import matplotlib.pyplot as plt  # Importing matplotlib for plotting\n",
    "from keras.models import Sequential  # Importing Sequential model from Keras for building a linear stack of layers\n",
    "from keras.layers import Conv2D, MaxPooling2D, Flatten, Dense, Dropout, BatchNormalization  # Importing layers for building the CNN\n",
    "from keras.callbacks import LearningRateScheduler, EarlyStopping, ReduceLROnPlateau  # Importing callbacks for learning rate scheduling and early stopping\n",
    "from keras.datasets import cifar10  # Importing the CIFAR-10 dataset\n",
    "from keras.utils import to_categorical  # Importing utility for converting labels to one-hot encoding\n",
    "from tensorflow.keras.preprocessing.image import ImageDataGenerator  # Importing ImageDataGenerator for data augmentation\n",
    "from keras.optimizers import Adam  # Importing Adam optimizer\n",
    "from keras.regularizers import l2  # Importing L2 regularization\n",
    "\n",
    "# Load and preprocess the CIFAR-10 dataset\n",
    "(x_train, y_train), (x_val, y_val) = cifar10.load_data()  # Loading the CIFAR-10 dataset\n",
    "\n",
    "x_train = x_train.astype('float32') / 255.0  # Converting pixel values to float32 and normalizing to [0, 1]\n",
    "x_val = x_val.astype('float32') / 255.0  # Converting pixel values to float32 and normalizing to [0, 1]\n",
    "y_train = to_categorical(y_train, 10)  # Converting labels to one-hot encoding\n",
    "y_val = to_categorical(y_val, 10)  # Converting labels to one-hot encoding\n",
    "\n",
    "# Enhanced Data Augmentation\n",
    "datagen = ImageDataGenerator(  # Creating an ImageDataGenerator for data augmentation\n",
    "    width_shift_range=0.2,  # Allowing horizontal shifts\n",
    "    height_shift_range=0.2,  # Allowing vertical shifts\n",
    "    horizontal_flip=True,  # Allowing horizontal flips\n",
    "    rotation_range=20,  # Allowing rotations up to 20 degrees\n",
    "    zoom_range=0.2,  # Allowing zooming\n",
    "    shear_range=0.2  # Allowing shearing\n",
    ")\n",
    "datagen.fit(x_train)  # Fitting the data generator on the training data\n",
    "\n",
    "# Slightly More Complex Model\n",
    "model = Sequential()  # Creating a Sequential model\n",
    "model.add(Conv2D(64, (3, 3), padding='same', activation='relu', input_shape=(32, 32, 3), name='conv2d_1'))  # Adding a convolutional layer with 64 filters\n",
    "model.add(BatchNormalization(name='batch_norm_1'))  # Adding batch normalization to stabilize and speed up training\n",
    "model.add(Conv2D(64, (3, 3), padding='same', activation='relu', name='conv2d_2'))  # Adding another convolutional layer with 64 filters\n",
    "model.add(BatchNormalization(name='batch_norm_2'))  # Adding batch normalization\n",
    "model.add(MaxPooling2D(pool_size=(2, 2), name='max_pool_1'))  # Adding a max pooling layer to reduce spatial dimensions\n",
    "\n",
    "model.add(Conv2D(128, (3, 3), padding='same', activation='relu', name='conv2d_3'))  # Adding a convolutional layer with 128 filters\n",
    "model.add(BatchNormalization(name='batch_norm_3'))  # Adding batch normalization\n",
    "model.add(Conv2D(128, (3, 3), padding='same', activation='relu', name='conv2d_4'))  # Adding another convolutional layer with 128 filters\n",
    "model.add(BatchNormalization(name='batch_norm_4'))  # Adding batch normalization\n",
    "model.add(MaxPooling2D(pool_size=(2, 2), name='max_pool_2'))  # Adding a max pooling layer\n",
    "\n",
    "model.add(Conv2D(256, (3, 3), padding='same', activation='relu', name='conv2d_5'))  # Adding a convolutional layer with 256 filters\n",
    "model.add(BatchNormalization(name='batch_norm_5'))  # Adding batch normalization\n",
    "model.add(Conv2D(256, (3, 3), padding='same', activation='relu', name='conv2d_6'))  # Adding another convolutional layer with 256 filters\n",
    "model.add(BatchNormalization(name='batch_norm_6'))  # Adding batch normalization\n",
    "model.add(MaxPooling2D(pool_size=(2, 2), name='max_pool_3'))  # Adding a max pooling layer\n",
    "\n",
    "model.add(Flatten(name='flatten'))  # Flattening the output to feed into dense layers\n",
    "model.add(Dense(512, activation='relu', kernel_regularizer=l2(0.001), name='dense_1'))  # Adding a dense layer with 512 units and L2 regularization\n",
    "model.add(Dropout(0.5, name='dropout_1'))  # Adding dropout for regularization\n",
    "model.add(Dense(10, activation='softmax', name='dense_2'))  # Adding the output layer with softmax activation\n",
    "\n",
    "# Compile the model with a reduced learning rate\n",
    "model.compile(optimizer=Adam(learning_rate=1e-4), loss='categorical_crossentropy', metrics=['accuracy'])  # Compiling the model with Adam optimizer and categorical cross-entropy loss\n",
    "model.summary()  # Printing a summary of the model architecture\n",
    "\n",
    "# Adjusted Learning Rate Scheduler\n",
    "def lr_schedule(epoch):  # Defining a learning rate schedule function\n",
    "    lr = 1e-4  # Starting learning rate\n",
    "    if epoch > 50:  # If epoch number is greater than 50\n",
    "        lr *= 0.1  # Reduce learning rate by a factor of 0.1\n",
    "    elif epoch > 30:  # If epoch number is greater than 30 but less than or equal to 50\n",
    "        lr *= 0.5  # Reduce learning rate by a factor of 0.5\n",
    "    print(f\"Learning rate for epoch {epoch + 1} is {lr}\")  # Printing the learning rate for the current epoch\n",
    "    return lr  # Returning the adjusted learning rate\n",
    "\n",
    "lr_scheduler = LearningRateScheduler(lr_schedule)  # Creating a LearningRateScheduler callback\n",
    "early_stopper = EarlyStopping(monitor='val_loss', patience=10, restore_best_weights=True)  # Creating an EarlyStopping callback\n",
    "reduce_lr = ReduceLROnPlateau(monitor='val_loss', factor=0.5, patience=5, min_lr=1e-7, verbose=1)  # Creating a ReduceLROnPlateau callback\n",
    "\n",
    "# Training the model\n",
    "history = model.fit(  # Training the model\n",
    "    datagen.flow(x_train, y_train, batch_size=64),  # Using the data generator to generate augmented data\n",
    "    epochs=80,  # Number of epochs to train\n",
    "    validation_data=(x_val, y_val),  # Validation data\n",
    "    callbacks=[lr_scheduler, early_stopper, reduce_lr],  # Using the defined callbacks\n",
    "    steps_per_epoch=x_train.shape[0] // 64,  # Number of steps per epoch\n",
    "    verbose=1  # Verbosity level\n",
    ")\n",
    "\n",
    "# Ensure the model is built by calling predict on a dummy input\n",
    "model.predict(np.expand_dims(x_val[0], axis=0))  # Predicting on a dummy input to build the model\n",
    "\n",
    "# Plotting Training and Validation Curves\n",
    "plt.figure(figsize=(12, 4))  # Creating a figure for plotting\n",
    "\n",
    "plt.subplot(1, 2, 1)  # Creating a subplot for accuracy\n",
    "plt.plot(history.history['accuracy'])  # Plotting training accuracy\n",
    "plt.plot(history.history['val_accuracy'])  # Plotting validation accuracy\n",
    "plt.title('Model Accuracy')  # Setting the title\n",
    "plt.xlabel('Epoch')  # Setting the x-axis label\n",
    "plt.ylabel('Accuracy')  # Setting the y-axis label\n",
    "plt.legend(['Train', 'Val'], loc='upper left')  # Adding a legend\n",
    "\n",
    "plt.subplot(1, 2, 2)  # Creating a subplot for loss\n",
    "plt.plot(history.history['loss'])  # Plotting training loss\n",
    "plt.plot(history.history['val_loss'])  # Plotting validation loss\n",
    "plt.title('Model Loss')  # Setting the title\n",
    "plt.xlabel('Epoch')  # Setting the x-axis label\n",
    "plt.ylabel('Loss')  # Setting the y-axis label\n",
    "plt.legend(['Train', 'Val'], loc='upper left')  # Adding a legend\n",
    "\n",
    "plt.show()  # Displaying the plots"
   ]
  },
  {
   "cell_type": "code",
   "execution_count": 2,
   "metadata": {},
   "outputs": [
    {
     "name": "stderr",
     "output_type": "stream",
     "text": [
      "/home/matt/CIFAR10_CNN_Project/venv/lib/python3.12/site-packages/tqdm/auto.py:21: TqdmWarning: IProgress not found. Please update jupyter and ipywidgets. See https://ipywidgets.readthedocs.io/en/stable/user_install.html\n",
      "  from .autonotebook import tqdm as notebook_tqdm\n",
      "[I 2024-09-02 17:24:50,570] A new study created in memory with name: no-name-d2663e73-aaa8-4770-9036-13b8799583b8\n"
     ]
    },
    {
     "name": "stdout",
     "output_type": "stream",
     "text": [
      "Epoch 1/15\n"
     ]
    },
    {
     "name": "stderr",
     "output_type": "stream",
     "text": [
      "/home/matt/CIFAR10_CNN_Project/venv/lib/python3.12/site-packages/keras/src/layers/convolutional/base_conv.py:107: UserWarning: Do not pass an `input_shape`/`input_dim` argument to a layer. When using Sequential models, prefer using an `Input(shape)` object as the first layer in the model instead.\n",
      "  super().__init__(activity_regularizer=activity_regularizer, **kwargs)\n",
      "/home/matt/CIFAR10_CNN_Project/venv/lib/python3.12/site-packages/keras/src/trainers/data_adapters/py_dataset_adapter.py:122: UserWarning: Your `PyDataset` class should call `super().__init__(**kwargs)` in its constructor. `**kwargs` can include `workers`, `use_multiprocessing`, `max_queue_size`. Do not pass these arguments to `fit()`, as they will be ignored.\n",
      "  self._warn_if_super_not_called()\n"
     ]
    },
    {
     "name": "stdout",
     "output_type": "stream",
     "text": [
      "\u001b[1m1559/1562\u001b[0m \u001b[32m━━━━━━━━━━━━━━━━━━━\u001b[0m\u001b[37m━\u001b[0m \u001b[1m0s\u001b[0m 8ms/step - accuracy: 0.3068 - loss: 2.9694\n",
      "Epoch 1: val_loss improved from inf to 2.29696, saving model to best_model.keras\n",
      "\u001b[1m1562/1562\u001b[0m \u001b[32m━━━━━━━━━━━━━━━━━━━━\u001b[0m\u001b[37m\u001b[0m \u001b[1m23s\u001b[0m 11ms/step - accuracy: 0.3070 - loss: 2.9686 - val_accuracy: 0.4700 - val_loss: 2.2970 - learning_rate: 1.0000e-04\n",
      "Epoch 2/15\n",
      "\u001b[1m   1/1562\u001b[0m \u001b[37m━━━━━━━━━━━━━━━━━━━━\u001b[0m \u001b[1m6s\u001b[0m 4ms/step - accuracy: 0.6250 - loss: 2.0804"
     ]
    },
    {
     "name": "stderr",
     "output_type": "stream",
     "text": [
      "/home/matt/miniconda3/lib/python3.12/contextlib.py:158: UserWarning: Your input ran out of data; interrupting training. Make sure that your dataset or generator can generate at least `steps_per_epoch * epochs` batches. You may need to use the `.repeat()` function when building your dataset.\n",
      "  self.gen.throw(value)\n"
     ]
    },
    {
     "name": "stdout",
     "output_type": "stream",
     "text": [
      "\n",
      "Epoch 2: val_loss improved from 2.29696 to 2.29153, saving model to best_model.keras\n",
      "\u001b[1m1562/1562\u001b[0m \u001b[32m━━━━━━━━━━━━━━━━━━━━\u001b[0m\u001b[37m\u001b[0m \u001b[1m1s\u001b[0m 354us/step - accuracy: 0.6250 - loss: 2.0804 - val_accuracy: 0.4708 - val_loss: 2.2915 - learning_rate: 1.0000e-04\n",
      "Epoch 3/15\n",
      "\u001b[1m1555/1562\u001b[0m \u001b[32m━━━━━━━━━━━━━━━━━━━\u001b[0m\u001b[37m━\u001b[0m \u001b[1m0s\u001b[0m 6ms/step - accuracy: 0.4506 - loss: 2.2890\n",
      "Epoch 3: val_loss improved from 2.29153 to 1.81712, saving model to best_model.keras\n",
      "\u001b[1m1562/1562\u001b[0m \u001b[32m━━━━━━━━━━━━━━━━━━━━\u001b[0m\u001b[37m\u001b[0m \u001b[1m10s\u001b[0m 6ms/step - accuracy: 0.4507 - loss: 2.2886 - val_accuracy: 0.5703 - val_loss: 1.8171 - learning_rate: 1.0000e-04\n",
      "Epoch 4/15\n",
      "\u001b[1m   1/1562\u001b[0m \u001b[37m━━━━━━━━━━━━━━━━━━━━\u001b[0m \u001b[1m5s\u001b[0m 4ms/step - accuracy: 0.5312 - loss: 2.1078\n",
      "Epoch 4: val_loss did not improve from 1.81712\n",
      "\u001b[1m1562/1562\u001b[0m \u001b[32m━━━━━━━━━━━━━━━━━━━━\u001b[0m\u001b[37m\u001b[0m \u001b[1m0s\u001b[0m 227us/step - accuracy: 0.5312 - loss: 2.1078 - val_accuracy: 0.5680 - val_loss: 1.8196 - learning_rate: 1.0000e-04\n",
      "Epoch 5/15\n",
      "\u001b[1m1555/1562\u001b[0m \u001b[32m━━━━━━━━━━━━━━━━━━━\u001b[0m\u001b[37m━\u001b[0m \u001b[1m0s\u001b[0m 6ms/step - accuracy: 0.5107 - loss: 1.9611\n",
      "Epoch 5: val_loss improved from 1.81712 to 1.61855, saving model to best_model.keras\n",
      "\u001b[1m1562/1562\u001b[0m \u001b[32m━━━━━━━━━━━━━━━━━━━━\u001b[0m\u001b[37m\u001b[0m \u001b[1m10s\u001b[0m 6ms/step - accuracy: 0.5108 - loss: 1.9607 - val_accuracy: 0.5961 - val_loss: 1.6186 - learning_rate: 1.0000e-04\n",
      "Epoch 6/15\n",
      "\u001b[1m   1/1562\u001b[0m \u001b[37m━━━━━━━━━━━━━━━━━━━━\u001b[0m \u001b[1m5s\u001b[0m 4ms/step - accuracy: 0.5000 - loss: 1.6931\n",
      "Epoch 6: val_loss did not improve from 1.61855\n",
      "\u001b[1m1562/1562\u001b[0m \u001b[32m━━━━━━━━━━━━━━━━━━━━\u001b[0m\u001b[37m\u001b[0m \u001b[1m0s\u001b[0m 252us/step - accuracy: 0.5000 - loss: 1.6931 - val_accuracy: 0.5953 - val_loss: 1.6205 - learning_rate: 1.0000e-04\n",
      "Epoch 7/15\n",
      "\u001b[1m1560/1562\u001b[0m \u001b[32m━━━━━━━━━━━━━━━━━━━\u001b[0m\u001b[37m━\u001b[0m \u001b[1m0s\u001b[0m 6ms/step - accuracy: 0.5603 - loss: 1.6938\n",
      "Epoch 7: val_loss improved from 1.61855 to 1.44462, saving model to best_model.keras\n",
      "\u001b[1m1562/1562\u001b[0m \u001b[32m━━━━━━━━━━━━━━━━━━━━\u001b[0m\u001b[37m\u001b[0m \u001b[1m10s\u001b[0m 6ms/step - accuracy: 0.5603 - loss: 1.6937 - val_accuracy: 0.6206 - val_loss: 1.4446 - learning_rate: 1.0000e-04\n",
      "Epoch 8/15\n",
      "\u001b[1m   1/1562\u001b[0m \u001b[37m━━━━━━━━━━━━━━━━━━━━\u001b[0m \u001b[1m6s\u001b[0m 4ms/step - accuracy: 0.5938 - loss: 1.5169\n",
      "Epoch 8: val_loss improved from 1.44462 to 1.44456, saving model to best_model.keras\n",
      "\u001b[1m1562/1562\u001b[0m \u001b[32m━━━━━━━━━━━━━━━━━━━━\u001b[0m\u001b[37m\u001b[0m \u001b[1m1s\u001b[0m 328us/step - accuracy: 0.5938 - loss: 1.5169 - val_accuracy: 0.6197 - val_loss: 1.4446 - learning_rate: 1.0000e-04\n",
      "Epoch 9/15\n",
      "\u001b[1m1554/1562\u001b[0m \u001b[32m━━━━━━━━━━━━━━━━━━━\u001b[0m\u001b[37m━\u001b[0m \u001b[1m0s\u001b[0m 6ms/step - accuracy: 0.5980 - loss: 1.4678\n",
      "Epoch 9: val_loss improved from 1.44456 to 1.19925, saving model to best_model.keras\n",
      "\u001b[1m1562/1562\u001b[0m \u001b[32m━━━━━━━━━━━━━━━━━━━━\u001b[0m\u001b[37m\u001b[0m \u001b[1m9s\u001b[0m 6ms/step - accuracy: 0.5981 - loss: 1.4676 - val_accuracy: 0.6786 - val_loss: 1.1992 - learning_rate: 1.0000e-04\n",
      "Epoch 10/15\n",
      "\u001b[1m   1/1562\u001b[0m \u001b[37m━━━━━━━━━━━━━━━━━━━━\u001b[0m \u001b[1m5s\u001b[0m 4ms/step - accuracy: 0.7500 - loss: 1.2794"
     ]
    },
    {
     "name": "stderr",
     "output_type": "stream",
     "text": [
      "2024-09-02 17:25:53.565747: I tensorflow/core/framework/local_rendezvous.cc:423] Local rendezvous recv item cancelled. Key hash: 7338431921674375828\n"
     ]
    },
    {
     "name": "stdout",
     "output_type": "stream",
     "text": [
      "\n",
      "Epoch 10: val_loss did not improve from 1.19925\n",
      "\u001b[1m1562/1562\u001b[0m \u001b[32m━━━━━━━━━━━━━━━━━━━━\u001b[0m\u001b[37m\u001b[0m \u001b[1m0s\u001b[0m 225us/step - accuracy: 0.7500 - loss: 1.2794 - val_accuracy: 0.6773 - val_loss: 1.2008 - learning_rate: 1.0000e-04\n",
      "Epoch 11/15\n",
      "\u001b[1m1553/1562\u001b[0m \u001b[32m━━━━━━━━━━━━━━━━━━━\u001b[0m\u001b[37m━\u001b[0m \u001b[1m0s\u001b[0m 6ms/step - accuracy: 0.6327 - loss: 1.3300\n",
      "Epoch 11: val_loss improved from 1.19925 to 1.14776, saving model to best_model.keras\n",
      "\u001b[1m1562/1562\u001b[0m \u001b[32m━━━━━━━━━━━━━━━━━━━━\u001b[0m\u001b[37m\u001b[0m \u001b[1m10s\u001b[0m 6ms/step - accuracy: 0.6328 - loss: 1.3298 - val_accuracy: 0.6871 - val_loss: 1.1478 - learning_rate: 1.0000e-04\n",
      "Epoch 12/15\n",
      "\u001b[1m   1/1562\u001b[0m \u001b[37m━━━━━━━━━━━━━━━━━━━━\u001b[0m \u001b[1m5s\u001b[0m 3ms/step - accuracy: 0.7812 - loss: 0.9753\n",
      "Epoch 12: val_loss improved from 1.14776 to 1.14555, saving model to best_model.keras\n",
      "\u001b[1m1562/1562\u001b[0m \u001b[32m━━━━━━━━━━━━━━━━━━━━\u001b[0m\u001b[37m\u001b[0m \u001b[1m0s\u001b[0m 315us/step - accuracy: 0.7812 - loss: 0.9753 - val_accuracy: 0.6884 - val_loss: 1.1456 - learning_rate: 1.0000e-04\n",
      "Epoch 13/15\n",
      "\u001b[1m1555/1562\u001b[0m \u001b[32m━━━━━━━━━━━━━━━━━━━\u001b[0m\u001b[37m━\u001b[0m \u001b[1m0s\u001b[0m 6ms/step - accuracy: 0.6566 - loss: 1.2090\n",
      "Epoch 13: val_loss improved from 1.14555 to 1.06226, saving model to best_model.keras\n",
      "\u001b[1m1562/1562\u001b[0m \u001b[32m━━━━━━━━━━━━━━━━━━━━\u001b[0m\u001b[37m\u001b[0m \u001b[1m10s\u001b[0m 6ms/step - accuracy: 0.6566 - loss: 1.2089 - val_accuracy: 0.7155 - val_loss: 1.0623 - learning_rate: 1.0000e-04\n",
      "Epoch 14/15\n",
      "\u001b[1m   1/1562\u001b[0m \u001b[37m━━━━━━━━━━━━━━━━━━━━\u001b[0m \u001b[1m6s\u001b[0m 4ms/step - accuracy: 0.7500 - loss: 1.1109\n",
      "Epoch 14: val_loss improved from 1.06226 to 1.06217, saving model to best_model.keras\n",
      "\u001b[1m1562/1562\u001b[0m \u001b[32m━━━━━━━━━━━━━━━━━━━━\u001b[0m\u001b[37m\u001b[0m \u001b[1m1s\u001b[0m 345us/step - accuracy: 0.7500 - loss: 1.1109 - val_accuracy: 0.7150 - val_loss: 1.0622 - learning_rate: 1.0000e-04\n",
      "Epoch 15/15\n",
      "\u001b[1m1553/1562\u001b[0m \u001b[32m━━━━━━━━━━━━━━━━━━━\u001b[0m\u001b[37m━\u001b[0m \u001b[1m0s\u001b[0m 6ms/step - accuracy: 0.6857 - loss: 1.1252\n",
      "Epoch 15: val_loss improved from 1.06217 to 0.88902, saving model to best_model.keras\n",
      "\u001b[1m1562/1562\u001b[0m \u001b[32m━━━━━━━━━━━━━━━━━━━━\u001b[0m\u001b[37m\u001b[0m \u001b[1m10s\u001b[0m 6ms/step - accuracy: 0.6857 - loss: 1.1251 - val_accuracy: 0.7578 - val_loss: 0.8890 - learning_rate: 1.0000e-04\n",
      "Restoring model weights from the end of the best epoch: 15.\n"
     ]
    },
    {
     "name": "stderr",
     "output_type": "stream",
     "text": [
      "[I 2024-09-02 17:26:24,135] Trial 0 finished with value: 0.7577999830245972 and parameters: {'lr': 0.0008750803832793538, 'batch_size': 32}. Best is trial 0 with value: 0.7577999830245972.\n"
     ]
    },
    {
     "name": "stdout",
     "output_type": "stream",
     "text": [
      "Epoch 1/15\n"
     ]
    },
    {
     "name": "stderr",
     "output_type": "stream",
     "text": [
      "2024-09-02 17:26:27.270972: I external/local_xla/xla/stream_executor/cuda/cuda_asm_compiler.cc:393] ptxas warning : Registers are spilled to local memory in function 'gemm_fusion_dot_1883', 20 bytes spill stores, 20 bytes spill loads\n",
      "\n"
     ]
    },
    {
     "name": "stdout",
     "output_type": "stream",
     "text": [
      "\u001b[1m370/390\u001b[0m \u001b[32m━━━━━━━━━━━━━━━━━━\u001b[0m\u001b[37m━━\u001b[0m \u001b[1m0s\u001b[0m 20ms/step - accuracy: 0.2883 - loss: 3.1595"
     ]
    },
    {
     "name": "stderr",
     "output_type": "stream",
     "text": [
      "2024-09-02 17:26:38.814142: I external/local_xla/xla/stream_executor/cuda/cuda_asm_compiler.cc:393] ptxas warning : Registers are spilled to local memory in function 'gemm_fusion_dot_1883', 12 bytes spill stores, 12 bytes spill loads\n",
      "\n",
      "2024-09-02 17:26:38.975900: I external/local_xla/xla/stream_executor/cuda/cuda_asm_compiler.cc:393] ptxas warning : Registers are spilled to local memory in function 'gemm_fusion_dot_2871', 4 bytes spill stores, 4 bytes spill loads\n",
      "\n"
     ]
    },
    {
     "name": "stdout",
     "output_type": "stream",
     "text": [
      "\u001b[1m390/390\u001b[0m \u001b[32m━━━━━━━━━━━━━━━━━━━━\u001b[0m\u001b[37m\u001b[0m \u001b[1m0s\u001b[0m 30ms/step - accuracy: 0.2913 - loss: 3.1395\n",
      "Epoch 1: val_loss improved from inf to 3.55285, saving model to best_model.keras\n",
      "\u001b[1m390/390\u001b[0m \u001b[32m━━━━━━━━━━━━━━━━━━━━\u001b[0m\u001b[37m\u001b[0m \u001b[1m21s\u001b[0m 36ms/step - accuracy: 0.2914 - loss: 3.1385 - val_accuracy: 0.2334 - val_loss: 3.5528 - learning_rate: 1.0000e-04\n",
      "Epoch 2/15\n",
      "\u001b[1m  1/390\u001b[0m \u001b[37m━━━━━━━━━━━━━━━━━━━━\u001b[0m \u001b[1m3s\u001b[0m 9ms/step - accuracy: 0.3984 - loss: 2.4994\n",
      "Epoch 2: val_loss improved from 3.55285 to 3.54139, saving model to best_model.keras\n",
      "\u001b[1m390/390\u001b[0m \u001b[32m━━━━━━━━━━━━━━━━━━━━\u001b[0m\u001b[37m\u001b[0m \u001b[1m1s\u001b[0m 1ms/step - accuracy: 0.3984 - loss: 2.4994 - val_accuracy: 0.2374 - val_loss: 3.5414 - learning_rate: 1.0000e-04\n",
      "Epoch 3/15\n",
      "\u001b[1m390/390\u001b[0m \u001b[32m━━━━━━━━━━━━━━━━━━━━\u001b[0m\u001b[37m\u001b[0m \u001b[1m0s\u001b[0m 20ms/step - accuracy: 0.4282 - loss: 2.4360\n",
      "Epoch 3: val_loss improved from 3.54139 to 2.10201, saving model to best_model.keras\n",
      "\u001b[1m390/390\u001b[0m \u001b[32m━━━━━━━━━━━━━━━━━━━━\u001b[0m\u001b[37m\u001b[0m \u001b[1m8s\u001b[0m 21ms/step - accuracy: 0.4282 - loss: 2.4359 - val_accuracy: 0.5319 - val_loss: 2.1020 - learning_rate: 1.0000e-04\n",
      "Epoch 4/15\n",
      "\u001b[1m  1/390\u001b[0m \u001b[37m━━━━━━━━━━━━━━━━━━━━\u001b[0m \u001b[1m2s\u001b[0m 6ms/step - accuracy: 0.5234 - loss: 2.1903\n",
      "Epoch 4: val_loss did not improve from 2.10201\n",
      "\u001b[1m390/390\u001b[0m \u001b[32m━━━━━━━━━━━━━━━━━━━━\u001b[0m\u001b[37m\u001b[0m \u001b[1m0s\u001b[0m 910us/step - accuracy: 0.5234 - loss: 2.1903 - val_accuracy: 0.5299 - val_loss: 2.1082 - learning_rate: 1.0000e-04\n",
      "Epoch 5/15\n",
      "\u001b[1m385/390\u001b[0m \u001b[32m━━━━━━━━━━━━━━━━━━━\u001b[0m\u001b[37m━\u001b[0m \u001b[1m0s\u001b[0m 20ms/step - accuracy: 0.4838 - loss: 2.2348\n",
      "Epoch 5: val_loss improved from 2.10201 to 1.92491, saving model to best_model.keras\n",
      "\u001b[1m390/390\u001b[0m \u001b[32m━━━━━━━━━━━━━━━━━━━━\u001b[0m\u001b[37m\u001b[0m \u001b[1m8s\u001b[0m 21ms/step - accuracy: 0.4839 - loss: 2.2344 - val_accuracy: 0.5715 - val_loss: 1.9249 - learning_rate: 1.0000e-04\n",
      "Epoch 6/15\n",
      "\u001b[1m  1/390\u001b[0m \u001b[37m━━━━━━━━━━━━━━━━━━━━\u001b[0m \u001b[1m2s\u001b[0m 7ms/step - accuracy: 0.5234 - loss: 2.1754\n",
      "Epoch 6: val_loss improved from 1.92491 to 1.92261, saving model to best_model.keras\n",
      "\u001b[1m390/390\u001b[0m \u001b[32m━━━━━━━━━━━━━━━━━━━━\u001b[0m\u001b[37m\u001b[0m \u001b[1m1s\u001b[0m 1ms/step - accuracy: 0.5234 - loss: 2.1754 - val_accuracy: 0.5722 - val_loss: 1.9226 - learning_rate: 1.0000e-04\n",
      "Epoch 7/15\n",
      "\u001b[1m385/390\u001b[0m \u001b[32m━━━━━━━━━━━━━━━━━━━\u001b[0m\u001b[37m━\u001b[0m \u001b[1m0s\u001b[0m 20ms/step - accuracy: 0.5130 - loss: 2.0798\n",
      "Epoch 7: val_loss did not improve from 1.92261\n",
      "\u001b[1m390/390\u001b[0m \u001b[32m━━━━━━━━━━━━━━━━━━━━\u001b[0m\u001b[37m\u001b[0m \u001b[1m8s\u001b[0m 21ms/step - accuracy: 0.5131 - loss: 2.0794 - val_accuracy: 0.5622 - val_loss: 1.9261 - learning_rate: 1.0000e-04\n",
      "Epoch 8/15\n",
      "\u001b[1m  1/390\u001b[0m \u001b[37m━━━━━━━━━━━━━━━━━━━━\u001b[0m \u001b[1m2s\u001b[0m 6ms/step - accuracy: 0.5547 - loss: 1.9210\n",
      "Epoch 8: val_loss did not improve from 1.92261\n",
      "\u001b[1m390/390\u001b[0m \u001b[32m━━━━━━━━━━━━━━━━━━━━\u001b[0m\u001b[37m\u001b[0m \u001b[1m0s\u001b[0m 899us/step - accuracy: 0.5547 - loss: 1.9210 - val_accuracy: 0.5593 - val_loss: 1.9417 - learning_rate: 1.0000e-04\n",
      "Epoch 9/15\n",
      "\u001b[1m390/390\u001b[0m \u001b[32m━━━━━━━━━━━━━━━━━━━━\u001b[0m\u001b[37m\u001b[0m \u001b[1m0s\u001b[0m 20ms/step - accuracy: 0.5463 - loss: 1.9394\n",
      "Epoch 9: val_loss improved from 1.92261 to 1.84829, saving model to best_model.keras\n",
      "\u001b[1m390/390\u001b[0m \u001b[32m━━━━━━━━━━━━━━━━━━━━\u001b[0m\u001b[37m\u001b[0m \u001b[1m8s\u001b[0m 21ms/step - accuracy: 0.5463 - loss: 1.9393 - val_accuracy: 0.5684 - val_loss: 1.8483 - learning_rate: 1.0000e-04\n",
      "Epoch 10/15\n",
      "\u001b[1m  1/390\u001b[0m \u001b[37m━━━━━━━━━━━━━━━━━━━━\u001b[0m \u001b[1m2s\u001b[0m 6ms/step - accuracy: 0.5625 - loss: 1.8057"
     ]
    },
    {
     "name": "stderr",
     "output_type": "stream",
     "text": [
      "2024-09-02 17:27:20.165903: I tensorflow/core/framework/local_rendezvous.cc:423] Local rendezvous recv item cancelled. Key hash: 7338431921674375828\n",
      "2024-09-02 17:27:20.165933: I tensorflow/core/framework/local_rendezvous.cc:423] Local rendezvous recv item cancelled. Key hash: 11929540167347183446\n"
     ]
    },
    {
     "name": "stdout",
     "output_type": "stream",
     "text": [
      "\n",
      "Epoch 10: val_loss did not improve from 1.84829\n",
      "\u001b[1m390/390\u001b[0m \u001b[32m━━━━━━━━━━━━━━━━━━━━\u001b[0m\u001b[37m\u001b[0m \u001b[1m0s\u001b[0m 918us/step - accuracy: 0.5625 - loss: 1.8057 - val_accuracy: 0.5642 - val_loss: 1.8670 - learning_rate: 1.0000e-04\n",
      "Epoch 11/15\n",
      "\u001b[1m388/390\u001b[0m \u001b[32m━━━━━━━━━━━━━━━━━━━\u001b[0m\u001b[37m━\u001b[0m \u001b[1m0s\u001b[0m 20ms/step - accuracy: 0.5753 - loss: 1.7924\n",
      "Epoch 11: val_loss improved from 1.84829 to 1.59269, saving model to best_model.keras\n",
      "\u001b[1m390/390\u001b[0m \u001b[32m━━━━━━━━━━━━━━━━━━━━\u001b[0m\u001b[37m\u001b[0m \u001b[1m8s\u001b[0m 21ms/step - accuracy: 0.5753 - loss: 1.7923 - val_accuracy: 0.6341 - val_loss: 1.5927 - learning_rate: 1.0000e-04\n",
      "Epoch 12/15\n",
      "\u001b[1m  1/390\u001b[0m \u001b[37m━━━━━━━━━━━━━━━━━━━━\u001b[0m \u001b[1m2s\u001b[0m 7ms/step - accuracy: 0.6328 - loss: 1.6477\n",
      "Epoch 12: val_loss improved from 1.59269 to 1.59072, saving model to best_model.keras\n",
      "\u001b[1m390/390\u001b[0m \u001b[32m━━━━━━━━━━━━━━━━━━━━\u001b[0m\u001b[37m\u001b[0m \u001b[1m1s\u001b[0m 1ms/step - accuracy: 0.6328 - loss: 1.6477 - val_accuracy: 0.6334 - val_loss: 1.5907 - learning_rate: 1.0000e-04\n",
      "Epoch 13/15\n",
      "\u001b[1m390/390\u001b[0m \u001b[32m━━━━━━━━━━━━━━━━━━━━\u001b[0m\u001b[37m\u001b[0m \u001b[1m0s\u001b[0m 20ms/step - accuracy: 0.5940 - loss: 1.6835\n",
      "Epoch 13: val_loss improved from 1.59072 to 1.52057, saving model to best_model.keras\n",
      "\u001b[1m390/390\u001b[0m \u001b[32m━━━━━━━━━━━━━━━━━━━━\u001b[0m\u001b[37m\u001b[0m \u001b[1m9s\u001b[0m 22ms/step - accuracy: 0.5940 - loss: 1.6834 - val_accuracy: 0.6425 - val_loss: 1.5206 - learning_rate: 1.0000e-04\n",
      "Epoch 14/15\n",
      "\u001b[1m  1/390\u001b[0m \u001b[37m━━━━━━━━━━━━━━━━━━━━\u001b[0m \u001b[1m2s\u001b[0m 7ms/step - accuracy: 0.6484 - loss: 1.5705\n",
      "Epoch 14: val_loss did not improve from 1.52057\n",
      "\u001b[1m390/390\u001b[0m \u001b[32m━━━━━━━━━━━━━━━━━━━━\u001b[0m\u001b[37m\u001b[0m \u001b[1m0s\u001b[0m 909us/step - accuracy: 0.6484 - loss: 1.5705 - val_accuracy: 0.6427 - val_loss: 1.5256 - learning_rate: 1.0000e-04\n",
      "Epoch 15/15\n",
      "\u001b[1m386/390\u001b[0m \u001b[32m━━━━━━━━━━━━━━━━━━━\u001b[0m\u001b[37m━\u001b[0m \u001b[1m0s\u001b[0m 20ms/step - accuracy: 0.6195 - loss: 1.5780\n",
      "Epoch 15: val_loss improved from 1.52057 to 1.43229, saving model to best_model.keras\n",
      "\u001b[1m390/390\u001b[0m \u001b[32m━━━━━━━━━━━━━━━━━━━━\u001b[0m\u001b[37m\u001b[0m \u001b[1m9s\u001b[0m 22ms/step - accuracy: 0.6195 - loss: 1.5779 - val_accuracy: 0.6662 - val_loss: 1.4323 - learning_rate: 1.0000e-04\n",
      "Restoring model weights from the end of the best epoch: 15.\n"
     ]
    },
    {
     "name": "stderr",
     "output_type": "stream",
     "text": [
      "[I 2024-09-02 17:27:46,988] Trial 1 finished with value: 0.6661999821662903 and parameters: {'lr': 0.00023575048409944037, 'batch_size': 128}. Best is trial 0 with value: 0.7577999830245972.\n"
     ]
    },
    {
     "name": "stdout",
     "output_type": "stream",
     "text": [
      "Epoch 1/15\n",
      "\u001b[1m390/390\u001b[0m \u001b[32m━━━━━━━━━━━━━━━━━━━━\u001b[0m\u001b[37m\u001b[0m \u001b[1m0s\u001b[0m 26ms/step - accuracy: 0.2798 - loss: 3.1728\n",
      "Epoch 1: val_loss improved from inf to 4.08856, saving model to best_model.keras\n",
      "\u001b[1m390/390\u001b[0m \u001b[32m━━━━━━━━━━━━━━━━━━━━\u001b[0m\u001b[37m\u001b[0m \u001b[1m16s\u001b[0m 31ms/step - accuracy: 0.2799 - loss: 3.1718 - val_accuracy: 0.1999 - val_loss: 4.0886 - learning_rate: 1.0000e-04\n",
      "Epoch 2/15\n",
      "\u001b[1m  1/390\u001b[0m \u001b[37m━━━━━━━━━━━━━━━━━━━━\u001b[0m \u001b[1m2s\u001b[0m 7ms/step - accuracy: 0.4531 - loss: 2.3267\n",
      "Epoch 2: val_loss improved from 4.08856 to 4.07962, saving model to best_model.keras\n",
      "\u001b[1m390/390\u001b[0m \u001b[32m━━━━━━━━━━━━━━━━━━━━\u001b[0m\u001b[37m\u001b[0m \u001b[1m1s\u001b[0m 1ms/step - accuracy: 0.4531 - loss: 2.3267 - val_accuracy: 0.2005 - val_loss: 4.0796 - learning_rate: 1.0000e-04\n",
      "Epoch 3/15\n",
      "\u001b[1m390/390\u001b[0m \u001b[32m━━━━━━━━━━━━━━━━━━━━\u001b[0m\u001b[37m\u001b[0m \u001b[1m0s\u001b[0m 20ms/step - accuracy: 0.4143 - loss: 2.4632\n",
      "Epoch 3: val_loss improved from 4.07962 to 2.08639, saving model to best_model.keras\n",
      "\u001b[1m390/390\u001b[0m \u001b[32m━━━━━━━━━━━━━━━━━━━━\u001b[0m\u001b[37m\u001b[0m \u001b[1m8s\u001b[0m 21ms/step - accuracy: 0.4144 - loss: 2.4631 - val_accuracy: 0.5383 - val_loss: 2.0864 - learning_rate: 1.0000e-04\n",
      "Epoch 4/15\n",
      "\u001b[1m  1/390\u001b[0m \u001b[37m━━━━━━━━━━━━━━━━━━━━\u001b[0m \u001b[1m2s\u001b[0m 7ms/step - accuracy: 0.5000 - loss: 2.1748\n",
      "Epoch 4: val_loss did not improve from 2.08639\n",
      "\u001b[1m390/390\u001b[0m \u001b[32m━━━━━━━━━━━━━━━━━━━━\u001b[0m\u001b[37m\u001b[0m \u001b[1m0s\u001b[0m 910us/step - accuracy: 0.5000 - loss: 2.1748 - val_accuracy: 0.5393 - val_loss: 2.0871 - learning_rate: 1.0000e-04\n",
      "Epoch 5/15\n",
      "\u001b[1m386/390\u001b[0m \u001b[32m━━━━━━━━━━━━━━━━━━━\u001b[0m\u001b[37m━\u001b[0m \u001b[1m0s\u001b[0m 20ms/step - accuracy: 0.4652 - loss: 2.2612\n",
      "Epoch 5: val_loss improved from 2.08639 to 1.99086, saving model to best_model.keras\n",
      "\u001b[1m390/390\u001b[0m \u001b[32m━━━━━━━━━━━━━━━━━━━━\u001b[0m\u001b[37m\u001b[0m \u001b[1m8s\u001b[0m 21ms/step - accuracy: 0.4653 - loss: 2.2607 - val_accuracy: 0.5550 - val_loss: 1.9909 - learning_rate: 1.0000e-04\n",
      "Epoch 6/15\n",
      "\u001b[1m  1/390\u001b[0m \u001b[37m━━━━━━━━━━━━━━━━━━━━\u001b[0m \u001b[1m2s\u001b[0m 7ms/step - accuracy: 0.5078 - loss: 2.0864\n",
      "Epoch 6: val_loss improved from 1.99086 to 1.98927, saving model to best_model.keras\n",
      "\u001b[1m390/390\u001b[0m \u001b[32m━━━━━━━━━━━━━━━━━━━━\u001b[0m\u001b[37m\u001b[0m \u001b[1m1s\u001b[0m 1ms/step - accuracy: 0.5078 - loss: 2.0864 - val_accuracy: 0.5570 - val_loss: 1.9893 - learning_rate: 1.0000e-04\n",
      "Epoch 7/15\n",
      "\u001b[1m386/390\u001b[0m \u001b[32m━━━━━━━━━━━━━━━━━━━\u001b[0m\u001b[37m━\u001b[0m \u001b[1m0s\u001b[0m 20ms/step - accuracy: 0.5075 - loss: 2.0893\n",
      "Epoch 7: val_loss improved from 1.98927 to 1.90609, saving model to best_model.keras\n",
      "\u001b[1m390/390\u001b[0m \u001b[32m━━━━━━━━━━━━━━━━━━━━\u001b[0m\u001b[37m\u001b[0m \u001b[1m8s\u001b[0m 21ms/step - accuracy: 0.5077 - loss: 2.0887 - val_accuracy: 0.5722 - val_loss: 1.9061 - learning_rate: 1.0000e-04\n",
      "Epoch 8/15\n",
      "\u001b[1m  1/390\u001b[0m \u001b[37m━━━━━━━━━━━━━━━━━━━━\u001b[0m \u001b[1m2s\u001b[0m 6ms/step - accuracy: 0.4844 - loss: 2.0343\n",
      "Epoch 8: val_loss improved from 1.90609 to 1.90513, saving model to best_model.keras\n",
      "\u001b[1m390/390\u001b[0m \u001b[32m━━━━━━━━━━━━━━━━━━━━\u001b[0m\u001b[37m\u001b[0m \u001b[1m1s\u001b[0m 1ms/step - accuracy: 0.4844 - loss: 2.0343 - val_accuracy: 0.5713 - val_loss: 1.9051 - learning_rate: 1.0000e-04\n",
      "Epoch 9/15\n",
      "\u001b[1m390/390\u001b[0m \u001b[32m━━━━━━━━━━━━━━━━━━━━\u001b[0m\u001b[37m\u001b[0m \u001b[1m0s\u001b[0m 20ms/step - accuracy: 0.5466 - loss: 1.9208\n",
      "Epoch 9: val_loss improved from 1.90513 to 1.82821, saving model to best_model.keras\n",
      "\u001b[1m390/390\u001b[0m \u001b[32m━━━━━━━━━━━━━━━━━━━━\u001b[0m\u001b[37m\u001b[0m \u001b[1m8s\u001b[0m 21ms/step - accuracy: 0.5466 - loss: 1.9207 - val_accuracy: 0.5855 - val_loss: 1.8282 - learning_rate: 1.0000e-04\n",
      "Epoch 10/15\n",
      "\u001b[1m  1/390\u001b[0m \u001b[37m━━━━━━━━━━━━━━━━━━━━\u001b[0m \u001b[1m2s\u001b[0m 7ms/step - accuracy: 0.5859 - loss: 1.8809\n",
      "Epoch 10: val_loss improved from 1.82821 to 1.82697, saving model to best_model.keras\n",
      "\u001b[1m390/390\u001b[0m \u001b[32m━━━━━━━━━━━━━━━━━━━━\u001b[0m\u001b[37m\u001b[0m \u001b[1m1s\u001b[0m 1ms/step - accuracy: 0.5859 - loss: 1.8809 - val_accuracy: 0.5857 - val_loss: 1.8270 - learning_rate: 1.0000e-04\n",
      "Epoch 11/15\n",
      "\u001b[1m385/390\u001b[0m \u001b[32m━━━━━━━━━━━━━━━━━━━\u001b[0m\u001b[37m━\u001b[0m \u001b[1m0s\u001b[0m 20ms/step - accuracy: 0.5687 - loss: 1.7947\n",
      "Epoch 11: val_loss improved from 1.82697 to 1.59448, saving model to best_model.keras\n",
      "\u001b[1m390/390\u001b[0m \u001b[32m━━━━━━━━━━━━━━━━━━━━\u001b[0m\u001b[37m\u001b[0m \u001b[1m9s\u001b[0m 22ms/step - accuracy: 0.5688 - loss: 1.7942 - val_accuracy: 0.6384 - val_loss: 1.5945 - learning_rate: 1.0000e-04\n",
      "Epoch 12/15\n",
      "\u001b[1m  1/390\u001b[0m \u001b[37m━━━━━━━━━━━━━━━━━━━━\u001b[0m \u001b[1m2s\u001b[0m 7ms/step - accuracy: 0.6172 - loss: 1.7067\n",
      "Epoch 12: val_loss did not improve from 1.59448\n",
      "\u001b[1m390/390\u001b[0m \u001b[32m━━━━━━━━━━━━━━━━━━━━\u001b[0m\u001b[37m\u001b[0m \u001b[1m0s\u001b[0m 962us/step - accuracy: 0.6172 - loss: 1.7067 - val_accuracy: 0.6365 - val_loss: 1.5965 - learning_rate: 1.0000e-04\n",
      "Epoch 13/15\n",
      "\u001b[1m388/390\u001b[0m \u001b[32m━━━━━━━━━━━━━━━━━━━\u001b[0m\u001b[37m━\u001b[0m \u001b[1m0s\u001b[0m 20ms/step - accuracy: 0.5991 - loss: 1.6633\n",
      "Epoch 13: val_loss improved from 1.59448 to 1.51731, saving model to best_model.keras\n",
      "\u001b[1m390/390\u001b[0m \u001b[32m━━━━━━━━━━━━━━━━━━━━\u001b[0m\u001b[37m\u001b[0m \u001b[1m8s\u001b[0m 21ms/step - accuracy: 0.5991 - loss: 1.6631 - val_accuracy: 0.6481 - val_loss: 1.5173 - learning_rate: 1.0000e-04\n",
      "Epoch 14/15\n",
      "\u001b[1m  1/390\u001b[0m \u001b[37m━━━━━━━━━━━━━━━━━━━━\u001b[0m \u001b[1m2s\u001b[0m 7ms/step - accuracy: 0.6562 - loss: 1.3875\n",
      "Epoch 14: val_loss did not improve from 1.51731\n",
      "\u001b[1m390/390\u001b[0m \u001b[32m━━━━━━━━━━━━━━━━━━━━\u001b[0m\u001b[37m\u001b[0m \u001b[1m0s\u001b[0m 933us/step - accuracy: 0.6562 - loss: 1.3875 - val_accuracy: 0.6471 - val_loss: 1.5220 - learning_rate: 1.0000e-04\n",
      "Epoch 15/15\n",
      "\u001b[1m390/390\u001b[0m \u001b[32m━━━━━━━━━━━━━━━━━━━━\u001b[0m\u001b[37m\u001b[0m \u001b[1m0s\u001b[0m 20ms/step - accuracy: 0.6183 - loss: 1.5515\n",
      "Epoch 15: val_loss improved from 1.51731 to 1.46074, saving model to best_model.keras\n",
      "\u001b[1m390/390\u001b[0m \u001b[32m━━━━━━━━━━━━━━━━━━━━\u001b[0m\u001b[37m\u001b[0m \u001b[1m8s\u001b[0m 21ms/step - accuracy: 0.6183 - loss: 1.5515 - val_accuracy: 0.6516 - val_loss: 1.4607 - learning_rate: 1.0000e-04\n",
      "Restoring model weights from the end of the best epoch: 15.\n"
     ]
    },
    {
     "name": "stderr",
     "output_type": "stream",
     "text": [
      "[I 2024-09-02 17:29:05,489] Trial 2 finished with value: 0.6516000032424927 and parameters: {'lr': 7.219761594323132e-05, 'batch_size': 128}. Best is trial 0 with value: 0.7577999830245972.\n"
     ]
    },
    {
     "name": "stdout",
     "output_type": "stream",
     "text": [
      "Epoch 1/15\n",
      "\u001b[1m387/390\u001b[0m \u001b[32m━━━━━━━━━━━━━━━━━━━\u001b[0m\u001b[37m━\u001b[0m \u001b[1m0s\u001b[0m 24ms/step - accuracy: 0.2938 - loss: 3.0998\n",
      "Epoch 1: val_loss improved from inf to 3.68033, saving model to best_model.keras\n",
      "\u001b[1m390/390\u001b[0m \u001b[32m━━━━━━━━━━━━━━━━━━━━\u001b[0m\u001b[37m\u001b[0m \u001b[1m15s\u001b[0m 30ms/step - accuracy: 0.2944 - loss: 3.0962 - val_accuracy: 0.2020 - val_loss: 3.6803 - learning_rate: 1.0000e-04\n",
      "Epoch 2/15\n",
      "\u001b[1m  1/390\u001b[0m \u001b[37m━━━━━━━━━━━━━━━━━━━━\u001b[0m \u001b[1m3s\u001b[0m 9ms/step - accuracy: 0.3906 - loss: 2.4333\n",
      "Epoch 2: val_loss did not improve from 3.68033\n",
      "\u001b[1m390/390\u001b[0m \u001b[32m━━━━━━━━━━━━━━━━━━━━\u001b[0m\u001b[37m\u001b[0m \u001b[1m0s\u001b[0m 964us/step - accuracy: 0.3906 - loss: 2.4333 - val_accuracy: 0.2028 - val_loss: 3.7094 - learning_rate: 1.0000e-04\n",
      "Epoch 3/15\n",
      "\u001b[1m385/390\u001b[0m \u001b[32m━━━━━━━━━━━━━━━━━━━\u001b[0m\u001b[37m━\u001b[0m \u001b[1m0s\u001b[0m 20ms/step - accuracy: 0.4269 - loss: 2.4331\n",
      "Epoch 3: val_loss improved from 3.68033 to 2.07517, saving model to best_model.keras\n",
      "\u001b[1m390/390\u001b[0m \u001b[32m━━━━━━━━━━━━━━━━━━━━\u001b[0m\u001b[37m\u001b[0m \u001b[1m9s\u001b[0m 21ms/step - accuracy: 0.4272 - loss: 2.4323 - val_accuracy: 0.5390 - val_loss: 2.0752 - learning_rate: 1.0000e-04\n",
      "Epoch 4/15\n",
      "\u001b[1m  1/390\u001b[0m \u001b[37m━━━━━━━━━━━━━━━━━━━━\u001b[0m \u001b[1m2s\u001b[0m 7ms/step - accuracy: 0.5000 - loss: 2.3285\n",
      "Epoch 4: val_loss did not improve from 2.07517\n",
      "\u001b[1m390/390\u001b[0m \u001b[32m━━━━━━━━━━━━━━━━━━━━\u001b[0m\u001b[37m\u001b[0m \u001b[1m0s\u001b[0m 925us/step - accuracy: 0.5000 - loss: 2.3285 - val_accuracy: 0.5380 - val_loss: 2.0779 - learning_rate: 1.0000e-04\n",
      "Epoch 5/15\n",
      "\u001b[1m385/390\u001b[0m \u001b[32m━━━━━━━━━━━━━━━━━━━\u001b[0m\u001b[37m━\u001b[0m \u001b[1m0s\u001b[0m 20ms/step - accuracy: 0.4825 - loss: 2.2298\n",
      "Epoch 5: val_loss improved from 2.07517 to 1.96909, saving model to best_model.keras\n",
      "\u001b[1m390/390\u001b[0m \u001b[32m━━━━━━━━━━━━━━━━━━━━\u001b[0m\u001b[37m\u001b[0m \u001b[1m8s\u001b[0m 21ms/step - accuracy: 0.4826 - loss: 2.2292 - val_accuracy: 0.5613 - val_loss: 1.9691 - learning_rate: 1.0000e-04\n",
      "Epoch 6/15\n",
      "\u001b[1m  1/390\u001b[0m \u001b[37m━━━━━━━━━━━━━━━━━━━━\u001b[0m \u001b[1m2s\u001b[0m 6ms/step - accuracy: 0.4844 - loss: 2.1476"
     ]
    },
    {
     "name": "stderr",
     "output_type": "stream",
     "text": [
      "2024-09-02 17:29:38.581068: I tensorflow/core/framework/local_rendezvous.cc:404] Local rendezvous is aborting with status: OUT_OF_RANGE: End of sequence\n",
      "\t [[{{node IteratorGetNext}}]]\n",
      "\t [[IteratorGetNext/_2]]\n"
     ]
    },
    {
     "name": "stdout",
     "output_type": "stream",
     "text": [
      "\n",
      "Epoch 6: val_loss improved from 1.96909 to 1.94946, saving model to best_model.keras\n",
      "\u001b[1m390/390\u001b[0m \u001b[32m━━━━━━━━━━━━━━━━━━━━\u001b[0m\u001b[37m\u001b[0m \u001b[1m1s\u001b[0m 1ms/step - accuracy: 0.4844 - loss: 2.1476 - val_accuracy: 0.5651 - val_loss: 1.9495 - learning_rate: 1.0000e-04\n",
      "Epoch 7/15\n",
      "\u001b[1m385/390\u001b[0m \u001b[32m━━━━━━━━━━━━━━━━━━━\u001b[0m\u001b[37m━\u001b[0m \u001b[1m0s\u001b[0m 20ms/step - accuracy: 0.5154 - loss: 2.0682\n",
      "Epoch 7: val_loss improved from 1.94946 to 1.78401, saving model to best_model.keras\n",
      "\u001b[1m390/390\u001b[0m \u001b[32m━━━━━━━━━━━━━━━━━━━━\u001b[0m\u001b[37m\u001b[0m \u001b[1m9s\u001b[0m 22ms/step - accuracy: 0.5156 - loss: 2.0676 - val_accuracy: 0.5970 - val_loss: 1.7840 - learning_rate: 1.0000e-04\n",
      "Epoch 8/15\n",
      "\u001b[1m  1/390\u001b[0m \u001b[37m━━━━━━━━━━━━━━━━━━━━\u001b[0m \u001b[1m2s\u001b[0m 6ms/step - accuracy: 0.4688 - loss: 1.9631\n",
      "Epoch 8: val_loss did not improve from 1.78401\n",
      "\u001b[1m390/390\u001b[0m \u001b[32m━━━━━━━━━━━━━━━━━━━━\u001b[0m\u001b[37m\u001b[0m \u001b[1m0s\u001b[0m 917us/step - accuracy: 0.4688 - loss: 1.9631 - val_accuracy: 0.5948 - val_loss: 1.7980 - learning_rate: 1.0000e-04\n",
      "Epoch 9/15\n",
      "\u001b[1m385/390\u001b[0m \u001b[32m━━━━━━━━━━━━━━━━━━━\u001b[0m\u001b[37m━\u001b[0m \u001b[1m0s\u001b[0m 20ms/step - accuracy: 0.5490 - loss: 1.9171\n",
      "Epoch 9: val_loss did not improve from 1.78401\n",
      "\u001b[1m390/390\u001b[0m \u001b[32m━━━━━━━━━━━━━━━━━━━━\u001b[0m\u001b[37m\u001b[0m \u001b[1m8s\u001b[0m 21ms/step - accuracy: 0.5491 - loss: 1.9166 - val_accuracy: 0.5934 - val_loss: 1.8048 - learning_rate: 1.0000e-04\n",
      "Epoch 10/15\n",
      "\u001b[1m  1/390\u001b[0m \u001b[37m━━━━━━━━━━━━━━━━━━━━\u001b[0m \u001b[1m2s\u001b[0m 6ms/step - accuracy: 0.5391 - loss: 2.0109\n",
      "Epoch 10: val_loss did not improve from 1.78401\n",
      "\u001b[1m390/390\u001b[0m \u001b[32m━━━━━━━━━━━━━━━━━━━━\u001b[0m\u001b[37m\u001b[0m \u001b[1m0s\u001b[0m 908us/step - accuracy: 0.5391 - loss: 2.0109 - val_accuracy: 0.5855 - val_loss: 1.8300 - learning_rate: 1.0000e-04\n",
      "Epoch 11/15\n",
      "\u001b[1m385/390\u001b[0m \u001b[32m━━━━━━━━━━━━━━━━━━━\u001b[0m\u001b[37m━\u001b[0m \u001b[1m0s\u001b[0m 20ms/step - accuracy: 0.5730 - loss: 1.7910\n",
      "Epoch 11: val_loss improved from 1.78401 to 1.55375, saving model to best_model.keras\n",
      "\u001b[1m390/390\u001b[0m \u001b[32m━━━━━━━━━━━━━━━━━━━━\u001b[0m\u001b[37m\u001b[0m \u001b[1m8s\u001b[0m 21ms/step - accuracy: 0.5731 - loss: 1.7905 - val_accuracy: 0.6454 - val_loss: 1.5538 - learning_rate: 1.0000e-04\n",
      "Epoch 12/15\n",
      "\u001b[1m  1/390\u001b[0m \u001b[37m━━━━━━━━━━━━━━━━━━━━\u001b[0m \u001b[1m2s\u001b[0m 6ms/step - accuracy: 0.6484 - loss: 1.5696\n",
      "Epoch 12: val_loss did not improve from 1.55375\n",
      "\u001b[1m390/390\u001b[0m \u001b[32m━━━━━━━━━━━━━━━━━━━━\u001b[0m\u001b[37m\u001b[0m \u001b[1m0s\u001b[0m 929us/step - accuracy: 0.6484 - loss: 1.5696 - val_accuracy: 0.6428 - val_loss: 1.5625 - learning_rate: 1.0000e-04\n",
      "Epoch 13/15\n",
      "\u001b[1m386/390\u001b[0m \u001b[32m━━━━━━━━━━━━━━━━━━━\u001b[0m\u001b[37m━\u001b[0m \u001b[1m0s\u001b[0m 20ms/step - accuracy: 0.5934 - loss: 1.6732\n",
      "Epoch 13: val_loss improved from 1.55375 to 1.49138, saving model to best_model.keras\n",
      "\u001b[1m390/390\u001b[0m \u001b[32m━━━━━━━━━━━━━━━━━━━━\u001b[0m\u001b[37m\u001b[0m \u001b[1m8s\u001b[0m 21ms/step - accuracy: 0.5935 - loss: 1.6729 - val_accuracy: 0.6589 - val_loss: 1.4914 - learning_rate: 1.0000e-04\n",
      "Epoch 14/15\n",
      "\u001b[1m  1/390\u001b[0m \u001b[37m━━━━━━━━━━━━━━━━━━━━\u001b[0m \u001b[1m2s\u001b[0m 6ms/step - accuracy: 0.5234 - loss: 1.8179\n",
      "Epoch 14: val_loss did not improve from 1.49138\n",
      "\u001b[1m390/390\u001b[0m \u001b[32m━━━━━━━━━━━━━━━━━━━━\u001b[0m\u001b[37m\u001b[0m \u001b[1m0s\u001b[0m 937us/step - accuracy: 0.5234 - loss: 1.8179 - val_accuracy: 0.6610 - val_loss: 1.4920 - learning_rate: 1.0000e-04\n",
      "Epoch 15/15\n",
      "\u001b[1m390/390\u001b[0m \u001b[32m━━━━━━━━━━━━━━━━━━━━\u001b[0m\u001b[37m\u001b[0m \u001b[1m0s\u001b[0m 20ms/step - accuracy: 0.6151 - loss: 1.5705\n",
      "Epoch 15: val_loss improved from 1.49138 to 1.37457, saving model to best_model.keras\n",
      "\u001b[1m390/390\u001b[0m \u001b[32m━━━━━━━━━━━━━━━━━━━━\u001b[0m\u001b[37m\u001b[0m \u001b[1m9s\u001b[0m 21ms/step - accuracy: 0.6151 - loss: 1.5704 - val_accuracy: 0.6697 - val_loss: 1.3746 - learning_rate: 1.0000e-04\n",
      "Restoring model weights from the end of the best epoch: 15.\n"
     ]
    },
    {
     "name": "stderr",
     "output_type": "stream",
     "text": [
      "[I 2024-09-02 17:30:22,841] Trial 3 finished with value: 0.669700026512146 and parameters: {'lr': 8.830156040787896e-05, 'batch_size': 128}. Best is trial 0 with value: 0.7577999830245972.\n"
     ]
    },
    {
     "name": "stdout",
     "output_type": "stream",
     "text": [
      "Epoch 1/15\n",
      "\u001b[1m1556/1562\u001b[0m \u001b[32m━━━━━━━━━━━━━━━━━━━\u001b[0m\u001b[37m━\u001b[0m \u001b[1m0s\u001b[0m 7ms/step - accuracy: 0.3063 - loss: 2.9986\n",
      "Epoch 1: val_loss improved from inf to 2.39571, saving model to best_model.keras\n",
      "\u001b[1m1562/1562\u001b[0m \u001b[32m━━━━━━━━━━━━━━━━━━━━\u001b[0m\u001b[37m\u001b[0m \u001b[1m17s\u001b[0m 9ms/step - accuracy: 0.3065 - loss: 2.9971 - val_accuracy: 0.4541 - val_loss: 2.3957 - learning_rate: 1.0000e-04\n",
      "Epoch 2/15\n",
      "\u001b[1m   1/1562\u001b[0m \u001b[37m━━━━━━━━━━━━━━━━━━━━\u001b[0m \u001b[1m7s\u001b[0m 5ms/step - accuracy: 0.4375 - loss: 2.4547\n",
      "Epoch 2: val_loss improved from 2.39571 to 2.38897, saving model to best_model.keras\n",
      "\u001b[1m1562/1562\u001b[0m \u001b[32m━━━━━━━━━━━━━━━━━━━━\u001b[0m\u001b[37m\u001b[0m \u001b[1m1s\u001b[0m 325us/step - accuracy: 0.4375 - loss: 2.4547 - val_accuracy: 0.4559 - val_loss: 2.3890 - learning_rate: 1.0000e-04\n",
      "Epoch 3/15\n",
      "\u001b[1m1556/1562\u001b[0m \u001b[32m━━━━━━━━━━━━━━━━━━━\u001b[0m\u001b[37m━\u001b[0m \u001b[1m0s\u001b[0m 6ms/step - accuracy: 0.4438 - loss: 2.2917\n",
      "Epoch 3: val_loss improved from 2.38897 to 1.96367, saving model to best_model.keras\n",
      "\u001b[1m1562/1562\u001b[0m \u001b[32m━━━━━━━━━━━━━━━━━━━━\u001b[0m\u001b[37m\u001b[0m \u001b[1m9s\u001b[0m 6ms/step - accuracy: 0.4438 - loss: 2.2913 - val_accuracy: 0.5414 - val_loss: 1.9637 - learning_rate: 1.0000e-04\n",
      "Epoch 4/15\n",
      "\u001b[1m   1/1562\u001b[0m \u001b[37m━━━━━━━━━━━━━━━━━━━━\u001b[0m \u001b[1m6s\u001b[0m 4ms/step - accuracy: 0.4062 - loss: 1.9726\n",
      "Epoch 4: val_loss did not improve from 1.96367\n",
      "\u001b[1m1562/1562\u001b[0m \u001b[32m━━━━━━━━━━━━━━━━━━━━\u001b[0m\u001b[37m\u001b[0m \u001b[1m0s\u001b[0m 240us/step - accuracy: 0.4062 - loss: 1.9726 - val_accuracy: 0.5394 - val_loss: 1.9653 - learning_rate: 1.0000e-04\n",
      "Epoch 5/15\n",
      "\u001b[1m1555/1562\u001b[0m \u001b[32m━━━━━━━━━━━━━━━━━━━\u001b[0m\u001b[37m━\u001b[0m \u001b[1m0s\u001b[0m 6ms/step - accuracy: 0.5090 - loss: 1.9624\n",
      "Epoch 5: val_loss improved from 1.96367 to 1.62406, saving model to best_model.keras\n",
      "\u001b[1m1562/1562\u001b[0m \u001b[32m━━━━━━━━━━━━━━━━━━━━\u001b[0m\u001b[37m\u001b[0m \u001b[1m10s\u001b[0m 6ms/step - accuracy: 0.5090 - loss: 1.9621 - val_accuracy: 0.5969 - val_loss: 1.6241 - learning_rate: 1.0000e-04\n",
      "Epoch 6/15\n",
      "\u001b[1m   1/1562\u001b[0m \u001b[37m━━━━━━━━━━━━━━━━━━━━\u001b[0m \u001b[1m5s\u001b[0m 4ms/step - accuracy: 0.5312 - loss: 1.9090\n",
      "Epoch 6: val_loss improved from 1.62406 to 1.60980, saving model to best_model.keras\n",
      "\u001b[1m1562/1562\u001b[0m \u001b[32m━━━━━━━━━━━━━━━━━━━━\u001b[0m\u001b[37m\u001b[0m \u001b[1m1s\u001b[0m 342us/step - accuracy: 0.5312 - loss: 1.9090 - val_accuracy: 0.6003 - val_loss: 1.6098 - learning_rate: 1.0000e-04\n",
      "Epoch 7/15\n",
      "\u001b[1m1558/1562\u001b[0m \u001b[32m━━━━━━━━━━━━━━━━━━━\u001b[0m\u001b[37m━\u001b[0m \u001b[1m0s\u001b[0m 6ms/step - accuracy: 0.5623 - loss: 1.6811\n",
      "Epoch 7: val_loss improved from 1.60980 to 1.50684, saving model to best_model.keras\n",
      "\u001b[1m1562/1562\u001b[0m \u001b[32m━━━━━━━━━━━━━━━━━━━━\u001b[0m\u001b[37m\u001b[0m \u001b[1m10s\u001b[0m 6ms/step - accuracy: 0.5624 - loss: 1.6809 - val_accuracy: 0.5931 - val_loss: 1.5068 - learning_rate: 1.0000e-04\n",
      "Epoch 8/15\n",
      "\u001b[1m   1/1562\u001b[0m \u001b[37m━━━━━━━━━━━━━━━━━━━━\u001b[0m \u001b[1m6s\u001b[0m 4ms/step - accuracy: 0.6562 - loss: 1.2332\n",
      "Epoch 8: val_loss improved from 1.50684 to 1.49137, saving model to best_model.keras\n",
      "\u001b[1m1562/1562\u001b[0m \u001b[32m━━━━━━━━━━━━━━━━━━━━\u001b[0m\u001b[37m\u001b[0m \u001b[1m1s\u001b[0m 330us/step - accuracy: 0.6562 - loss: 1.2332 - val_accuracy: 0.5978 - val_loss: 1.4914 - learning_rate: 1.0000e-04\n",
      "Epoch 9/15\n",
      "\u001b[1m1556/1562\u001b[0m \u001b[32m━━━━━━━━━━━━━━━━━━━\u001b[0m\u001b[37m━\u001b[0m \u001b[1m0s\u001b[0m 6ms/step - accuracy: 0.5991 - loss: 1.4716\n",
      "Epoch 9: val_loss improved from 1.49137 to 1.21955, saving model to best_model.keras\n",
      "\u001b[1m1562/1562\u001b[0m \u001b[32m━━━━━━━━━━━━━━━━━━━━\u001b[0m\u001b[37m\u001b[0m \u001b[1m10s\u001b[0m 6ms/step - accuracy: 0.5991 - loss: 1.4714 - val_accuracy: 0.6700 - val_loss: 1.2195 - learning_rate: 1.0000e-04\n",
      "Epoch 10/15\n",
      "\u001b[1m   1/1562\u001b[0m \u001b[37m━━━━━━━━━━━━━━━━━━━━\u001b[0m \u001b[1m5s\u001b[0m 4ms/step - accuracy: 0.5938 - loss: 1.5289\n",
      "Epoch 10: val_loss did not improve from 1.21955\n",
      "\u001b[1m1562/1562\u001b[0m \u001b[32m━━━━━━━━━━━━━━━━━━━━\u001b[0m\u001b[37m\u001b[0m \u001b[1m0s\u001b[0m 241us/step - accuracy: 0.5938 - loss: 1.5289 - val_accuracy: 0.6687 - val_loss: 1.2211 - learning_rate: 1.0000e-04\n",
      "Epoch 11/15\n",
      "\u001b[1m1555/1562\u001b[0m \u001b[32m━━━━━━━━━━━━━━━━━━━\u001b[0m\u001b[37m━\u001b[0m \u001b[1m0s\u001b[0m 6ms/step - accuracy: 0.6252 - loss: 1.3280\n",
      "Epoch 11: val_loss improved from 1.21955 to 1.08681, saving model to best_model.keras\n",
      "\u001b[1m1562/1562\u001b[0m \u001b[32m━━━━━━━━━━━━━━━━━━━━\u001b[0m\u001b[37m\u001b[0m \u001b[1m10s\u001b[0m 6ms/step - accuracy: 0.6253 - loss: 1.3279 - val_accuracy: 0.7049 - val_loss: 1.0868 - learning_rate: 1.0000e-04\n",
      "Epoch 12/15\n",
      "\u001b[1m   1/1562\u001b[0m \u001b[37m━━━━━━━━━━━━━━━━━━━━\u001b[0m \u001b[1m6s\u001b[0m 4ms/step - accuracy: 0.5625 - loss: 1.4199\n",
      "Epoch 12: val_loss improved from 1.08681 to 1.08491, saving model to best_model.keras\n",
      "\u001b[1m1562/1562\u001b[0m \u001b[32m━━━━━━━━━━━━━━━━━━━━\u001b[0m\u001b[37m\u001b[0m \u001b[1m1s\u001b[0m 331us/step - accuracy: 0.5625 - loss: 1.4199 - val_accuracy: 0.7052 - val_loss: 1.0849 - learning_rate: 1.0000e-04\n",
      "Epoch 13/15\n",
      "\u001b[1m1554/1562\u001b[0m \u001b[32m━━━━━━━━━━━━━━━━━━━\u001b[0m\u001b[37m━\u001b[0m \u001b[1m0s\u001b[0m 6ms/step - accuracy: 0.6592 - loss: 1.2112\n",
      "Epoch 13: val_loss improved from 1.08491 to 1.07022, saving model to best_model.keras\n",
      "\u001b[1m1562/1562\u001b[0m \u001b[32m━━━━━━━━━━━━━━━━━━━━\u001b[0m\u001b[37m\u001b[0m \u001b[1m10s\u001b[0m 6ms/step - accuracy: 0.6592 - loss: 1.2111 - val_accuracy: 0.7049 - val_loss: 1.0702 - learning_rate: 1.0000e-04\n",
      "Epoch 14/15\n",
      "\u001b[1m   1/1562\u001b[0m \u001b[37m━━━━━━━━━━━━━━━━━━━━\u001b[0m \u001b[1m5s\u001b[0m 4ms/step - accuracy: 0.6875 - loss: 1.0839\n",
      "Epoch 14: val_loss did not improve from 1.07022\n",
      "\u001b[1m1562/1562\u001b[0m \u001b[32m━━━━━━━━━━━━━━━━━━━━\u001b[0m\u001b[37m\u001b[0m \u001b[1m0s\u001b[0m 239us/step - accuracy: 0.6875 - loss: 1.0839 - val_accuracy: 0.7016 - val_loss: 1.0778 - learning_rate: 1.0000e-04\n",
      "Epoch 15/15\n",
      "\u001b[1m1556/1562\u001b[0m \u001b[32m━━━━━━━━━━━━━━━━━━━\u001b[0m\u001b[37m━\u001b[0m \u001b[1m0s\u001b[0m 6ms/step - accuracy: 0.6856 - loss: 1.1147\n",
      "Epoch 15: val_loss improved from 1.07022 to 0.98094, saving model to best_model.keras\n",
      "\u001b[1m1562/1562\u001b[0m \u001b[32m━━━━━━━━━━━━━━━━━━━━\u001b[0m\u001b[37m\u001b[0m \u001b[1m10s\u001b[0m 6ms/step - accuracy: 0.6856 - loss: 1.1147 - val_accuracy: 0.7329 - val_loss: 0.9809 - learning_rate: 1.0000e-04\n",
      "Restoring model weights from the end of the best epoch: 15.\n"
     ]
    },
    {
     "name": "stderr",
     "output_type": "stream",
     "text": [
      "[I 2024-09-02 17:31:51,038] Trial 4 finished with value: 0.7329000234603882 and parameters: {'lr': 1.0183854668236481e-05, 'batch_size': 32}. Best is trial 0 with value: 0.7577999830245972.\n"
     ]
    },
    {
     "name": "stdout",
     "output_type": "stream",
     "text": [
      "Epoch 1/15\n",
      "\u001b[1m390/390\u001b[0m \u001b[32m━━━━━━━━━━━━━━━━━━━━\u001b[0m\u001b[37m\u001b[0m \u001b[1m0s\u001b[0m 24ms/step - accuracy: 0.2915 - loss: 3.1011\n",
      "Epoch 1: val_loss improved from inf to 3.85125, saving model to best_model.keras\n",
      "\u001b[1m390/390\u001b[0m \u001b[32m━━━━━━━━━━━━━━━━━━━━\u001b[0m\u001b[37m\u001b[0m \u001b[1m15s\u001b[0m 30ms/step - accuracy: 0.2917 - loss: 3.1002 - val_accuracy: 0.2009 - val_loss: 3.8512 - learning_rate: 1.0000e-04\n",
      "Epoch 2/15\n",
      "\u001b[1m  1/390\u001b[0m \u001b[37m━━━━━━━━━━━━━━━━━━━━\u001b[0m \u001b[1m3s\u001b[0m 9ms/step - accuracy: 0.3906 - loss: 2.5103\n",
      "Epoch 2: val_loss improved from 3.85125 to 3.84610, saving model to best_model.keras\n",
      "\u001b[1m390/390\u001b[0m \u001b[32m━━━━━━━━━━━━━━━━━━━━\u001b[0m\u001b[37m\u001b[0m \u001b[1m1s\u001b[0m 1ms/step - accuracy: 0.3906 - loss: 2.5103 - val_accuracy: 0.1995 - val_loss: 3.8461 - learning_rate: 1.0000e-04\n",
      "Epoch 3/15\n",
      "\u001b[1m386/390\u001b[0m \u001b[32m━━━━━━━━━━━━━━━━━━━\u001b[0m\u001b[37m━\u001b[0m \u001b[1m0s\u001b[0m 20ms/step - accuracy: 0.4361 - loss: 2.4152\n",
      "Epoch 3: val_loss improved from 3.84610 to 2.14208, saving model to best_model.keras\n",
      "\u001b[1m390/390\u001b[0m \u001b[32m━━━━━━━━━━━━━━━━━━━━\u001b[0m\u001b[37m\u001b[0m \u001b[1m8s\u001b[0m 21ms/step - accuracy: 0.4362 - loss: 2.4145 - val_accuracy: 0.5236 - val_loss: 2.1421 - learning_rate: 1.0000e-04\n",
      "Epoch 4/15\n",
      "\u001b[1m  1/390\u001b[0m \u001b[37m━━━━━━━━━━━━━━━━━━━━\u001b[0m \u001b[1m3s\u001b[0m 8ms/step - accuracy: 0.5781 - loss: 2.1554\n",
      "Epoch 4: val_loss did not improve from 2.14208\n",
      "\u001b[1m390/390\u001b[0m \u001b[32m━━━━━━━━━━━━━━━━━━━━\u001b[0m\u001b[37m\u001b[0m \u001b[1m0s\u001b[0m 954us/step - accuracy: 0.5781 - loss: 2.1554 - val_accuracy: 0.5228 - val_loss: 2.1482 - learning_rate: 1.0000e-04\n",
      "Epoch 5/15\n",
      "\u001b[1m386/390\u001b[0m \u001b[32m━━━━━━━━━━━━━━━━━━━\u001b[0m\u001b[37m━\u001b[0m \u001b[1m0s\u001b[0m 20ms/step - accuracy: 0.4829 - loss: 2.2211\n",
      "Epoch 5: val_loss improved from 2.14208 to 2.01478, saving model to best_model.keras\n",
      "\u001b[1m390/390\u001b[0m \u001b[32m━━━━━━━━━━━━━━━━━━━━\u001b[0m\u001b[37m\u001b[0m \u001b[1m8s\u001b[0m 21ms/step - accuracy: 0.4830 - loss: 2.2206 - val_accuracy: 0.5275 - val_loss: 2.0148 - learning_rate: 1.0000e-04\n",
      "Epoch 6/15\n",
      "\u001b[1m  1/390\u001b[0m \u001b[37m━━━━━━━━━━━━━━━━━━━━\u001b[0m \u001b[1m2s\u001b[0m 6ms/step - accuracy: 0.4375 - loss: 2.2004\n",
      "Epoch 6: val_loss improved from 2.01478 to 2.00087, saving model to best_model.keras\n",
      "\u001b[1m390/390\u001b[0m \u001b[32m━━━━━━━━━━━━━━━━━━━━\u001b[0m\u001b[37m\u001b[0m \u001b[1m1s\u001b[0m 1ms/step - accuracy: 0.4375 - loss: 2.2004 - val_accuracy: 0.5314 - val_loss: 2.0009 - learning_rate: 1.0000e-04\n",
      "Epoch 7/15\n",
      "\u001b[1m388/390\u001b[0m \u001b[32m━━━━━━━━━━━━━━━━━━━\u001b[0m\u001b[37m━\u001b[0m \u001b[1m0s\u001b[0m 20ms/step - accuracy: 0.5235 - loss: 2.0474\n",
      "Epoch 7: val_loss improved from 2.00087 to 1.90357, saving model to best_model.keras\n",
      "\u001b[1m390/390\u001b[0m \u001b[32m━━━━━━━━━━━━━━━━━━━━\u001b[0m\u001b[37m\u001b[0m \u001b[1m8s\u001b[0m 21ms/step - accuracy: 0.5235 - loss: 2.0471 - val_accuracy: 0.5733 - val_loss: 1.9036 - learning_rate: 1.0000e-04\n",
      "Epoch 8/15\n",
      "\u001b[1m  1/390\u001b[0m \u001b[37m━━━━━━━━━━━━━━━━━━━━\u001b[0m \u001b[1m2s\u001b[0m 7ms/step - accuracy: 0.5312 - loss: 2.0063\n",
      "Epoch 8: val_loss improved from 1.90357 to 1.87296, saving model to best_model.keras\n",
      "\u001b[1m390/390\u001b[0m \u001b[32m━━━━━━━━━━━━━━━━━━━━\u001b[0m\u001b[37m\u001b[0m \u001b[1m1s\u001b[0m 1ms/step - accuracy: 0.5312 - loss: 2.0063 - val_accuracy: 0.5774 - val_loss: 1.8730 - learning_rate: 1.0000e-04\n",
      "Epoch 9/15\n",
      "\u001b[1m390/390\u001b[0m \u001b[32m━━━━━━━━━━━━━━━━━━━━\u001b[0m\u001b[37m\u001b[0m \u001b[1m0s\u001b[0m 20ms/step - accuracy: 0.5550 - loss: 1.8935\n",
      "Epoch 9: val_loss improved from 1.87296 to 1.58971, saving model to best_model.keras\n",
      "\u001b[1m390/390\u001b[0m \u001b[32m━━━━━━━━━━━━━━━━━━━━\u001b[0m\u001b[37m\u001b[0m \u001b[1m8s\u001b[0m 21ms/step - accuracy: 0.5550 - loss: 1.8934 - val_accuracy: 0.6432 - val_loss: 1.5897 - learning_rate: 1.0000e-04\n",
      "Epoch 10/15\n",
      "\u001b[1m  1/390\u001b[0m \u001b[37m━━━━━━━━━━━━━━━━━━━━\u001b[0m \u001b[1m2s\u001b[0m 7ms/step - accuracy: 0.5938 - loss: 1.8414\n",
      "Epoch 10: val_loss did not improve from 1.58971\n",
      "\u001b[1m390/390\u001b[0m \u001b[32m━━━━━━━━━━━━━━━━━━━━\u001b[0m\u001b[37m\u001b[0m \u001b[1m0s\u001b[0m 933us/step - accuracy: 0.5938 - loss: 1.8414 - val_accuracy: 0.6414 - val_loss: 1.5937 - learning_rate: 1.0000e-04\n",
      "Epoch 11/15\n",
      "\u001b[1m386/390\u001b[0m \u001b[32m━━━━━━━━━━━━━━━━━━━\u001b[0m\u001b[37m━\u001b[0m \u001b[1m0s\u001b[0m 20ms/step - accuracy: 0.5767 - loss: 1.7656\n",
      "Epoch 11: val_loss improved from 1.58971 to 1.49567, saving model to best_model.keras\n",
      "\u001b[1m390/390\u001b[0m \u001b[32m━━━━━━━━━━━━━━━━━━━━\u001b[0m\u001b[37m\u001b[0m \u001b[1m8s\u001b[0m 21ms/step - accuracy: 0.5768 - loss: 1.7652 - val_accuracy: 0.6547 - val_loss: 1.4957 - learning_rate: 1.0000e-04\n",
      "Epoch 12/15\n",
      "\u001b[1m  1/390\u001b[0m \u001b[37m━━━━━━━━━━━━━━━━━━━━\u001b[0m \u001b[1m2s\u001b[0m 7ms/step - accuracy: 0.6406 - loss: 1.6433\n",
      "Epoch 12: val_loss did not improve from 1.49567\n",
      "\u001b[1m390/390\u001b[0m \u001b[32m━━━━━━━━━━━━━━━━━━━━\u001b[0m\u001b[37m\u001b[0m \u001b[1m0s\u001b[0m 959us/step - accuracy: 0.6406 - loss: 1.6433 - val_accuracy: 0.6571 - val_loss: 1.4962 - learning_rate: 1.0000e-04\n",
      "Epoch 13/15\n",
      "\u001b[1m386/390\u001b[0m \u001b[32m━━━━━━━━━━━━━━━━━━━\u001b[0m\u001b[37m━\u001b[0m \u001b[1m0s\u001b[0m 20ms/step - accuracy: 0.5995 - loss: 1.6528\n",
      "Epoch 13: val_loss did not improve from 1.49567\n",
      "\u001b[1m390/390\u001b[0m \u001b[32m━━━━━━━━━━━━━━━━━━━━\u001b[0m\u001b[37m\u001b[0m \u001b[1m8s\u001b[0m 21ms/step - accuracy: 0.5996 - loss: 1.6524 - val_accuracy: 0.6373 - val_loss: 1.5779 - learning_rate: 1.0000e-04\n",
      "Epoch 14/15\n",
      "\u001b[1m  1/390\u001b[0m \u001b[37m━━━━━━━━━━━━━━━━━━━━\u001b[0m \u001b[1m2s\u001b[0m 6ms/step - accuracy: 0.5703 - loss: 1.5612"
     ]
    },
    {
     "name": "stderr",
     "output_type": "stream",
     "text": [
      "2024-09-02 17:32:59.501796: I tensorflow/core/framework/local_rendezvous.cc:423] Local rendezvous recv item cancelled. Key hash: 7338431921674375828\n",
      "2024-09-02 17:32:59.501837: I tensorflow/core/framework/local_rendezvous.cc:423] Local rendezvous recv item cancelled. Key hash: 11929540167347183446\n"
     ]
    },
    {
     "name": "stdout",
     "output_type": "stream",
     "text": [
      "\n",
      "Epoch 14: val_loss did not improve from 1.49567\n",
      "\u001b[1m390/390\u001b[0m \u001b[32m━━━━━━━━━━━━━━━━━━━━\u001b[0m\u001b[37m\u001b[0m \u001b[1m0s\u001b[0m 930us/step - accuracy: 0.5703 - loss: 1.5612 - val_accuracy: 0.6329 - val_loss: 1.6087 - learning_rate: 1.0000e-04\n",
      "Epoch 15/15\n",
      "\u001b[1m386/390\u001b[0m \u001b[32m━━━━━━━━━━━━━━━━━━━\u001b[0m\u001b[37m━\u001b[0m \u001b[1m0s\u001b[0m 20ms/step - accuracy: 0.6251 - loss: 1.5362\n",
      "Epoch 15: val_loss improved from 1.49567 to 1.30125, saving model to best_model.keras\n",
      "\u001b[1m390/390\u001b[0m \u001b[32m━━━━━━━━━━━━━━━━━━━━\u001b[0m\u001b[37m\u001b[0m \u001b[1m8s\u001b[0m 21ms/step - accuracy: 0.6251 - loss: 1.5360 - val_accuracy: 0.6977 - val_loss: 1.3013 - learning_rate: 1.0000e-04\n",
      "Restoring model weights from the end of the best epoch: 15.\n"
     ]
    },
    {
     "name": "stderr",
     "output_type": "stream",
     "text": [
      "[I 2024-09-02 17:33:08,263] Trial 5 finished with value: 0.697700023651123 and parameters: {'lr': 1.9942180076884915e-05, 'batch_size': 128}. Best is trial 0 with value: 0.7577999830245972.\n"
     ]
    },
    {
     "name": "stdout",
     "output_type": "stream",
     "text": [
      "Epoch 1/15\n",
      "\u001b[1m775/781\u001b[0m \u001b[32m━━━━━━━━━━━━━━━━━━━\u001b[0m\u001b[37m━\u001b[0m \u001b[1m0s\u001b[0m 12ms/step - accuracy: 0.3007 - loss: 3.0473\n",
      "Epoch 1: val_loss improved from inf to 2.17970, saving model to best_model.keras\n"
     ]
    },
    {
     "name": "stderr",
     "output_type": "stream",
     "text": [
      "[I 2024-09-02 17:33:26,324] Trial 6 pruned. Trial was pruned at epoch 0.\n"
     ]
    },
    {
     "name": "stdout",
     "output_type": "stream",
     "text": [
      "Epoch 1/15\n",
      "\u001b[1m779/781\u001b[0m \u001b[32m━━━━━━━━━━━━━━━━━━━\u001b[0m\u001b[37m━\u001b[0m \u001b[1m0s\u001b[0m 13ms/step - accuracy: 0.3021 - loss: 3.0518\n",
      "Epoch 1: val_loss improved from inf to 2.20636, saving model to best_model.keras\n"
     ]
    },
    {
     "name": "stderr",
     "output_type": "stream",
     "text": [
      "[I 2024-09-02 17:33:41,673] Trial 7 pruned. Trial was pruned at epoch 0.\n"
     ]
    },
    {
     "name": "stdout",
     "output_type": "stream",
     "text": [
      "Epoch 1/15\n",
      "\u001b[1m388/390\u001b[0m \u001b[32m━━━━━━━━━━━━━━━━━━━\u001b[0m\u001b[37m━\u001b[0m \u001b[1m0s\u001b[0m 25ms/step - accuracy: 0.2905 - loss: 3.1445\n",
      "Epoch 1: val_loss improved from inf to 3.44419, saving model to best_model.keras\n"
     ]
    },
    {
     "name": "stderr",
     "output_type": "stream",
     "text": [
      "[I 2024-09-02 17:33:57,107] Trial 8 pruned. Trial was pruned at epoch 0.\n"
     ]
    },
    {
     "name": "stdout",
     "output_type": "stream",
     "text": [
      "Epoch 1/15\n",
      "\u001b[1m781/781\u001b[0m \u001b[32m━━━━━━━━━━━━━━━━━━━━\u001b[0m\u001b[37m\u001b[0m \u001b[1m0s\u001b[0m 13ms/step - accuracy: 0.2998 - loss: 3.0483\n",
      "Epoch 1: val_loss improved from inf to 2.23639, saving model to best_model.keras\n"
     ]
    },
    {
     "name": "stderr",
     "output_type": "stream",
     "text": [
      "[I 2024-09-02 17:34:12,889] Trial 9 pruned. Trial was pruned at epoch 0.\n"
     ]
    },
    {
     "name": "stdout",
     "output_type": "stream",
     "text": [
      "Epoch 1/15\n",
      "\u001b[1m1558/1562\u001b[0m \u001b[32m━━━━━━━━━━━━━━━━━━━\u001b[0m\u001b[37m━\u001b[0m \u001b[1m0s\u001b[0m 7ms/step - accuracy: 0.3033 - loss: 3.0017\n",
      "Epoch 1: val_loss improved from inf to 2.15404, saving model to best_model.keras\n"
     ]
    },
    {
     "name": "stderr",
     "output_type": "stream",
     "text": [
      "[I 2024-09-02 17:34:29,147] Trial 10 pruned. Trial was pruned at epoch 0.\n"
     ]
    },
    {
     "name": "stdout",
     "output_type": "stream",
     "text": [
      "Epoch 1/15\n",
      "\u001b[1m1559/1562\u001b[0m \u001b[32m━━━━━━━━━━━━━━━━━━━\u001b[0m\u001b[37m━\u001b[0m \u001b[1m0s\u001b[0m 7ms/step - accuracy: 0.3078 - loss: 2.9610\n",
      "Epoch 1: val_loss improved from inf to 2.19538, saving model to best_model.keras\n"
     ]
    },
    {
     "name": "stderr",
     "output_type": "stream",
     "text": [
      "[I 2024-09-02 17:34:45,472] Trial 11 pruned. Trial was pruned at epoch 0.\n"
     ]
    },
    {
     "name": "stdout",
     "output_type": "stream",
     "text": [
      "Epoch 1/15\n",
      "\u001b[1m1551/1562\u001b[0m \u001b[32m━━━━━━━━━━━━━━━━━━━\u001b[0m\u001b[37m━\u001b[0m \u001b[1m0s\u001b[0m 7ms/step - accuracy: 0.3063 - loss: 2.9831\n",
      "Epoch 1: val_loss improved from inf to 2.36782, saving model to best_model.keras\n"
     ]
    },
    {
     "name": "stderr",
     "output_type": "stream",
     "text": [
      "[I 2024-09-02 17:35:02,011] Trial 12 pruned. Trial was pruned at epoch 0.\n"
     ]
    },
    {
     "name": "stdout",
     "output_type": "stream",
     "text": [
      "Epoch 1/15\n",
      "\u001b[1m1556/1562\u001b[0m \u001b[32m━━━━━━━━━━━━━━━━━━━\u001b[0m\u001b[37m━\u001b[0m \u001b[1m0s\u001b[0m 7ms/step - accuracy: 0.3056 - loss: 2.9855\n",
      "Epoch 1: val_loss improved from inf to 2.26686, saving model to best_model.keras\n"
     ]
    },
    {
     "name": "stderr",
     "output_type": "stream",
     "text": [
      "[I 2024-09-02 17:35:18,736] Trial 13 pruned. Trial was pruned at epoch 0.\n"
     ]
    },
    {
     "name": "stdout",
     "output_type": "stream",
     "text": [
      "Epoch 1/15\n",
      "\u001b[1m1560/1562\u001b[0m \u001b[32m━━━━━━━━━━━━━━━━━━━\u001b[0m\u001b[37m━\u001b[0m \u001b[1m0s\u001b[0m 7ms/step - accuracy: 0.3036 - loss: 2.9851\n",
      "Epoch 1: val_loss improved from inf to 2.14429, saving model to best_model.keras\n"
     ]
    },
    {
     "name": "stderr",
     "output_type": "stream",
     "text": [
      "[I 2024-09-02 17:35:35,051] Trial 14 pruned. Trial was pruned at epoch 0.\n"
     ]
    },
    {
     "name": "stdout",
     "output_type": "stream",
     "text": [
      "Epoch 1/15\n",
      "\u001b[1m1560/1562\u001b[0m \u001b[32m━━━━━━━━━━━━━━━━━━━\u001b[0m\u001b[37m━\u001b[0m \u001b[1m0s\u001b[0m 7ms/step - accuracy: 0.3024 - loss: 2.9791\n",
      "Epoch 1: val_loss improved from inf to 2.17978, saving model to best_model.keras\n"
     ]
    },
    {
     "name": "stderr",
     "output_type": "stream",
     "text": [
      "[I 2024-09-02 17:35:51,528] Trial 15 pruned. Trial was pruned at epoch 0.\n"
     ]
    },
    {
     "name": "stdout",
     "output_type": "stream",
     "text": [
      "Epoch 1/15\n",
      "\u001b[1m1551/1562\u001b[0m \u001b[32m━━━━━━━━━━━━━━━━━━━\u001b[0m\u001b[37m━\u001b[0m \u001b[1m0s\u001b[0m 7ms/step - accuracy: 0.3078 - loss: 2.9672\n",
      "Epoch 1: val_loss improved from inf to 2.18227, saving model to best_model.keras\n"
     ]
    },
    {
     "name": "stderr",
     "output_type": "stream",
     "text": [
      "[I 2024-09-02 17:36:09,094] Trial 16 pruned. Trial was pruned at epoch 0.\n"
     ]
    },
    {
     "name": "stdout",
     "output_type": "stream",
     "text": [
      "Epoch 1/15\n",
      "\u001b[1m1561/1562\u001b[0m \u001b[32m━━━━━━━━━━━━━━━━━━━\u001b[0m\u001b[37m━\u001b[0m \u001b[1m0s\u001b[0m 7ms/step - accuracy: 0.3082 - loss: 2.9874\n",
      "Epoch 1: val_loss improved from inf to 2.26275, saving model to best_model.keras\n"
     ]
    },
    {
     "name": "stderr",
     "output_type": "stream",
     "text": [
      "[I 2024-09-02 17:36:26,031] Trial 17 pruned. Trial was pruned at epoch 0.\n"
     ]
    },
    {
     "name": "stdout",
     "output_type": "stream",
     "text": [
      "Epoch 1/15\n",
      "\u001b[1m1551/1562\u001b[0m \u001b[32m━━━━━━━━━━━━━━━━━━━\u001b[0m\u001b[37m━\u001b[0m \u001b[1m0s\u001b[0m 7ms/step - accuracy: 0.3093 - loss: 2.9718\n",
      "Epoch 1: val_loss improved from inf to 2.35094, saving model to best_model.keras\n"
     ]
    },
    {
     "name": "stderr",
     "output_type": "stream",
     "text": [
      "[I 2024-09-02 17:36:42,376] Trial 18 pruned. Trial was pruned at epoch 0.\n"
     ]
    },
    {
     "name": "stdout",
     "output_type": "stream",
     "text": [
      "Epoch 1/15\n",
      "\u001b[1m1557/1562\u001b[0m \u001b[32m━━━━━━━━━━━━━━━━━━━\u001b[0m\u001b[37m━\u001b[0m \u001b[1m0s\u001b[0m 7ms/step - accuracy: 0.3055 - loss: 2.9599\n",
      "Epoch 1: val_loss improved from inf to 2.33576, saving model to best_model.keras\n"
     ]
    },
    {
     "name": "stderr",
     "output_type": "stream",
     "text": [
      "[I 2024-09-02 17:36:58,813] Trial 19 pruned. Trial was pruned at epoch 0.\n"
     ]
    },
    {
     "name": "stdout",
     "output_type": "stream",
     "text": [
      "Best trial:\n",
      "  Value: 0.7577999830245972\n",
      "  Params: \n",
      "    lr: 0.0008750803832793538\n",
      "    batch_size: 32\n"
     ]
    }
   ],
   "source": [
    "# cell2: Hyperparameter tuning using Optuna for optimizing the learning rate and batch size of the CNN model\n",
    "\n",
    "import optuna  # Importing Optuna for hyperparameter optimization\n",
    "from optuna.integration import KerasPruningCallback  # Importing KerasPruningCallback for pruning unpromising trials\n",
    "from keras.optimizers import Adam  # Importing Adam optimizer\n",
    "from tensorflow.keras.mixed_precision import set_global_policy  # Importing mixed precision policy for potential speedup\n",
    "from keras.callbacks import ReduceLROnPlateau, EarlyStopping, ModelCheckpoint  # Importing callbacks for learning rate reduction, early stopping, and model checkpointing\n",
    "\n",
    "# Enable mixed precision\n",
    "set_global_policy('mixed_float16')  # Enabling mixed precision to potentially speed up training and reduce memory usage\n",
    "\n",
    "# Define the objective function for Optuna\n",
    "def objective(trial):\n",
    "    # Hyperparameters to tune\n",
    "    lr = trial.suggest_float('lr', 1e-5, 1e-3, log=True)  # Suggesting a learning rate within a logarithmic range from 1e-5 to 1e-3\n",
    "    batch_size = trial.suggest_categorical('batch_size', [32, 64, 128])  # Suggesting a batch size from a list of options\n",
    "\n",
    "    # Use the existing model structure\n",
    "    model = Sequential([\n",
    "        # Same architecture as defined in your reference\n",
    "        Conv2D(64, (3, 3), padding='same', activation='relu', input_shape=(32, 32, 3)),  # First convolutional layer with 64 filters\n",
    "        BatchNormalization(),  # Batch normalization after the first convolutional layer\n",
    "        Conv2D(64, (3, 3), padding='same', activation='relu'),  # Second convolutional layer with 64 filters\n",
    "        BatchNormalization(),  # Batch normalization after the second convolutional layer\n",
    "        MaxPooling2D(pool_size=(2, 2)),  # Max pooling layer to reduce spatial dimensions\n",
    "        Conv2D(128, (3, 3), padding='same', activation='relu'),  # Third convolutional layer with 128 filters\n",
    "        BatchNormalization(),  # Batch normalization after the third convolutional layer\n",
    "        Conv2D(128, (3, 3), padding='same', activation='relu'),  # Fourth convolutional layer with 128 filters\n",
    "        BatchNormalization(),  # Batch normalization after the fourth convolutional layer\n",
    "        MaxPooling2D(pool_size=(2, 2)),  # Max pooling layer to reduce spatial dimensions\n",
    "        Conv2D(256, (3, 3), padding='same', activation='relu'),  # Fifth convolutional layer with 256 filters\n",
    "        BatchNormalization(),  # Batch normalization after the fifth convolutional layer\n",
    "        Conv2D(256, (3, 3), padding='same', activation='relu'),  # Sixth convolutional layer with 256 filters\n",
    "        BatchNormalization(),  # Batch normalization after the sixth convolutional layer\n",
    "        MaxPooling2D(pool_size=(2, 2)),  # Max pooling layer to reduce spatial dimensions\n",
    "        Flatten(),  # Flattening the output to feed into dense layers\n",
    "        Dense(512, activation='relu', kernel_regularizer=l2(0.001)),  # Dense layer with 512 units and L2 regularization\n",
    "        Dropout(0.5),  # Dropout layer for regularization\n",
    "        Dense(10, activation='softmax', dtype='float32')  # Output layer with softmax activation and float32 dtype to ensure compatibility with mixed precision\n",
    "    ])\n",
    "\n",
    "    # Compile model\n",
    "    model.compile(optimizer=Adam(learning_rate=lr), loss='categorical_crossentropy', metrics=['accuracy'])  # Compiling the model with the suggested learning rate\n",
    "\n",
    "    # Adjusted Learning Rate Scheduler\n",
    "    def lr_schedule(epoch):  # Defining a learning rate schedule function\n",
    "        lr = 1e-4  # Starting learning rate\n",
    "        if epoch > 50:  # If epoch number is greater than 50\n",
    "            lr *= 0.1  # Reduce learning rate by a factor of 0.1\n",
    "        elif epoch > 30:  # If epoch number is greater than 30 but less than or equal to 50\n",
    "            lr *= 0.5  # Reduce learning rate by a factor of 0.5\n",
    "        return lr  # Returning the adjusted learning rate\n",
    "\n",
    "    # Callbacks\n",
    "    lr_scheduler = LearningRateScheduler(lr_schedule)  # Creating a LearningRateScheduler callback\n",
    "    early_stopping = EarlyStopping(monitor='val_loss', patience=10, verbose=1, restore_best_weights=True)  # Creating an EarlyStopping callback\n",
    "    reduce_lr = ReduceLROnPlateau(monitor='val_loss', factor=0.5, patience=5, min_lr=1e-7, verbose=1)  # Creating a ReduceLROnPlateau callback\n",
    "    checkpoint = ModelCheckpoint('best_model.keras', monitor='val_loss', save_best_only=True, verbose=1)  # Creating a ModelCheckpoint callback to save the best model\n",
    "\n",
    "    # Train the model\n",
    "    history = model.fit(  # Training the model\n",
    "        datagen.flow(x_train, y_train, batch_size=batch_size),  # Using the data generator to generate augmented data with the suggested batch size\n",
    "        epochs=15,  # Number of epochs to train\n",
    "        validation_data=(x_val, y_val),  # Validation data\n",
    "        callbacks=[lr_scheduler, early_stopping, reduce_lr, checkpoint, KerasPruningCallback(trial, 'val_loss')],  # Using the defined callbacks including the pruning callback\n",
    "        steps_per_epoch=x_train.shape[0] // batch_size,  # Number of steps per epoch\n",
    "        verbose=1  # Verbosity level\n",
    "    )\n",
    "\n",
    "    # Get the best validation accuracy of this trial\n",
    "    val_accuracy = max(history.history['val_accuracy'])  # Extracting the best validation accuracy from the training history\n",
    "    return val_accuracy  # Returning the best validation accuracy for this trial\n",
    "\n",
    "\n",
    "# Run Optuna study\n",
    "study = optuna.create_study(direction='maximize')  # Creating an Optuna study with the objective to maximize validation accuracy\n",
    "study.optimize(objective, n_trials=20)  # Running the optimization with 20 trials\n",
    "\n",
    "print(\"Best trial:\")  # Printing the best trial information\n",
    "trial = study.best_trial  # Extracting the best trial\n",
    "print(f\"  Value: {trial.value}\")  # Printing the best validation accuracy\n",
    "print(\"  Params: \")  # Printing the best hyperparameters\n",
    "for key, value in trial.params.items():\n",
    "    print(f\"    {key}: {value}\")  # Printing each hyperparameter and its value"
   ]
  },
  {
   "cell_type": "code",
   "execution_count": 3,
   "metadata": {},
   "outputs": [
    {
     "name": "stderr",
     "output_type": "stream",
     "text": [
      "/tmp/ipykernel_1015982/67270997.py:32: UserWarning: `input_shape` is undefined or non-square, or `rows` is not in [96, 128, 160, 192, 224]. Weights for input shape (224, 224) will be loaded as the default.\n",
      "  base_model = applications.MobileNetV2(weights='imagenet', include_top=False, input_shape=(112, 112, 3))\n"
     ]
    },
    {
     "name": "stdout",
     "output_type": "stream",
     "text": [
      "Epoch 1/10\n",
      "\u001b[1m6250/6250\u001b[0m \u001b[32m━━━━━━━━━━━━━━━━━━━━\u001b[0m\u001b[37m\u001b[0m \u001b[1m32s\u001b[0m 4ms/step - accuracy: 0.6043 - loss: 1.1685 - val_accuracy: 0.7660 - val_loss: 0.6962\n",
      "Epoch 2/10\n",
      "\u001b[1m6250/6250\u001b[0m \u001b[32m━━━━━━━━━━━━━━━━━━━━\u001b[0m\u001b[37m\u001b[0m \u001b[1m24s\u001b[0m 4ms/step - accuracy: 0.7144 - loss: 0.8405 - val_accuracy: 0.7774 - val_loss: 0.6552\n",
      "Epoch 3/10\n",
      "\u001b[1m6250/6250\u001b[0m \u001b[32m━━━━━━━━━━━━━━━━━━━━\u001b[0m\u001b[37m\u001b[0m \u001b[1m23s\u001b[0m 4ms/step - accuracy: 0.7406 - loss: 0.7754 - val_accuracy: 0.7788 - val_loss: 0.6629\n",
      "Epoch 4/10\n",
      "\u001b[1m6250/6250\u001b[0m \u001b[32m━━━━━━━━━━━━━━━━━━━━\u001b[0m\u001b[37m\u001b[0m \u001b[1m24s\u001b[0m 4ms/step - accuracy: 0.7509 - loss: 0.7410 - val_accuracy: 0.7804 - val_loss: 0.6588\n",
      "Epoch 5/10\n",
      "\u001b[1m6250/6250\u001b[0m \u001b[32m━━━━━━━━━━━━━━━━━━━━\u001b[0m\u001b[37m\u001b[0m \u001b[1m24s\u001b[0m 4ms/step - accuracy: 0.7555 - loss: 0.7214 - val_accuracy: 0.7869 - val_loss: 0.6479\n",
      "Epoch 6/10\n",
      "\u001b[1m6250/6250\u001b[0m \u001b[32m━━━━━━━━━━━━━━━━━━━━\u001b[0m\u001b[37m\u001b[0m \u001b[1m23s\u001b[0m 4ms/step - accuracy: 0.7665 - loss: 0.6879 - val_accuracy: 0.7814 - val_loss: 0.6537\n",
      "Epoch 7/10\n",
      "\u001b[1m6250/6250\u001b[0m \u001b[32m━━━━━━━━━━━━━━━━━━━━\u001b[0m\u001b[37m\u001b[0m \u001b[1m24s\u001b[0m 4ms/step - accuracy: 0.7672 - loss: 0.6838 - val_accuracy: 0.7891 - val_loss: 0.6366\n",
      "Epoch 8/10\n",
      "\u001b[1m6250/6250\u001b[0m \u001b[32m━━━━━━━━━━━━━━━━━━━━\u001b[0m\u001b[37m\u001b[0m \u001b[1m24s\u001b[0m 4ms/step - accuracy: 0.7747 - loss: 0.6655 - val_accuracy: 0.7906 - val_loss: 0.6459\n",
      "Epoch 9/10\n",
      "\u001b[1m6250/6250\u001b[0m \u001b[32m━━━━━━━━━━━━━━━━━━━━\u001b[0m\u001b[37m\u001b[0m \u001b[1m23s\u001b[0m 4ms/step - accuracy: 0.7715 - loss: 0.6607 - val_accuracy: 0.7899 - val_loss: 0.6453\n",
      "Epoch 10/10\n",
      "\u001b[1m6250/6250\u001b[0m \u001b[32m━━━━━━━━━━━━━━━━━━━━\u001b[0m\u001b[37m\u001b[0m \u001b[1m23s\u001b[0m 4ms/step - accuracy: 0.7791 - loss: 0.6462 - val_accuracy: 0.7899 - val_loss: 0.6604\n",
      "Epoch 1/10\n",
      "\u001b[1m6250/6250\u001b[0m \u001b[32m━━━━━━━━━━━━━━━━━━━━\u001b[0m\u001b[37m\u001b[0m \u001b[1m97s\u001b[0m 11ms/step - accuracy: 0.5514 - loss: 1.6741 - val_accuracy: 0.8088 - val_loss: 0.6016\n",
      "Epoch 2/10\n",
      "\u001b[1m6250/6250\u001b[0m \u001b[32m━━━━━━━━━━━━━━━━━━━━\u001b[0m\u001b[37m\u001b[0m \u001b[1m65s\u001b[0m 10ms/step - accuracy: 0.7063 - loss: 0.9138 - val_accuracy: 0.8564 - val_loss: 0.4634\n",
      "Epoch 3/10\n",
      "\u001b[1m6250/6250\u001b[0m \u001b[32m━━━━━━━━━━━━━━━━━━━━\u001b[0m\u001b[37m\u001b[0m \u001b[1m64s\u001b[0m 10ms/step - accuracy: 0.7678 - loss: 0.7317 - val_accuracy: 0.8799 - val_loss: 0.3899\n",
      "Epoch 4/10\n",
      "\u001b[1m6250/6250\u001b[0m \u001b[32m━━━━━━━━━━━━━━━━━━━━\u001b[0m\u001b[37m\u001b[0m \u001b[1m64s\u001b[0m 10ms/step - accuracy: 0.8001 - loss: 0.6329 - val_accuracy: 0.8941 - val_loss: 0.3459\n",
      "Epoch 5/10\n",
      "\u001b[1m6250/6250\u001b[0m \u001b[32m━━━━━━━━━━━━━━━━━━━━\u001b[0m\u001b[37m\u001b[0m \u001b[1m65s\u001b[0m 10ms/step - accuracy: 0.8257 - loss: 0.5529 - val_accuracy: 0.9015 - val_loss: 0.3241\n",
      "Epoch 6/10\n",
      "\u001b[1m6250/6250\u001b[0m \u001b[32m━━━━━━━━━━━━━━━━━━━━\u001b[0m\u001b[37m\u001b[0m \u001b[1m65s\u001b[0m 10ms/step - accuracy: 0.8453 - loss: 0.4811 - val_accuracy: 0.9091 - val_loss: 0.2997\n",
      "Epoch 7/10\n",
      "\u001b[1m6250/6250\u001b[0m \u001b[32m━━━━━━━━━━━━━━━━━━━━\u001b[0m\u001b[37m\u001b[0m \u001b[1m66s\u001b[0m 11ms/step - accuracy: 0.8626 - loss: 0.4309 - val_accuracy: 0.9104 - val_loss: 0.2911\n",
      "Epoch 8/10\n",
      "\u001b[1m6250/6250\u001b[0m \u001b[32m━━━━━━━━━━━━━━━━━━━━\u001b[0m\u001b[37m\u001b[0m \u001b[1m472s\u001b[0m 76ms/step - accuracy: 0.8729 - loss: 0.3911 - val_accuracy: 0.9155 - val_loss: 0.2839\n",
      "Epoch 9/10\n",
      "\u001b[1m6250/6250\u001b[0m \u001b[32m━━━━━━━━━━━━━━━━━━━━\u001b[0m\u001b[37m\u001b[0m \u001b[1m65s\u001b[0m 10ms/step - accuracy: 0.8901 - loss: 0.3575 - val_accuracy: 0.9174 - val_loss: 0.2778\n",
      "Epoch 10/10\n",
      "\u001b[1m6250/6250\u001b[0m \u001b[32m━━━━━━━━━━━━━━━━━━━━\u001b[0m\u001b[37m\u001b[0m \u001b[1m66s\u001b[0m 11ms/step - accuracy: 0.8974 - loss: 0.3212 - val_accuracy: 0.9186 - val_loss: 0.2674\n"
     ]
    }
   ],
   "source": [
    "# cell3: Transfer learning using MobileNetV2 with reduced batch size and input size for efficient computation\n",
    "\n",
    "import tensorflow as tf  # Importing TensorFlow for deep learning\n",
    "from tensorflow.keras import layers, models, applications, optimizers  # Importing necessary modules from TensorFlow\n",
    "from tensorflow.keras.utils import to_categorical  # Importing utility for converting labels to one-hot encoding\n",
    "\n",
    "# Load CIFAR-10 dataset\n",
    "(x_train, y_train), (x_val, y_val) = tf.keras.datasets.cifar10.load_data()  # Loading the CIFAR-10 dataset\n",
    "\n",
    "# Normalize pixel values to be between 0 and 1\n",
    "x_train, x_val = x_train / 255.0, x_val / 255.0  # Normalizing the pixel values to the range [0, 1]\n",
    "\n",
    "# Convert labels to one-hot encoding\n",
    "y_train = to_categorical(y_train, 10)  # Converting training labels to one-hot encoding\n",
    "y_val = to_categorical(y_val, 10)  # Converting validation labels to one-hot encoding\n",
    "\n",
    "# Parameters\n",
    "batch_size = 8  # Further reduced batch size to reduce memory usage and potentially improve convergence\n",
    "input_shape = (112, 112)  # Smaller input size to reduce computational load\n",
    "\n",
    "# Create a tf.data.Dataset for efficient loading\n",
    "train_dataset = tf.data.Dataset.from_tensor_slices((x_train, y_train))  # Creating a dataset from the training data\n",
    "train_dataset = train_dataset.map(lambda x, y: (tf.image.resize(x, input_shape), y), num_parallel_calls=tf.data.AUTOTUNE)  # Resizing images to the specified input shape\n",
    "train_dataset = train_dataset.shuffle(buffer_size=10000).batch(batch_size).prefetch(tf.data.AUTOTUNE)  # Shuffling, batching, and prefetching for efficient data loading\n",
    "\n",
    "val_dataset = tf.data.Dataset.from_tensor_slices((x_val, y_val))  # Creating a dataset from the validation data\n",
    "val_dataset = val_dataset.map(lambda x, y: (tf.image.resize(x, input_shape), y), num_parallel_calls=tf.data.AUTOTUNE)  # Resizing images to the specified input shape\n",
    "val_dataset = val_dataset.batch(batch_size).prefetch(tf.data.AUTOTUNE)  # Batching and prefetching for efficient data loading\n",
    "\n",
    "# Define the number of classes from your dataset\n",
    "num_classes = y_train.shape[-1]  # Extracting the number of classes from the training labels\n",
    "\n",
    "# Load a lighter pre-trained model (e.g., MobileNetV2) without the top classification layer\n",
    "base_model = applications.MobileNetV2(weights='imagenet', include_top=False, input_shape=(112, 112, 3))  # Loading MobileNetV2 with pre-trained weights and excluding the top classification layer\n",
    "base_model.trainable = False  # Freezing the base model layers to prevent further training\n",
    "\n",
    "# Add custom top layers\n",
    "model = models.Sequential([\n",
    "    base_model,  # Adding the base model\n",
    "    layers.GlobalAveragePooling2D(),  # Adding a global average pooling layer to reduce spatial dimensions\n",
    "    layers.Dense(128, activation='relu'),  # Adding a dense layer with 128 units and ReLU activation\n",
    "    layers.Dropout(0.5),  # Adding a dropout layer for regularization\n",
    "    layers.Dense(num_classes, activation='softmax')  # Adding the output layer with softmax activation\n",
    "])\n",
    "\n",
    "# Compile the model\n",
    "model.compile(\n",
    "    optimizer=optimizers.Adam(learning_rate=1e-3),  # Compiling the model with Adam optimizer and a learning rate of 1e-3\n",
    "    loss='categorical_crossentropy',  # Using categorical cross-entropy loss\n",
    "    metrics=['accuracy']  # Monitoring accuracy during training\n",
    ")\n",
    "\n",
    "# Training the model with frozen base layers\n",
    "history = model.fit(\n",
    "    train_dataset,  # Training dataset\n",
    "    validation_data=val_dataset,  # Validation dataset\n",
    "    epochs=10,  # Number of epochs to train\n",
    "    callbacks=[tf.keras.callbacks.EarlyStopping(monitor='val_loss', patience=3, restore_best_weights=True)],  # Early stopping callback\n",
    "    verbose=1  # Verbosity level\n",
    ")\n",
    "\n",
    "# Fine-tune by unfreezing some layers in the base model\n",
    "base_model.trainable = True  # Unfreezing the base model layers for fine-tuning\n",
    "\n",
    "# Compile the model again with a lower learning rate\n",
    "model.compile(\n",
    "    optimizer=optimizers.Adam(learning_rate=1e-5),  # Compiling the model with a lower learning rate for fine-tuning\n",
    "    loss='categorical_crossentropy',  # Using categorical cross-entropy loss\n",
    "    metrics=['accuracy']  # Monitoring accuracy during training\n",
    ")\n",
    "\n",
    "# Fine-tuning the model\n",
    "fine_tune_history = model.fit(\n",
    "    train_dataset,  # Training dataset\n",
    "    validation_data=val_dataset,  # Validation dataset\n",
    "    epochs=10,  # Number of epochs to fine-tune\n",
    "    callbacks=[tf.keras.callbacks.EarlyStopping(monitor='val_loss', patience=3, restore_best_weights=True)],  # Early stopping callback\n",
    "    verbose=1  # Verbosity level\n",
    ")"
   ]
  },
  {
   "cell_type": "code",
   "execution_count": 4,
   "metadata": {},
   "outputs": [
    {
     "name": "stderr",
     "output_type": "stream",
     "text": [
      "/tmp/ipykernel_1015982/2543941803.py:34: UserWarning: `input_shape` is undefined or non-square, or `rows` is not in [96, 128, 160, 192, 224]. Weights for input shape (224, 224) will be loaded as the default.\n",
      "  base_model = applications.MobileNetV2(weights='imagenet', include_top=False, input_shape=(112, 112, 3))\n"
     ]
    },
    {
     "name": "stdout",
     "output_type": "stream",
     "text": [
      "Epoch 1/10\n",
      "\u001b[1m6250/6250\u001b[0m \u001b[32m━━━━━━━━━━━━━━━━━━━━\u001b[0m\u001b[37m\u001b[0m \u001b[1m35s\u001b[0m 5ms/step - accuracy: 0.6063 - loss: 1.1741 - val_accuracy: 0.7629 - val_loss: 0.6874\n",
      "Epoch 2/10\n",
      "\u001b[1m6250/6250\u001b[0m \u001b[32m━━━━━━━━━━━━━━━━━━━━\u001b[0m\u001b[37m\u001b[0m \u001b[1m29s\u001b[0m 5ms/step - accuracy: 0.7200 - loss: 0.8306 - val_accuracy: 0.7770 - val_loss: 0.6644\n",
      "Epoch 3/10\n",
      "\u001b[1m6250/6250\u001b[0m \u001b[32m━━━━━━━━━━━━━━━━━━━━\u001b[0m\u001b[37m\u001b[0m \u001b[1m31s\u001b[0m 5ms/step - accuracy: 0.7387 - loss: 0.7714 - val_accuracy: 0.7819 - val_loss: 0.6420\n",
      "Epoch 4/10\n",
      "\u001b[1m6250/6250\u001b[0m \u001b[32m━━━━━━━━━━━━━━━━━━━━\u001b[0m\u001b[37m\u001b[0m \u001b[1m28s\u001b[0m 4ms/step - accuracy: 0.7529 - loss: 0.7296 - val_accuracy: 0.7879 - val_loss: 0.6404\n",
      "Epoch 5/10\n",
      "\u001b[1m6250/6250\u001b[0m \u001b[32m━━━━━━━━━━━━━━━━━━━━\u001b[0m\u001b[37m\u001b[0m \u001b[1m28s\u001b[0m 4ms/step - accuracy: 0.7570 - loss: 0.7150 - val_accuracy: 0.7800 - val_loss: 0.6625\n",
      "Epoch 6/10\n",
      "\u001b[1m6250/6250\u001b[0m \u001b[32m━━━━━━━━━━━━━━━━━━━━\u001b[0m\u001b[37m\u001b[0m \u001b[1m28s\u001b[0m 4ms/step - accuracy: 0.7611 - loss: 0.6898 - val_accuracy: 0.7845 - val_loss: 0.6550\n",
      "Epoch 7/10\n",
      "\u001b[1m6250/6250\u001b[0m \u001b[32m━━━━━━━━━━━━━━━━━━━━\u001b[0m\u001b[37m\u001b[0m \u001b[1m27s\u001b[0m 4ms/step - accuracy: 0.7629 - loss: 0.6843 - val_accuracy: 0.7853 - val_loss: 0.6464\n",
      "Epoch 1/10\n",
      "\u001b[1m6250/6250\u001b[0m \u001b[32m━━━━━━━━━━━━━━━━━━━━\u001b[0m\u001b[37m\u001b[0m \u001b[1m89s\u001b[0m 11ms/step - accuracy: 0.5602 - loss: 1.4688 - val_accuracy: 0.8059 - val_loss: 0.5976\n",
      "Epoch 2/10\n",
      "\u001b[1m6250/6250\u001b[0m \u001b[32m━━━━━━━━━━━━━━━━━━━━\u001b[0m\u001b[37m\u001b[0m \u001b[1m70s\u001b[0m 11ms/step - accuracy: 0.7150 - loss: 0.8994 - val_accuracy: 0.8559 - val_loss: 0.4545\n",
      "Epoch 3/10\n",
      "\u001b[1m6250/6250\u001b[0m \u001b[32m━━━━━━━━━━━━━━━━━━━━\u001b[0m\u001b[37m\u001b[0m \u001b[1m71s\u001b[0m 11ms/step - accuracy: 0.7690 - loss: 0.7281 - val_accuracy: 0.8817 - val_loss: 0.3790\n",
      "Epoch 4/10\n",
      "\u001b[1m6250/6250\u001b[0m \u001b[32m━━━━━━━━━━━━━━━━━━━━\u001b[0m\u001b[37m\u001b[0m \u001b[1m70s\u001b[0m 11ms/step - accuracy: 0.8052 - loss: 0.6255 - val_accuracy: 0.8920 - val_loss: 0.3419\n",
      "Epoch 5/10\n",
      "\u001b[1m6250/6250\u001b[0m \u001b[32m━━━━━━━━━━━━━━━━━━━━\u001b[0m\u001b[37m\u001b[0m \u001b[1m71s\u001b[0m 11ms/step - accuracy: 0.8284 - loss: 0.5451 - val_accuracy: 0.9014 - val_loss: 0.3155\n",
      "Epoch 6/10\n",
      "\u001b[1m6250/6250\u001b[0m \u001b[32m━━━━━━━━━━━━━━━━━━━━\u001b[0m\u001b[37m\u001b[0m \u001b[1m71s\u001b[0m 11ms/step - accuracy: 0.8499 - loss: 0.4773 - val_accuracy: 0.9072 - val_loss: 0.2927\n",
      "Epoch 7/10\n",
      "\u001b[1m6250/6250\u001b[0m \u001b[32m━━━━━━━━━━━━━━━━━━━━\u001b[0m\u001b[37m\u001b[0m \u001b[1m71s\u001b[0m 11ms/step - accuracy: 0.8632 - loss: 0.4209 - val_accuracy: 0.9180 - val_loss: 0.2710\n",
      "Epoch 8/10\n",
      "\u001b[1m6250/6250\u001b[0m \u001b[32m━━━━━━━━━━━━━━━━━━━━\u001b[0m\u001b[37m\u001b[0m \u001b[1m71s\u001b[0m 11ms/step - accuracy: 0.8761 - loss: 0.3846 - val_accuracy: 0.9195 - val_loss: 0.2616\n",
      "Epoch 9/10\n",
      "\u001b[1m6250/6250\u001b[0m \u001b[32m━━━━━━━━━━━━━━━━━━━━\u001b[0m\u001b[37m\u001b[0m \u001b[1m70s\u001b[0m 11ms/step - accuracy: 0.8846 - loss: 0.3562 - val_accuracy: 0.9189 - val_loss: 0.2720\n",
      "Epoch 10/10\n",
      "\u001b[1m6250/6250\u001b[0m \u001b[32m━━━━━━━━━━━━━━━━━━━━\u001b[0m\u001b[37m\u001b[0m \u001b[1m71s\u001b[0m 11ms/step - accuracy: 0.8963 - loss: 0.3278 - val_accuracy: 0.9213 - val_loss: 0.2644\n"
     ]
    }
   ],
   "source": [
    "# cell4: Transfer learning using MobileNetV2 with TensorBoard logging for visualization and analysis\n",
    "\n",
    "import datetime  # Importing datetime for logging purposes\n",
    "import tensorflow as tf  # Importing TensorFlow for deep learning\n",
    "from tensorflow.keras import layers, models, applications, optimizers  # Importing necessary modules from TensorFlow\n",
    "from tensorflow.keras.utils import to_categorical  # Importing utility for converting labels to one-hot encoding\n",
    "from tensorflow.keras.callbacks import TensorBoard  # Importing TensorBoard for logging and visualization\n",
    "\n",
    "# Load CIFAR-10 dataset\n",
    "(x_train, y_train), (x_val, y_val) = tf.keras.datasets.cifar10.load_data()  # Loading the CIFAR-10 dataset\n",
    "\n",
    "# Normalize pixel values to be between 0 and 1\n",
    "x_train, x_val = x_train / 255.0, x_val / 255.0  # Normalizing the pixel values to the range [0, 1]\n",
    "\n",
    "# Convert labels to one-hot encoding\n",
    "y_train = to_categorical(y_train, 10)  # Converting training labels to one-hot encoding\n",
    "y_val = to_categorical(y_val, 10)  # Converting validation labels to one-hot encoding\n",
    "\n",
    "# Parameters\n",
    "batch_size = 8  # Further reduced batch size to reduce memory usage and potentially improve convergence\n",
    "input_shape = (112, 112)  # Smaller input size to reduce computational load\n",
    "\n",
    "# Create a tf.data.Dataset for efficient loading\n",
    "train_dataset = tf.data.Dataset.from_tensor_slices((x_train, y_train))  # Creating a dataset from the training data\n",
    "train_dataset = train_dataset.map(lambda x, y: (tf.image.resize(x, input_shape), y), num_parallel_calls=tf.data.AUTOTUNE)  # Resizing images to the specified input shape\n",
    "train_dataset = train_dataset.shuffle(buffer_size=10000).batch(batch_size).prefetch(tf.data.AUTOTUNE)  # Shuffling, batching, and prefetching for efficient data loading\n",
    "\n",
    "val_dataset = tf.data.Dataset.from_tensor_slices((x_val, y_val))  # Creating a dataset from the validation data\n",
    "val_dataset = val_dataset.map(lambda x, y: (tf.image.resize(x, input_shape), y), num_parallel_calls=tf.data.AUTOTUNE)  # Resizing images to the specified input shape\n",
    "val_dataset = val_dataset.batch(batch_size).prefetch(tf.data.AUTOTUNE)  # Batching and prefetching for efficient data loading\n",
    "\n",
    "# Define the number of classes from your dataset\n",
    "num_classes = y_train.shape[-1]  # Extracting the number of classes from the training labels\n",
    "\n",
    "# Load a lighter pre-trained model (e.g., MobileNetV2) without the top classification layer\n",
    "base_model = applications.MobileNetV2(weights='imagenet', include_top=False, input_shape=(112, 112, 3))  # Loading MobileNetV2 with pre-trained weights and excluding the top classification layer\n",
    "base_model.trainable = False  # Freezing the base model layers to prevent further training\n",
    "\n",
    "# Add custom top layers\n",
    "model = models.Sequential([\n",
    "    base_model,  # Adding the base model\n",
    "    layers.GlobalAveragePooling2D(),  # Adding a global average pooling layer to reduce spatial dimensions\n",
    "    layers.Dense(128, activation='relu'),  # Adding a dense layer with 128 units and ReLU activation\n",
    "    layers.Dropout(0.5),  # Adding a dropout layer for regularization\n",
    "    layers.Dense(num_classes, activation='softmax')  # Adding the output layer with softmax activation\n",
    "])\n",
    "\n",
    "# Compile the model\n",
    "model.compile(\n",
    "    optimizer=optimizers.Adam(learning_rate=1e-3),  # Compiling the model with Adam optimizer and a learning rate of 1e-3\n",
    "    loss='categorical_crossentropy',  # Using categorical cross-entropy loss\n",
    "    metrics=['accuracy']  # Monitoring accuracy during training\n",
    ")\n",
    "\n",
    "# Define the TensorBoard callback\n",
    "log_dir = \"logs/fit/\" + datetime.datetime.now().strftime(\"%Y%m%d-%H%M%S\")  # Defining the log directory for TensorBoard\n",
    "tensorboard_callback = TensorBoard(log_dir=log_dir, histogram_freq=1)  # Creating a TensorBoard callback for logging\n",
    "\n",
    "# Training the model with frozen base layers\n",
    "history = model.fit(\n",
    "    train_dataset,  # Training dataset\n",
    "    validation_data=val_dataset,  # Validation dataset\n",
    "    epochs=10,  # Number of epochs to train\n",
    "    callbacks=[\n",
    "        tf.keras.callbacks.EarlyStopping(monitor='val_loss', patience=3, restore_best_weights=True),  # Early stopping callback\n",
    "        tensorboard_callback  # TensorBoard callback for logging\n",
    "    ],\n",
    "    verbose=1  # Verbosity level\n",
    ")\n",
    "\n",
    "# Fine-tune by unfreezing some layers in the base model\n",
    "base_model.trainable = True  # Unfreezing the base model layers for fine-tuning\n",
    "\n",
    "# Compile the model again with a lower learning rate\n",
    "model.compile(\n",
    "    optimizer=optimizers.Adam(learning_rate=1e-5),  # Compiling the model with a lower learning rate for fine-tuning\n",
    "    loss='categorical_crossentropy',  # Using categorical cross-entropy loss\n",
    "    metrics=['accuracy']  # Monitoring accuracy during training\n",
    ")\n",
    "\n",
    "# Fine-tuning the model\n",
    "fine_tune_history = model.fit(\n",
    "    train_dataset,  # Training dataset\n",
    "    validation_data=val_dataset,  # Validation dataset\n",
    "    epochs=10,  # Number of epochs to fine-tune\n",
    "    callbacks=[\n",
    "        tf.keras.callbacks.EarlyStopping(monitor='val_loss', patience=3, restore_best_weights=True),  # Early stopping callback\n",
    "        tensorboard_callback  # TensorBoard callback for logging\n",
    "    ],\n",
    "    verbose=1  # Verbosity level\n",
    ")"
   ]
  },
  {
   "cell_type": "code",
   "execution_count": 2,
   "metadata": {},
   "outputs": [
    {
     "name": "stdout",
     "output_type": "stream",
     "text": [
      "Fold 1\n",
      "Epoch 1/10\n"
     ]
    },
    {
     "name": "stderr",
     "output_type": "stream",
     "text": [
      "/home/matt/CIFAR10_CNN_Project/venv/lib/python3.12/site-packages/keras/src/trainers/data_adapters/py_dataset_adapter.py:122: UserWarning: Your `PyDataset` class should call `super().__init__(**kwargs)` in its constructor. `**kwargs` can include `workers`, `use_multiprocessing`, `max_queue_size`. Do not pass these arguments to `fit()`, as they will be ignored.\n",
      "  self._warn_if_super_not_called()\n"
     ]
    },
    {
     "name": "stdout",
     "output_type": "stream",
     "text": [
      "\u001b[1m32/32\u001b[0m \u001b[32m━━━━━━━━━━━━━━━━━━━━\u001b[0m\u001b[37m\u001b[0m \u001b[1m6s\u001b[0m 115ms/step - accuracy: 0.1044 - loss: 2.5379 - val_accuracy: 0.1520 - val_loss: 2.2940 - learning_rate: 1.0000e-05\n",
      "Epoch 2/10\n",
      "\u001b[1m32/32\u001b[0m \u001b[32m━━━━━━━━━━━━━━━━━━━━\u001b[0m\u001b[37m\u001b[0m \u001b[1m2s\u001b[0m 61ms/step - accuracy: 0.1602 - loss: 2.2780 - val_accuracy: 0.2100 - val_loss: 2.2109 - learning_rate: 1.0000e-05\n",
      "Epoch 3/10\n",
      "\u001b[1m32/32\u001b[0m \u001b[32m━━━━━━━━━━━━━━━━━━━━\u001b[0m\u001b[37m\u001b[0m \u001b[1m2s\u001b[0m 59ms/step - accuracy: 0.2252 - loss: 2.1867 - val_accuracy: 0.2940 - val_loss: 2.1318 - learning_rate: 1.0000e-05\n",
      "Epoch 4/10\n",
      "\u001b[1m32/32\u001b[0m \u001b[32m━━━━━━━━━━━━━━━━━━━━\u001b[0m\u001b[37m\u001b[0m \u001b[1m2s\u001b[0m 60ms/step - accuracy: 0.2843 - loss: 2.0885 - val_accuracy: 0.3060 - val_loss: 2.0584 - learning_rate: 1.0000e-05\n",
      "Epoch 5/10\n",
      "\u001b[1m32/32\u001b[0m \u001b[32m━━━━━━━━━━━━━━━━━━━━\u001b[0m\u001b[37m\u001b[0m \u001b[1m2s\u001b[0m 61ms/step - accuracy: 0.3527 - loss: 1.9862 - val_accuracy: 0.3500 - val_loss: 1.9706 - learning_rate: 1.0000e-05\n",
      "Epoch 6/10\n",
      "\u001b[1m32/32\u001b[0m \u001b[32m━━━━━━━━━━━━━━━━━━━━\u001b[0m\u001b[37m\u001b[0m \u001b[1m2s\u001b[0m 60ms/step - accuracy: 0.3679 - loss: 1.8997 - val_accuracy: 0.3500 - val_loss: 1.8857 - learning_rate: 9.0484e-06\n",
      "Epoch 7/10\n",
      "\u001b[1m32/32\u001b[0m \u001b[32m━━━━━━━━━━━━━━━━━━━━\u001b[0m\u001b[37m\u001b[0m \u001b[1m2s\u001b[0m 59ms/step - accuracy: 0.4124 - loss: 1.7398 - val_accuracy: 0.3920 - val_loss: 1.8304 - learning_rate: 8.1873e-06\n",
      "Epoch 8/10\n",
      "\u001b[1m32/32\u001b[0m \u001b[32m━━━━━━━━━━━━━━━━━━━━\u001b[0m\u001b[37m\u001b[0m \u001b[1m2s\u001b[0m 61ms/step - accuracy: 0.4730 - loss: 1.6785 - val_accuracy: 0.3980 - val_loss: 1.7919 - learning_rate: 7.4082e-06\n",
      "Epoch 9/10\n",
      "\u001b[1m32/32\u001b[0m \u001b[32m━━━━━━━━━━━━━━━━━━━━\u001b[0m\u001b[37m\u001b[0m \u001b[1m2s\u001b[0m 59ms/step - accuracy: 0.4550 - loss: 1.6396 - val_accuracy: 0.4080 - val_loss: 1.7397 - learning_rate: 6.7032e-06\n",
      "Epoch 10/10\n",
      "\u001b[1m32/32\u001b[0m \u001b[32m━━━━━━━━━━━━━━━━━━━━\u001b[0m\u001b[37m\u001b[0m \u001b[1m2s\u001b[0m 61ms/step - accuracy: 0.4756 - loss: 1.5205 - val_accuracy: 0.4080 - val_loss: 1.6975 - learning_rate: 6.0653e-06\n",
      "Fold 2\n",
      "Epoch 1/10\n",
      "\u001b[1m32/32\u001b[0m \u001b[32m━━━━━━━━━━━━━━━━━━━━\u001b[0m\u001b[37m\u001b[0m \u001b[1m2s\u001b[0m 64ms/step - accuracy: 0.4065 - loss: 1.7212 - val_accuracy: 0.5340 - val_loss: 1.4363 - learning_rate: 6.0653e-06\n",
      "Epoch 2/10\n",
      "\u001b[1m32/32\u001b[0m \u001b[32m━━━━━━━━━━━━━━━━━━━━\u001b[0m\u001b[37m\u001b[0m \u001b[1m2s\u001b[0m 61ms/step - accuracy: 0.4398 - loss: 1.5809 - val_accuracy: 0.5080 - val_loss: 1.4368 - learning_rate: 6.0653e-06\n",
      "Epoch 3/10\n",
      "\u001b[1m32/32\u001b[0m \u001b[32m━━━━━━━━━━━━━━━━━━━━\u001b[0m\u001b[37m\u001b[0m \u001b[1m2s\u001b[0m 60ms/step - accuracy: 0.4526 - loss: 1.5616 - val_accuracy: 0.5500 - val_loss: 1.4000 - learning_rate: 6.0653e-06\n",
      "Epoch 4/10\n",
      "\u001b[1m32/32\u001b[0m \u001b[32m━━━━━━━━━━━━━━━━━━━━\u001b[0m\u001b[37m\u001b[0m \u001b[1m2s\u001b[0m 61ms/step - accuracy: 0.4561 - loss: 1.5295 - val_accuracy: 0.5320 - val_loss: 1.3873 - learning_rate: 6.0653e-06\n",
      "Epoch 5/10\n",
      "\u001b[1m32/32\u001b[0m \u001b[32m━━━━━━━━━━━━━━━━━━━━\u001b[0m\u001b[37m\u001b[0m \u001b[1m2s\u001b[0m 60ms/step - accuracy: 0.4473 - loss: 1.5119 - val_accuracy: 0.5100 - val_loss: 1.3967 - learning_rate: 6.0653e-06\n",
      "Epoch 6/10\n",
      "\u001b[1m32/32\u001b[0m \u001b[32m━━━━━━━━━━━━━━━━━━━━\u001b[0m\u001b[37m\u001b[0m \u001b[1m2s\u001b[0m 60ms/step - accuracy: 0.5076 - loss: 1.4499 - val_accuracy: 0.5220 - val_loss: 1.3642 - learning_rate: 5.4881e-06\n",
      "Epoch 7/10\n",
      "\u001b[1m32/32\u001b[0m \u001b[32m━━━━━━━━━━━━━━━━━━━━\u001b[0m\u001b[37m\u001b[0m \u001b[1m2s\u001b[0m 59ms/step - accuracy: 0.5330 - loss: 1.4349 - val_accuracy: 0.5160 - val_loss: 1.3703 - learning_rate: 4.9659e-06\n",
      "Epoch 8/10\n",
      "\u001b[1m32/32\u001b[0m \u001b[32m━━━━━━━━━━━━━━━━━━━━\u001b[0m\u001b[37m\u001b[0m \u001b[1m2s\u001b[0m 60ms/step - accuracy: 0.5128 - loss: 1.4355 - val_accuracy: 0.5140 - val_loss: 1.3607 - learning_rate: 4.4933e-06\n",
      "Epoch 9/10\n",
      "\u001b[1m32/32\u001b[0m \u001b[32m━━━━━━━━━━━━━━━━━━━━\u001b[0m\u001b[37m\u001b[0m \u001b[1m2s\u001b[0m 61ms/step - accuracy: 0.5371 - loss: 1.3385 - val_accuracy: 0.5020 - val_loss: 1.3458 - learning_rate: 4.0657e-06\n",
      "Epoch 10/10\n",
      "\u001b[1m32/32\u001b[0m \u001b[32m━━━━━━━━━━━━━━━━━━━━\u001b[0m\u001b[37m\u001b[0m \u001b[1m2s\u001b[0m 62ms/step - accuracy: 0.5653 - loss: 1.3331 - val_accuracy: 0.5260 - val_loss: 1.3244 - learning_rate: 3.6788e-06\n",
      "Test Accuracy: 0.46000000834465027\n",
      "\u001b[1m7/7\u001b[0m \u001b[32m━━━━━━━━━━━━━━━━━━━━\u001b[0m\u001b[37m\u001b[0m \u001b[1m1s\u001b[0m 59ms/step\n",
      "Precision: 0.48210802742149483\n",
      "Recall: 0.46\n",
      "F1-Score: 0.45696542882981744\n",
      "ROC-AUC: 0.8721693513561938\n"
     ]
    },
    {
     "data": {
      "image/png": "[encoded data removed]",
      "text/plain": [
       "<Figure size 1000x700 with 2 Axes>"
      ]
     },
     "metadata": {},
     "output_type": "display_data"
    }
   ],
   "source": [
    "# cell5: Transfer learning using VGG16 with K-Fold Cross-Validation for robust evaluation\n",
    "\n",
    "import numpy as np  # Importing numpy for numerical operations\n",
    "import tensorflow as tf  # Importing TensorFlow for deep learning\n",
    "from tensorflow.keras.applications import VGG16  # Importing VGG16 pre-trained model\n",
    "from tensorflow.keras.models import Model  # Importing Model class for creating a model\n",
    "from tensorflow.keras.layers import Dense, GlobalAveragePooling2D  # Importing layers for building the model\n",
    "from tensorflow.keras.callbacks import LearningRateScheduler, EarlyStopping  # Importing callbacks for learning rate scheduling and early stopping\n",
    "from tensorflow.keras.preprocessing.image import ImageDataGenerator  # Importing ImageDataGenerator for data augmentation\n",
    "from sklearn.model_selection import KFold  # Importing KFold for cross-validation\n",
    "from sklearn.metrics import confusion_matrix, precision_score, recall_score, f1_score, roc_auc_score  # Importing metrics for evaluation\n",
    "import matplotlib.pyplot as plt  # Importing matplotlib for plotting\n",
    "import seaborn as sns  # Importing seaborn for enhanced visualizations\n",
    "\n",
    "# Load and preprocess data\n",
    "(x_train, y_train), (x_test, y_test) = tf.keras.datasets.cifar10.load_data()  # Loading the CIFAR-10 dataset\n",
    "x_train, x_test = x_train / 255.0, x_test / 255.0  # Normalizing the pixel values to the range [0, 1]\n",
    "y_train = y_train.flatten()  # Flattening the training labels\n",
    "y_test = y_test.flatten()  # Flattening the test labels\n",
    "\n",
    "# Use a smaller subset of the data for testing\n",
    "x_train_small = x_train[:1000]  # Using the first 1000 training images\n",
    "y_train_small = y_train[:1000]  # Using the first 1000 training labels\n",
    "x_test_small = x_test[:200]  # Using the first 200 test images\n",
    "y_test_small = y_test[:200]  # Using the first 200 test labels\n",
    "\n",
    "# Resize images to (224, 224) for VGG16\n",
    "x_train_small = np.array([tf.image.resize(img, [224, 224]) for img in x_train_small])  # Resizing training images to (224, 224)\n",
    "x_test_small = np.array([tf.image.resize(img, [224, 224]) for img in x_test_small])  # Resizing test images to (224, 224)\n",
    "\n",
    "# Data Augmentation\n",
    "datagen = ImageDataGenerator(  # Creating an ImageDataGenerator for data augmentation\n",
    "    width_shift_range=0.1,  # Allowing horizontal shifts\n",
    "    height_shift_range=0.1,  # Allowing vertical shifts\n",
    "    horizontal_flip=True  # Allowing horizontal flips\n",
    ")\n",
    "datagen.fit(x_train_small)  # Fitting the data generator on the training data\n",
    "\n",
    "# Load pre-trained VGG16 model and add custom layers\n",
    "base_model = VGG16(weights='imagenet', include_top=False, input_shape=(224, 224, 3))  # Loading VGG16 with pre-trained weights and excluding the top classification layer\n",
    "x = base_model.output  # Getting the output of the base model\n",
    "x = GlobalAveragePooling2D()(x)  # Adding a global average pooling layer to reduce spatial dimensions\n",
    "x = Dense(128, activation='relu')(x)  # Adding a dense layer with 128 units and ReLU activation\n",
    "predictions = Dense(10, activation='softmax')(x)  # Adding the output layer with softmax activation\n",
    "\n",
    "model = Model(inputs=base_model.input, outputs=predictions)  # Creating the model\n",
    "\n",
    "# Freeze the base model layers\n",
    "for layer in base_model.layers:  # Iterating over the layers of the base model\n",
    "    layer.trainable = False  # Freezing the layers to prevent further training\n",
    "\n",
    "# Unfreeze the top layers\n",
    "for layer in base_model.layers[-4:]:  # Iterating over the last 4 layers of the base model\n",
    "    layer.trainable = True  # Unfreezing the layers for fine-tuning\n",
    "\n",
    "# Compile the model\n",
    "model.compile(optimizer=tf.keras.optimizers.Adam(learning_rate=1e-5), loss='sparse_categorical_crossentropy', metrics=['accuracy'])  # Compiling the model with Adam optimizer and sparse categorical cross-entropy loss\n",
    "\n",
    "# Learning Rate Scheduler\n",
    "def lr_scheduler(epoch, lr):  # Defining a learning rate schedule function\n",
    "    if epoch < 5:  # If epoch number is less than 5\n",
    "        return lr  # Return the current learning rate\n",
    "    else:  # Otherwise\n",
    "        return float(lr * tf.math.exp(-0.1))  # Reduce the learning rate by a factor of exp(-0.1)\n",
    "\n",
    "# Early Stopping\n",
    "early_stopping = EarlyStopping(monitor='val_loss', patience=5, restore_best_weights=True)  # Creating an EarlyStopping callback\n",
    "\n",
    "# K-Fold Cross-Validation\n",
    "kfold = KFold(n_splits=2, shuffle=True, random_state=42)  # Creating a KFold cross-validator with 2 splits\n",
    "fold_no = 1  # Initializing the fold number\n",
    "history = []  # Initializing a list to store the training history\n",
    "\n",
    "for train, val in kfold.split(x_train_small, y_train_small):  # Iterating over the folds\n",
    "    print(f'Fold {fold_no}')  # Printing the current fold number\n",
    "    \n",
    "    # Train the model with reduced batch size and fewer epochs\n",
    "    history.append(model.fit(  # Training the model\n",
    "        datagen.flow(x_train_small[train], y_train_small[train], batch_size=16),  # Using the data generator to generate augmented data with a batch size of 16\n",
    "        epochs=10,  # Number of epochs to train\n",
    "        validation_data=(x_train_small[val], y_train_small[val]),  # Validation data\n",
    "        callbacks=[LearningRateScheduler(lr_scheduler), early_stopping],  # Using the defined callbacks\n",
    "        verbose=1  # Verbosity level\n",
    "    ))\n",
    "    \n",
    "    fold_no += 1  # Incrementing the fold number\n",
    "\n",
    "# Evaluate model on test set\n",
    "test_loss, test_accuracy = model.evaluate(x_test_small, y_test_small, verbose=0)  # Evaluating the model on the test set\n",
    "print(f'Test Accuracy: {test_accuracy}')  # Printing the test accuracy\n",
    "\n",
    "# Calculate additional metrics\n",
    "y_pred = model.predict(x_test_small)  # Predicting on the test set\n",
    "y_pred_classes = np.argmax(y_pred, axis=1)  # Getting the predicted classes\n",
    "\n",
    "conf_matrix = confusion_matrix(y_test_small, y_pred_classes)  # Calculating the confusion matrix\n",
    "precision = precision_score(y_test_small, y_pred_classes, average='weighted')  # Calculating the precision\n",
    "recall = recall_score(y_test_small, y_pred_classes, average='weighted')  # Calculating the recall\n",
    "f1 = f1_score(y_test_small, y_pred_classes, average='weighted')  # Calculating the F1-score\n",
    "\n",
    "# Ensure y_pred are probabilities\n",
    "y_pred_prob = tf.nn.softmax(y_pred, axis=1).numpy()  # Converting the predictions to probabilities\n",
    "roc_auc = roc_auc_score(y_test_small, y_pred_prob, multi_class='ovr')  # Calculating the ROC-AUC score\n",
    "\n",
    "print(f'Precision: {precision}')  # Printing the precision\n",
    "print(f'Recall: {recall}')  # Printing the recall\n",
    "print(f'F1-Score: {f1}')  # Printing the F1-score\n",
    "print(f'ROC-AUC: {roc_auc}')  # Printing the ROC-AUC score\n",
    "\n",
    "# Visualize confusion matrix\n",
    "plt.figure(figsize=(10, 7))  # Creating a figure for plotting\n",
    "sns.heatmap(conf_matrix, annot=True, fmt='d', cmap='Blues', xticklabels=range(10), yticklabels=range(10))  # Plotting the confusion matrix\n",
    "plt.xlabel('Predicted')  # Setting the x-axis label\n",
    "plt.ylabel('True')  # Setting the y-axis label\n",
    "plt.title('Confusion Matrix')  # Setting the title\n",
    "plt.show()  # Displaying the plot"
   ]
  },
  {
   "cell_type": "code",
   "execution_count": 4,
   "metadata": {},
   "outputs": [
    {
     "name": "stdout",
     "output_type": "stream",
     "text": [
      "Fold 1\n",
      "Epoch 1/10\n"
     ]
    },
    {
     "name": "stderr",
     "output_type": "stream",
     "text": [
      "/home/matt/CIFAR10_CNN_Project/venv/lib/python3.12/site-packages/keras/src/trainers/data_adapters/py_dataset_adapter.py:122: UserWarning: Your `PyDataset` class should call `super().__init__(**kwargs)` in its constructor. `**kwargs` can include `workers`, `use_multiprocessing`, `max_queue_size`. Do not pass these arguments to `fit()`, as they will be ignored.\n",
      "  self._warn_if_super_not_called()\n"
     ]
    },
    {
     "name": "stdout",
     "output_type": "stream",
     "text": [
      "\u001b[1m25/32\u001b[0m \u001b[32m━━━━━━━━━━━━━━━\u001b[0m\u001b[37m━━━━━\u001b[0m \u001b[1m1s\u001b[0m 192ms/step - accuracy: 0.0610 - loss: 2.5585"
     ]
    },
    {
     "name": "stderr",
     "output_type": "stream",
     "text": [
      "2024-09-02 19:49:37.261198: I external/local_xla/xla/stream_executor/cuda/cuda_asm_compiler.cc:393] ptxas warning : Registers are spilled to local memory in function 'gemm_fusion_dot_1169', 148 bytes spill stores, 148 bytes spill loads\n",
      "\n",
      "2024-09-02 19:49:40.934789: I external/local_xla/xla/stream_executor/cuda/cuda_asm_compiler.cc:393] ptxas warning : Registers are spilled to local memory in function 'gemm_fusion_dot_1169', 12 bytes spill stores, 12 bytes spill loads\n",
      "\n",
      "2024-09-02 19:49:40.993184: I external/local_xla/xla/stream_executor/cuda/cuda_asm_compiler.cc:393] ptxas warning : Registers are spilled to local memory in function 'gemm_fusion_dot_1169', 192 bytes spill stores, 192 bytes spill loads\n",
      "\n"
     ]
    },
    {
     "name": "stdout",
     "output_type": "stream",
     "text": [
      "\u001b[1m32/32\u001b[0m \u001b[32m━━━━━━━━━━━━━━━━━━━━\u001b[0m\u001b[37m\u001b[0m \u001b[1m19s\u001b[0m 389ms/step - accuracy: 0.0636 - loss: 2.5439 - val_accuracy: 0.0920 - val_loss: 2.7549 - learning_rate: 1.0000e-05\n",
      "Epoch 2/10\n",
      "\u001b[1m32/32\u001b[0m \u001b[32m━━━━━━━━━━━━━━━━━━━━\u001b[0m\u001b[37m\u001b[0m \u001b[1m2s\u001b[0m 53ms/step - accuracy: 0.1397 - loss: 2.3668 - val_accuracy: 0.1100 - val_loss: 2.5459 - learning_rate: 1.0000e-05\n",
      "Epoch 3/10\n",
      "\u001b[1m32/32\u001b[0m \u001b[32m━━━━━━━━━━━━━━━━━━━━\u001b[0m\u001b[37m\u001b[0m \u001b[1m2s\u001b[0m 49ms/step - accuracy: 0.1536 - loss: 2.2000 - val_accuracy: 0.1320 - val_loss: 2.3781 - learning_rate: 1.0000e-05\n",
      "Epoch 4/10\n",
      "\u001b[1m32/32\u001b[0m \u001b[32m━━━━━━━━━━━━━━━━━━━━\u001b[0m\u001b[37m\u001b[0m \u001b[1m2s\u001b[0m 47ms/step - accuracy: 0.2253 - loss: 2.1189 - val_accuracy: 0.1720 - val_loss: 2.2356 - learning_rate: 1.0000e-05\n",
      "Epoch 5/10\n",
      "\u001b[1m32/32\u001b[0m \u001b[32m━━━━━━━━━━━━━━━━━━━━\u001b[0m\u001b[37m\u001b[0m \u001b[1m2s\u001b[0m 50ms/step - accuracy: 0.3022 - loss: 1.9952 - val_accuracy: 0.2240 - val_loss: 2.1165 - learning_rate: 1.0000e-05\n",
      "Epoch 6/10\n",
      "\u001b[1m32/32\u001b[0m \u001b[32m━━━━━━━━━━━━━━━━━━━━\u001b[0m\u001b[37m\u001b[0m \u001b[1m2s\u001b[0m 50ms/step - accuracy: 0.4102 - loss: 1.8691 - val_accuracy: 0.2740 - val_loss: 2.0237 - learning_rate: 9.0484e-06\n",
      "Epoch 7/10\n",
      "\u001b[1m32/32\u001b[0m \u001b[32m━━━━━━━━━━━━━━━━━━━━\u001b[0m\u001b[37m\u001b[0m \u001b[1m2s\u001b[0m 53ms/step - accuracy: 0.5121 - loss: 1.7234 - val_accuracy: 0.3200 - val_loss: 1.9449 - learning_rate: 8.1873e-06\n",
      "Epoch 8/10\n",
      "\u001b[1m32/32\u001b[0m \u001b[32m━━━━━━━━━━━━━━━━━━━━\u001b[0m\u001b[37m\u001b[0m \u001b[1m2s\u001b[0m 54ms/step - accuracy: 0.5217 - loss: 1.7243 - val_accuracy: 0.3460 - val_loss: 1.8791 - learning_rate: 7.4082e-06\n",
      "Epoch 9/10\n",
      "\u001b[1m32/32\u001b[0m \u001b[32m━━━━━━━━━━━━━━━━━━━━\u001b[0m\u001b[37m\u001b[0m \u001b[1m2s\u001b[0m 49ms/step - accuracy: 0.5466 - loss: 1.6401 - val_accuracy: 0.3680 - val_loss: 1.8269 - learning_rate: 6.7032e-06\n",
      "Epoch 10/10\n",
      "\u001b[1m32/32\u001b[0m \u001b[32m━━━━━━━━━━━━━━━━━━━━\u001b[0m\u001b[37m\u001b[0m \u001b[1m2s\u001b[0m 50ms/step - accuracy: 0.5264 - loss: 1.6181 - val_accuracy: 0.3860 - val_loss: 1.7811 - learning_rate: 6.0653e-06\n",
      "Fold 2\n",
      "Epoch 1/10\n",
      "\u001b[1m32/32\u001b[0m \u001b[32m━━━━━━━━━━━━━━━━━━━━\u001b[0m\u001b[37m\u001b[0m \u001b[1m2s\u001b[0m 60ms/step - accuracy: 0.4565 - loss: 1.7730 - val_accuracy: 0.5640 - val_loss: 1.4883 - learning_rate: 6.0653e-06\n",
      "Epoch 2/10\n",
      "\u001b[1m32/32\u001b[0m \u001b[32m━━━━━━━━━━━━━━━━━━━━\u001b[0m\u001b[37m\u001b[0m \u001b[1m2s\u001b[0m 51ms/step - accuracy: 0.4351 - loss: 1.7127 - val_accuracy: 0.5800 - val_loss: 1.4494 - learning_rate: 6.0653e-06\n",
      "Epoch 3/10\n",
      "\u001b[1m32/32\u001b[0m \u001b[32m━━━━━━━━━━━━━━━━━━━━\u001b[0m\u001b[37m\u001b[0m \u001b[1m2s\u001b[0m 53ms/step - accuracy: 0.4404 - loss: 1.6501 - val_accuracy: 0.6060 - val_loss: 1.4120 - learning_rate: 6.0653e-06\n",
      "Epoch 4/10\n",
      "\u001b[1m32/32\u001b[0m \u001b[32m━━━━━━━━━━━━━━━━━━━━\u001b[0m\u001b[37m\u001b[0m \u001b[1m2s\u001b[0m 49ms/step - accuracy: 0.5333 - loss: 1.6445 - val_accuracy: 0.6160 - val_loss: 1.3803 - learning_rate: 6.0653e-06\n",
      "Epoch 5/10\n",
      "\u001b[1m32/32\u001b[0m \u001b[32m━━━━━━━━━━━━━━━━━━━━\u001b[0m\u001b[37m\u001b[0m \u001b[1m2s\u001b[0m 49ms/step - accuracy: 0.5509 - loss: 1.5857 - val_accuracy: 0.6200 - val_loss: 1.3473 - learning_rate: 6.0653e-06\n",
      "Epoch 6/10\n",
      "\u001b[1m32/32\u001b[0m \u001b[32m━━━━━━━━━━━━━━━━━━━━\u001b[0m\u001b[37m\u001b[0m \u001b[1m2s\u001b[0m 51ms/step - accuracy: 0.4899 - loss: 1.6165 - val_accuracy: 0.6200 - val_loss: 1.3208 - learning_rate: 5.4881e-06\n",
      "Epoch 7/10\n",
      "\u001b[1m32/32\u001b[0m \u001b[32m━━━━━━━━━━━━━━━━━━━━\u001b[0m\u001b[37m\u001b[0m \u001b[1m2s\u001b[0m 52ms/step - accuracy: 0.5586 - loss: 1.5157 - val_accuracy: 0.6280 - val_loss: 1.2980 - learning_rate: 4.9659e-06\n",
      "Epoch 8/10\n",
      "\u001b[1m32/32\u001b[0m \u001b[32m━━━━━━━━━━━━━━━━━━━━\u001b[0m\u001b[37m\u001b[0m \u001b[1m2s\u001b[0m 51ms/step - accuracy: 0.5788 - loss: 1.4776 - val_accuracy: 0.6360 - val_loss: 1.2771 - learning_rate: 4.4933e-06\n",
      "Epoch 9/10\n",
      "\u001b[1m32/32\u001b[0m \u001b[32m━━━━━━━━━━━━━━━━━━━━\u001b[0m\u001b[37m\u001b[0m \u001b[1m2s\u001b[0m 50ms/step - accuracy: 0.5965 - loss: 1.4387 - val_accuracy: 0.6400 - val_loss: 1.2605 - learning_rate: 4.0657e-06\n",
      "Epoch 10/10\n",
      "\u001b[1m32/32\u001b[0m \u001b[32m━━━━━━━━━━━━━━━━━━━━\u001b[0m\u001b[37m\u001b[0m \u001b[1m2s\u001b[0m 50ms/step - accuracy: 0.6060 - loss: 1.4112 - val_accuracy: 0.6460 - val_loss: 1.2450 - learning_rate: 3.6788e-06\n"
     ]
    },
    {
     "name": "stderr",
     "output_type": "stream",
     "text": [
      "2024-09-02 19:50:22.550057: I external/local_xla/xla/stream_executor/cuda/cuda_asm_compiler.cc:393] ptxas warning : Registers are spilled to local memory in function 'gemm_fusion_dot_1169', 8 bytes spill stores, 8 bytes spill loads\n",
      "\n"
     ]
    },
    {
     "name": "stdout",
     "output_type": "stream",
     "text": [
      "Test Accuracy: 0.5699999928474426\n",
      "WARNING:tensorflow:5 out of the last 15 calls to <function TensorFlowTrainer.make_predict_function.<locals>.one_step_on_data_distributed at 0x7fdf2a131300> triggered tf.function retracing. Tracing is expensive and the excessive number of tracings could be due to (1) creating @tf.function repeatedly in a loop, (2) passing tensors with different shapes, (3) passing Python objects instead of tensors. For (1), please define your @tf.function outside of the loop. For (2), @tf.function has reduce_retracing=True option that can avoid unnecessary retracing. For (3), please refer to https://www.tensorflow.org/guide/function#controlling_retracing and https://www.tensorflow.org/api_docs/python/tf/function for  more details.\n",
      "\u001b[1m7/7\u001b[0m \u001b[32m━━━━━━━━━━━━━━━━━━━━\u001b[0m\u001b[37m\u001b[0m \u001b[1m2s\u001b[0m 199ms/step\n",
      "Precision: 0.5869781144781144\n",
      "Recall: 0.57\n",
      "F1-Score: 0.5679252766473905\n",
      "ROC-AUC: 0.8973518931972926\n"
     ]
    },
    {
     "data": {
      "image/png": "[encoded data removed]",
      "text/plain": [
       "<Figure size 1000x700 with 2 Axes>"
      ]
     },
     "metadata": {},
     "output_type": "display_data"
    }
   ],
   "source": [
    "# cell6: Transfer learning using MobileNetV2 with K-Fold Cross-Validation for robust evaluation\n",
    "\n",
    "import numpy as np  # Importing numpy for numerical operations\n",
    "import tensorflow as tf  # Importing TensorFlow for deep learning\n",
    "from tensorflow.keras.applications import MobileNetV2  # Importing MobileNetV2 pre-trained model\n",
    "from tensorflow.keras.models import Model  # Importing Model class for creating a model\n",
    "from tensorflow.keras.layers import Dense, GlobalAveragePooling2D  # Importing layers for building the model\n",
    "from tensorflow.keras.callbacks import LearningRateScheduler, EarlyStopping  # Importing callbacks for learning rate scheduling and early stopping\n",
    "from tensorflow.keras.preprocessing.image import ImageDataGenerator  # Importing ImageDataGenerator for data augmentation\n",
    "from sklearn.model_selection import KFold  # Importing KFold for cross-validation\n",
    "from sklearn.metrics import confusion_matrix, precision_score, recall_score, f1_score, roc_auc_score  # Importing metrics for evaluation\n",
    "import matplotlib.pyplot as plt  # Importing matplotlib for plotting\n",
    "import seaborn as sns  # Importing seaborn for enhanced visualizations\n",
    "\n",
    "# Load and preprocess data\n",
    "(x_train, y_train), (x_test, y_test) = tf.keras.datasets.cifar10.load_data()  # Loading the CIFAR-10 dataset\n",
    "x_train, x_test = x_train / 255.0, x_test / 255.0  # Normalizing the pixel values to the range [0, 1]\n",
    "y_train = y_train.flatten()  # Flattening the training labels\n",
    "y_test = y_test.flatten()  # Flattening the test labels\n",
    "\n",
    "# Use a smaller subset of the data for testing\n",
    "x_train_small = x_train[:1000]  # Using the first 1000 training images\n",
    "y_train_small = y_train[:1000]  # Using the first 1000 training labels\n",
    "x_test_small = x_test[:200]  # Using the first 200 test images\n",
    "y_test_small = y_test[:200]  # Using the first 200 test labels\n",
    "\n",
    "# Resize images to (224, 224) for MobileNetV2\n",
    "x_train_small = np.array([tf.image.resize(img, [224, 224]) for img in x_train_small])  # Resizing training images to (224, 224)\n",
    "x_test_small = np.array([tf.image.resize(img, [224, 224]) for img in x_test_small])  # Resizing test images to (224, 224)\n",
    "\n",
    "# Data Augmentation\n",
    "datagen = ImageDataGenerator(  # Creating an ImageDataGenerator for data augmentation\n",
    "    width_shift_range=0.1,  # Allowing horizontal shifts\n",
    "    height_shift_range=0.1,  # Allowing vertical shifts\n",
    "    horizontal_flip=True  # Allowing horizontal flips\n",
    ")\n",
    "datagen.fit(x_train_small)  # Fitting the data generator on the training data\n",
    "\n",
    "# Load pre-trained MobileNetV2 model and add custom layers\n",
    "base_model = MobileNetV2(weights='imagenet', include_top=False, input_shape=(224, 224, 3))  # Loading MobileNetV2 with pre-trained weights and excluding the top classification layer\n",
    "x = base_model.output  # Getting the output of the base model\n",
    "x = GlobalAveragePooling2D()(x)  # Adding a global average pooling layer to reduce spatial dimensions\n",
    "x = Dense(128, activation='relu')(x)  # Adding a dense layer with 128 units and ReLU activation\n",
    "predictions = Dense(10, activation='softmax')(x)  # Adding the output layer with softmax activation\n",
    "\n",
    "model = Model(inputs=base_model.input, outputs=predictions)  # Creating the model\n",
    "\n",
    "# Freeze the base model layers\n",
    "for layer in base_model.layers:  # Iterating over the layers of the base model\n",
    "    layer.trainable = False  # Freezing the layers to prevent further training\n",
    "\n",
    "# Unfreeze the top layers\n",
    "for layer in base_model.layers[-4:]:  # Iterating over the last 4 layers of the base model\n",
    "    layer.trainable = True  # Unfreezing the layers for fine-tuning\n",
    "\n",
    "# Compile the model\n",
    "model.compile(optimizer=tf.keras.optimizers.Adam(learning_rate=1e-5), loss='sparse_categorical_crossentropy', metrics=['accuracy'])  # Compiling the model with Adam optimizer and sparse categorical cross-entropy loss\n",
    "\n",
    "# Learning Rate Scheduler\n",
    "def lr_scheduler(epoch, lr):  # Defining a learning rate schedule function\n",
    "    if epoch < 5:  # If epoch number is less than 5\n",
    "        return lr  # Return the current learning rate\n",
    "    else:  # Otherwise\n",
    "        return float(lr * tf.math.exp(-0.1))  # Reduce the learning rate by a factor of exp(-0.1)\n",
    "\n",
    "# Early Stopping\n",
    "early_stopping = EarlyStopping(monitor='val_loss', patience=5, restore_best_weights=True)  # Creating an EarlyStopping callback\n",
    "\n",
    "# K-Fold Cross-Validation\n",
    "kfold = KFold(n_splits=2, shuffle=True, random_state=42)  # Creating a KFold cross-validator with 2 splits\n",
    "fold_no = 1  # Initializing the fold number\n",
    "history = []  # Initializing a list to store the training history\n",
    "\n",
    "for train, val in kfold.split(x_train_small, y_train_small):  # Iterating over the folds\n",
    "    print(f'Fold {fold_no}')  # Printing the current fold number\n",
    "    \n",
    "    # Train the model with reduced batch size and fewer epochs\n",
    "    history.append(model.fit(  # Training the model\n",
    "        datagen.flow(x_train_small[train], y_train_small[train], batch_size=16),  # Using the data generator to generate augmented data with a batch size of 16\n",
    "        epochs=10,  # Number of epochs to train\n",
    "        validation_data=(x_train_small[val], y_train_small[val]),  # Validation data\n",
    "        callbacks=[LearningRateScheduler(lr_scheduler), early_stopping],  # Using the defined callbacks\n",
    "        verbose=1  # Verbosity level\n",
    "    ))\n",
    "    \n",
    "    fold_no += 1  # Incrementing the fold number\n",
    "\n",
    "# Evaluate model on test set\n",
    "test_loss, test_accuracy = model.evaluate(x_test_small, y_test_small, verbose=0)  # Evaluating the model on the test set\n",
    "print(f'Test Accuracy: {test_accuracy}')  # Printing the test accuracy\n",
    "\n",
    "# Calculate additional metrics\n",
    "y_pred = model.predict(x_test_small)  # Predicting on the test set\n",
    "y_pred_classes = np.argmax(y_pred, axis=1)  # Getting the predicted classes\n",
    "\n",
    "conf_matrix = confusion_matrix(y_test_small, y_pred_classes)  # Calculating the confusion matrix\n",
    "precision = precision_score(y_test_small, y_pred_classes, average='weighted')  # Calculating the precision\n",
    "recall = recall_score(y_test_small, y_pred_classes, average='weighted')  # Calculating the recall\n",
    "f1 = f1_score(y_test_small, y_pred_classes, average='weighted')  # Calculating the F1-score\n",
    "\n",
    "# Ensure y_pred are probabilities\n",
    "y_pred_prob = tf.nn.softmax(y_pred, axis=1).numpy()  # Converting the predictions to probabilities\n",
    "roc_auc = roc_auc_score(y_test_small, y_pred_prob, multi_class='ovr')  # Calculating the ROC-AUC score\n",
    "\n",
    "print(f'Precision: {precision}')  # Printing the precision\n",
    "print(f'Recall: {recall}')  # Printing the recall\n",
    "print(f'F1-Score: {f1}')  # Printing the F1-score\n",
    "print(f'ROC-AUC: {roc_auc}')  # Printing the ROC-AUC score\n",
    "\n",
    "# Visualize confusion matrix\n",
    "plt.figure(figsize=(10, 7))  # Creating a figure for plotting\n",
    "sns.heatmap(conf_matrix, annot=True, fmt='d', cmap='Blues', xticklabels=range(10), yticklabels=range(10))  # Plotting the confusion matrix\n",
    "plt.xlabel('Predicted')  # Setting the x-axis label\n",
    "plt.ylabel('True')  # Setting the y-axis label\n",
    "plt.title('Confusion Matrix')  # Setting the title\n",
    "plt.show()  # Displaying the plot"
   ]
  },
  {
   "cell_type": "code",
   "execution_count": 9,
   "metadata": {},
   "outputs": [
    {
     "name": "stdout",
     "output_type": "stream",
     "text": [
      "Fold 1\n",
      "Epoch 1/10\n"
     ]
    },
    {
     "name": "stderr",
     "output_type": "stream",
     "text": [
      "/home/matt/CIFAR10_CNN_Project/venv/lib/python3.12/site-packages/keras/src/trainers/data_adapters/py_dataset_adapter.py:122: UserWarning: Your `PyDataset` class should call `super().__init__(**kwargs)` in its constructor. `**kwargs` can include `workers`, `use_multiprocessing`, `max_queue_size`. Do not pass these arguments to `fit()`, as they will be ignored.\n",
      "  self._warn_if_super_not_called()\n"
     ]
    },
    {
     "name": "stdout",
     "output_type": "stream",
     "text": [
      "\u001b[1m32/32\u001b[0m \u001b[32m━━━━━━━━━━━━━━━━━━━━\u001b[0m\u001b[37m\u001b[0m \u001b[1m10s\u001b[0m 192ms/step - accuracy: 0.0931 - loss: 2.7021 - val_accuracy: 0.1340 - val_loss: 2.5615 - learning_rate: 1.0000e-05\n",
      "Epoch 2/10\n",
      "\u001b[1m32/32\u001b[0m \u001b[32m━━━━━━━━━━━━━━━━━━━━\u001b[0m\u001b[37m\u001b[0m \u001b[1m2s\u001b[0m 53ms/step - accuracy: 0.1439 - loss: 2.5181 - val_accuracy: 0.1540 - val_loss: 2.4210 - learning_rate: 1.0000e-05\n",
      "Epoch 3/10\n",
      "\u001b[1m32/32\u001b[0m \u001b[32m━━━━━━━━━━━━━━━━━━━━\u001b[0m\u001b[37m\u001b[0m \u001b[1m2s\u001b[0m 49ms/step - accuracy: 0.1506 - loss: 2.4717 - val_accuracy: 0.1900 - val_loss: 2.3042 - learning_rate: 1.0000e-05\n",
      "Epoch 4/10\n",
      "\u001b[1m32/32\u001b[0m \u001b[32m━━━━━━━━━━━━━━━━━━━━\u001b[0m\u001b[37m\u001b[0m \u001b[1m2s\u001b[0m 48ms/step - accuracy: 0.2460 - loss: 2.2579 - val_accuracy: 0.2040 - val_loss: 2.2046 - learning_rate: 1.0000e-05\n",
      "Epoch 5/10\n",
      "\u001b[1m32/32\u001b[0m \u001b[32m━━━━━━━━━━━━━━━━━━━━\u001b[0m\u001b[37m\u001b[0m \u001b[1m2s\u001b[0m 53ms/step - accuracy: 0.2121 - loss: 2.2450 - val_accuracy: 0.2480 - val_loss: 2.1167 - learning_rate: 1.0000e-05\n",
      "Epoch 6/10\n",
      "\u001b[1m32/32\u001b[0m \u001b[32m━━━━━━━━━━━━━━━━━━━━\u001b[0m\u001b[37m\u001b[0m \u001b[1m2s\u001b[0m 47ms/step - accuracy: 0.2318 - loss: 2.2102 - val_accuracy: 0.3020 - val_loss: 2.0467 - learning_rate: 9.0484e-06\n",
      "Epoch 7/10\n",
      "\u001b[1m32/32\u001b[0m \u001b[32m━━━━━━━━━━━━━━━━━━━━\u001b[0m\u001b[37m\u001b[0m \u001b[1m2s\u001b[0m 51ms/step - accuracy: 0.2346 - loss: 2.1206 - val_accuracy: 0.3280 - val_loss: 1.9880 - learning_rate: 8.1873e-06\n",
      "Epoch 8/10\n",
      "\u001b[1m32/32\u001b[0m \u001b[32m━━━━━━━━━━━━━━━━━━━━\u001b[0m\u001b[37m\u001b[0m \u001b[1m2s\u001b[0m 50ms/step - accuracy: 0.2632 - loss: 2.0971 - val_accuracy: 0.3500 - val_loss: 1.9384 - learning_rate: 7.4082e-06\n",
      "Epoch 9/10\n",
      "\u001b[1m32/32\u001b[0m \u001b[32m━━━━━━━━━━━━━━━━━━━━\u001b[0m\u001b[37m\u001b[0m \u001b[1m2s\u001b[0m 48ms/step - accuracy: 0.2819 - loss: 1.9725 - val_accuracy: 0.3740 - val_loss: 1.8951 - learning_rate: 6.7032e-06\n",
      "Epoch 10/10\n",
      "\u001b[1m32/32\u001b[0m \u001b[32m━━━━━━━━━━━━━━━━━━━━\u001b[0m\u001b[37m\u001b[0m \u001b[1m2s\u001b[0m 48ms/step - accuracy: 0.2586 - loss: 2.0023 - val_accuracy: 0.3900 - val_loss: 1.8604 - learning_rate: 6.0653e-06\n",
      "Fold 2\n",
      "Epoch 1/10\n",
      "\u001b[1m32/32\u001b[0m \u001b[32m━━━━━━━━━━━━━━━━━━━━\u001b[0m\u001b[37m\u001b[0m \u001b[1m6s\u001b[0m 167ms/step - accuracy: 0.2174 - loss: 2.1031 - val_accuracy: 0.4180 - val_loss: 1.6804 - learning_rate: 6.0653e-06\n",
      "Epoch 2/10\n",
      "\u001b[1m32/32\u001b[0m \u001b[32m━━━━━━━━━━━━━━━━━━━━\u001b[0m\u001b[37m\u001b[0m \u001b[1m2s\u001b[0m 48ms/step - accuracy: 0.2871 - loss: 2.0593 - val_accuracy: 0.4360 - val_loss: 1.6499 - learning_rate: 6.0653e-06\n",
      "Epoch 3/10\n",
      "\u001b[1m32/32\u001b[0m \u001b[32m━━━━━━━━━━━━━━━━━━━━\u001b[0m\u001b[37m\u001b[0m \u001b[1m2s\u001b[0m 49ms/step - accuracy: 0.3179 - loss: 2.0153 - val_accuracy: 0.4480 - val_loss: 1.6222 - learning_rate: 6.0653e-06\n",
      "Epoch 4/10\n",
      "\u001b[1m32/32\u001b[0m \u001b[32m━━━━━━━━━━━━━━━━━━━━\u001b[0m\u001b[37m\u001b[0m \u001b[1m2s\u001b[0m 51ms/step - accuracy: 0.3141 - loss: 1.9805 - val_accuracy: 0.4740 - val_loss: 1.5954 - learning_rate: 6.0653e-06\n",
      "Epoch 5/10\n",
      "\u001b[1m32/32\u001b[0m \u001b[32m━━━━━━━━━━━━━━━━━━━━\u001b[0m\u001b[37m\u001b[0m \u001b[1m2s\u001b[0m 52ms/step - accuracy: 0.3432 - loss: 1.9064 - val_accuracy: 0.4960 - val_loss: 1.5688 - learning_rate: 6.0653e-06\n",
      "Epoch 6/10\n",
      "\u001b[1m32/32\u001b[0m \u001b[32m━━━━━━━━━━━━━━━━━━━━\u001b[0m\u001b[37m\u001b[0m \u001b[1m2s\u001b[0m 49ms/step - accuracy: 0.3245 - loss: 1.9275 - val_accuracy: 0.5120 - val_loss: 1.5470 - learning_rate: 5.4881e-06\n",
      "Epoch 7/10\n",
      "\u001b[1m32/32\u001b[0m \u001b[32m━━━━━━━━━━━━━━━━━━━━\u001b[0m\u001b[37m\u001b[0m \u001b[1m2s\u001b[0m 47ms/step - accuracy: 0.3348 - loss: 1.8857 - val_accuracy: 0.5220 - val_loss: 1.5271 - learning_rate: 4.9659e-06\n",
      "Epoch 8/10\n",
      "\u001b[1m32/32\u001b[0m \u001b[32m━━━━━━━━━━━━━━━━━━━━\u001b[0m\u001b[37m\u001b[0m \u001b[1m2s\u001b[0m 50ms/step - accuracy: 0.3637 - loss: 1.8141 - val_accuracy: 0.5240 - val_loss: 1.5098 - learning_rate: 4.4933e-06\n",
      "Epoch 9/10\n",
      "\u001b[1m32/32\u001b[0m \u001b[32m━━━━━━━━━━━━━━━━━━━━\u001b[0m\u001b[37m\u001b[0m \u001b[1m2s\u001b[0m 50ms/step - accuracy: 0.3117 - loss: 1.8963 - val_accuracy: 0.5260 - val_loss: 1.4950 - learning_rate: 4.0657e-06\n",
      "Epoch 10/10\n",
      "\u001b[1m32/32\u001b[0m \u001b[32m━━━━━━━━━━━━━━━━━━━━\u001b[0m\u001b[37m\u001b[0m \u001b[1m2s\u001b[0m 48ms/step - accuracy: 0.3362 - loss: 1.8767 - val_accuracy: 0.5320 - val_loss: 1.4824 - learning_rate: 3.6788e-06\n",
      "Test Accuracy: 0.4650000035762787\n",
      "\u001b[1m7/7\u001b[0m \u001b[32m━━━━━━━━━━━━━━━━━━━━\u001b[0m\u001b[37m\u001b[0m \u001b[1m2s\u001b[0m 182ms/step\n",
      "Precision: 0.4773119939972881\n",
      "Recall: 0.465\n",
      "F1-Score: 0.44683877724308074\n",
      "ROC-AUC: 0.8682563313454572\n"
     ]
    },
    {
     "data": {
      "image/png": "[encoded data removed]",
      "text/plain": [
       "<Figure size 1000x700 with 2 Axes>"
      ]
     },
     "metadata": {},
     "output_type": "display_data"
    }
   ],
   "source": [
    "# cell7: Transfer learning using MobileNetV2 with dropout regularization and K-Fold Cross-Validation for robust evaluation\n",
    "\n",
    "import numpy as np  # Importing numpy for numerical operations\n",
    "import tensorflow as tf  # Importing TensorFlow for deep learning\n",
    "from tensorflow.keras.applications import MobileNetV2  # Importing MobileNetV2 pre-trained model\n",
    "from tensorflow.keras.models import Model  # Importing Model class for creating a model\n",
    "from tensorflow.keras.layers import Dense, GlobalAveragePooling2D, Dropout  # Importing layers for building the model\n",
    "from tensorflow.keras.callbacks import LearningRateScheduler, EarlyStopping  # Importing callbacks for learning rate scheduling and early stopping\n",
    "from tensorflow.keras.preprocessing.image import ImageDataGenerator  # Importing ImageDataGenerator for data augmentation\n",
    "from sklearn.model_selection import KFold  # Importing KFold for cross-validation\n",
    "from sklearn.metrics import confusion_matrix, precision_score, recall_score, f1_score, roc_auc_score  # Importing metrics for evaluation\n",
    "import matplotlib.pyplot as plt  # Importing matplotlib for plotting\n",
    "import seaborn as sns  # Importing seaborn for enhanced visualizations\n",
    "\n",
    "# Load and preprocess data\n",
    "(x_train, y_train), (x_test, y_test) = tf.keras.datasets.cifar10.load_data()  # Loading the CIFAR-10 dataset\n",
    "x_train, x_test = x_train / 255.0, x_test / 255.0  # Normalizing the pixel values to the range [0, 1]\n",
    "y_train = y_train.flatten()  # Flattening the training labels\n",
    "y_test = y_test.flatten()  # Flattening the test labels\n",
    "\n",
    "# Use a smaller subset of the data for testing\n",
    "x_train_small = x_train[:1000]  # Using the first 1000 training images\n",
    "y_train_small = y_train[:1000]  # Using the first 1000 training labels\n",
    "x_test_small = x_test[:200]  # Using the first 200 test images\n",
    "y_test_small = y_test[:200]  # Using the first 200 test labels\n",
    "\n",
    "# Resize images to (224, 224) for MobileNetV2\n",
    "x_train_small = np.array([tf.image.resize(img, [224, 224]) for img in x_train_small])  # Resizing training images to (224, 224)\n",
    "x_test_small = np.array([tf.image.resize(img, [224, 224]) for img in x_test_small])  # Resizing test images to (224, 224)\n",
    "\n",
    "# Data Augmentation\n",
    "datagen = ImageDataGenerator(  # Creating an ImageDataGenerator for data augmentation\n",
    "    width_shift_range=0.1,  # Allowing horizontal shifts\n",
    "    height_shift_range=0.1,  # Allowing vertical shifts\n",
    "    horizontal_flip=True  # Allowing horizontal flips\n",
    ")\n",
    "datagen.fit(x_train_small)  # Fitting the data generator on the training data\n",
    "\n",
    "# Load pre-trained MobileNetV2 model and add custom layers\n",
    "base_model = MobileNetV2(weights='imagenet', include_top=False, input_shape=(224, 224, 3))  # Loading MobileNetV2 with pre-trained weights and excluding the top classification layer\n",
    "x = base_model.output  # Getting the output of the base model\n",
    "x = GlobalAveragePooling2D()(x)  # Adding a global average pooling layer to reduce spatial dimensions\n",
    "x = Dense(128, activation='relu')(x)  # Adding a dense layer with 128 units and ReLU activation\n",
    "x = Dropout(0.5)(x)  # Adding dropout for regularization\n",
    "predictions = Dense(10, activation='softmax')(x)  # Adding the output layer with softmax activation\n",
    "\n",
    "model = Model(inputs=base_model.input, outputs=predictions)  # Creating the model\n",
    "\n",
    "# Freeze the base model layers\n",
    "for layer in base_model.layers:  # Iterating over the layers of the base model\n",
    "    layer.trainable = False  # Freezing the layers to prevent further training\n",
    "\n",
    "# Unfreeze the top layers\n",
    "for layer in base_model.layers[-4:]:  # Iterating over the last 4 layers of the base model\n",
    "    layer.trainable = True  # Unfreezing the layers for fine-tuning\n",
    "\n",
    "# Compile the model\n",
    "model.compile(optimizer=tf.keras.optimizers.Adam(learning_rate=1e-5), loss='sparse_categorical_crossentropy', metrics=['accuracy'])  # Compiling the model with Adam optimizer and sparse categorical cross-entropy loss\n",
    "\n",
    "# Learning Rate Scheduler\n",
    "def lr_scheduler(epoch, lr):  # Defining a learning rate schedule function\n",
    "    if epoch < 5:  # If epoch number is less than 5\n",
    "        return lr  # Return the current learning rate\n",
    "    else:  # Otherwise\n",
    "        return float(lr * tf.math.exp(-0.1))  # Reduce the learning rate by a factor of exp(-0.1)\n",
    "\n",
    "# Early Stopping\n",
    "early_stopping = EarlyStopping(monitor='val_loss', patience=5, restore_best_weights=True)  # Creating an EarlyStopping callback\n",
    "\n",
    "# K-Fold Cross-Validation\n",
    "kfold = KFold(n_splits=2, shuffle=True, random_state=42)  # Creating a KFold cross-validator with 2 splits\n",
    "fold_no = 1  # Initializing the fold number\n",
    "history = []  # Initializing a list to store the training history\n",
    "\n",
    "for train, val in kfold.split(x_train_small, y_train_small):  # Iterating over the folds\n",
    "    print(f'Fold {fold_no}')  # Printing the current fold number\n",
    "    \n",
    "    # Train the model with reduced batch size and fewer epochs\n",
    "    history.append(model.fit(  # Training the model\n",
    "        datagen.flow(x_train_small[train], y_train_small[train], batch_size=16),  # Using the data generator to generate augmented data with a batch size of 16\n",
    "        epochs=10,  # Number of epochs to train\n",
    "        validation_data=(x_train_small[val], y_train_small[val]),  # Validation data\n",
    "        callbacks=[LearningRateScheduler(lr_scheduler), early_stopping],  # Using the defined callbacks\n",
    "        verbose=1  # Verbosity level\n",
    "    ))\n",
    "    \n",
    "    fold_no += 1  # Incrementing the fold number\n",
    "\n",
    "# Evaluate model on test set\n",
    "test_loss, test_accuracy = model.evaluate(x_test_small, y_test_small, verbose=0)  # Evaluating the model on the test set\n",
    "print(f'Test Accuracy: {test_accuracy}')  # Printing the test accuracy\n",
    "\n",
    "# Calculate additional metrics\n",
    "y_pred = model.predict(x_test_small)  # Predicting on the test set\n",
    "y_pred_classes = np.argmax(y_pred, axis=1)  # Getting the predicted classes\n",
    "\n",
    "conf_matrix = confusion_matrix(y_test_small, y_pred_classes)  # Calculating the confusion matrix\n",
    "precision = precision_score(y_test_small, y_pred_classes, average='weighted')  # Calculating the precision\n",
    "recall = recall_score(y_test_small, y_pred_classes, average='weighted')  # Calculating the recall\n",
    "f1 = f1_score(y_test_small, y_pred_classes, average='weighted')  # Calculating the F1-score\n",
    "\n",
    "# Ensure y_pred are probabilities\n",
    "y_pred_prob = tf.nn.softmax(y_pred, axis=1).numpy()  # Converting the predictions to probabilities\n",
    "roc_auc = roc_auc_score(y_test_small, y_pred_prob, multi_class='ovr')  # Calculating the ROC-AUC score\n",
    "\n",
    "print(f'Precision: {precision}')  # Printing the precision\n",
    "print(f'Recall: {recall}')  # Printing the recall\n",
    "print(f'F1-Score: {f1}')  # Printing the F1-score\n",
    "print(f'ROC-AUC: {roc_auc}')  # Printing the ROC-AUC score\n",
    "\n",
    "# Visualize confusion matrix\n",
    "plt.figure(figsize=(10, 7))  # Creating a figure for plotting\n",
    "sns.heatmap(conf_matrix, annot=True, fmt='d', cmap='Blues', xticklabels=range(10), yticklabels=range(10))  # Plotting the confusion matrix\n",
    "plt.xlabel('Predicted')  # Setting the x-axis label\n",
    "plt.ylabel('True')  # Setting the y-axis label\n",
    "plt.title('Confusion Matrix')  # Setting the title\n",
    "plt.show()  # Displaying the plot"
   ]
  }
 ],
 "metadata": {
  "kernelspec": {
   "display_name": "venv",
   "language": "python",
   "name": "python3"
  },
  "language_info": {
   "codemirror_mode": {
    "name": "ipython",
    "version": 3
   },
   "file_extension": ".py",
   "mimetype": "text/x-python",
   "name": "python",
   "nbconvert_exporter": "python",
   "pygments_lexer": "ipython3",
   "version": "3.12.4"
  }
 },
 "nbformat": 4,
 "nbformat_minor": 2
}
